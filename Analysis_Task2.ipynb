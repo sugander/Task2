{
 "cells": [
  {
   "cell_type": "code",
   "execution_count": 1,
   "id": "f8eab778-1d50-47bf-8ecd-9f1a2b429766",
   "metadata": {},
   "outputs": [],
   "source": [
    "import pandas as pd"
   ]
  },
  {
   "cell_type": "code",
   "execution_count": 2,
   "id": "c0ca4203-4c9f-46c7-84fb-86da46646b19",
   "metadata": {},
   "outputs": [],
   "source": [
    "import numpy as np"
   ]
  },
  {
   "cell_type": "code",
   "execution_count": 3,
   "id": "ae555218-17c6-4200-af3c-9d5ba1d8537d",
   "metadata": {},
   "outputs": [],
   "source": [
    "import plotly.express as px"
   ]
  },
  {
   "cell_type": "code",
   "execution_count": 4,
   "id": "8df3f3e8-eaa4-44a0-b9f4-5bf1355df398",
   "metadata": {},
   "outputs": [],
   "source": [
    "from datetime import datetime"
   ]
  },
  {
   "cell_type": "code",
   "execution_count": 5,
   "id": "48d43463-d1cb-4762-9156-e12c82341df9",
   "metadata": {},
   "outputs": [],
   "source": [
    "import plotly.io as pio"
   ]
  },
  {
   "cell_type": "code",
   "execution_count": 8,
   "id": "667f5af3-2fab-4059-8d4e-c124479e5914",
   "metadata": {},
   "outputs": [],
   "source": [
    "# Loading datasets\n",
    "apps_df=pd.read_csv('Play Store Data_1.csv')\n",
    "reviews_df=pd.read_csv('User Reviews_1.csv')"
   ]
  },
  {
   "cell_type": "code",
   "execution_count": 9,
   "id": "bd94e120-9a55-4085-bc18-02cf0de4778b",
   "metadata": {},
   "outputs": [
    {
     "data": {
      "text/html": [
       "<div>\n",
       "<style scoped>\n",
       "    .dataframe tbody tr th:only-of-type {\n",
       "        vertical-align: middle;\n",
       "    }\n",
       "\n",
       "    .dataframe tbody tr th {\n",
       "        vertical-align: top;\n",
       "    }\n",
       "\n",
       "    .dataframe thead th {\n",
       "        text-align: right;\n",
       "    }\n",
       "</style>\n",
       "<table border=\"1\" class=\"dataframe\">\n",
       "  <thead>\n",
       "    <tr style=\"text-align: right;\">\n",
       "      <th></th>\n",
       "      <th>App</th>\n",
       "      <th>Category</th>\n",
       "      <th>Rating</th>\n",
       "      <th>Reviews</th>\n",
       "      <th>Size</th>\n",
       "      <th>Installs</th>\n",
       "      <th>Type</th>\n",
       "      <th>Price</th>\n",
       "      <th>Content Rating</th>\n",
       "      <th>Genres</th>\n",
       "      <th>Last Updated</th>\n",
       "      <th>Current Ver</th>\n",
       "      <th>Android Ver</th>\n",
       "    </tr>\n",
       "  </thead>\n",
       "  <tbody>\n",
       "    <tr>\n",
       "      <th>0</th>\n",
       "      <td>Photo Editor &amp; Candy Camera &amp; Grid &amp; ScrapBook</td>\n",
       "      <td>ART_AND_DESIGN</td>\n",
       "      <td>4.1</td>\n",
       "      <td>159</td>\n",
       "      <td>19M</td>\n",
       "      <td>10,000+</td>\n",
       "      <td>Free</td>\n",
       "      <td>0</td>\n",
       "      <td>Everyone</td>\n",
       "      <td>Art &amp; Design</td>\n",
       "      <td>January 7, 2018</td>\n",
       "      <td>1.0.0</td>\n",
       "      <td>4.0.3 and up</td>\n",
       "    </tr>\n",
       "    <tr>\n",
       "      <th>1</th>\n",
       "      <td>Coloring book moana</td>\n",
       "      <td>ART_AND_DESIGN</td>\n",
       "      <td>3.9</td>\n",
       "      <td>967</td>\n",
       "      <td>14M</td>\n",
       "      <td>500,000+</td>\n",
       "      <td>Free</td>\n",
       "      <td>0</td>\n",
       "      <td>Everyone</td>\n",
       "      <td>Art &amp; Design;Pretend Play</td>\n",
       "      <td>January 15, 2018</td>\n",
       "      <td>2.0.0</td>\n",
       "      <td>4.0.3 and up</td>\n",
       "    </tr>\n",
       "    <tr>\n",
       "      <th>2</th>\n",
       "      <td>U Launcher Lite – FREE Live Cool Themes, Hide ...</td>\n",
       "      <td>ART_AND_DESIGN</td>\n",
       "      <td>4.7</td>\n",
       "      <td>87510</td>\n",
       "      <td>8.7M</td>\n",
       "      <td>5,000,000+</td>\n",
       "      <td>Free</td>\n",
       "      <td>0</td>\n",
       "      <td>Everyone</td>\n",
       "      <td>Art &amp; Design</td>\n",
       "      <td>August 1, 2018</td>\n",
       "      <td>1.2.4</td>\n",
       "      <td>4.0.3 and up</td>\n",
       "    </tr>\n",
       "    <tr>\n",
       "      <th>3</th>\n",
       "      <td>Sketch - Draw &amp; Paint</td>\n",
       "      <td>ART_AND_DESIGN</td>\n",
       "      <td>4.5</td>\n",
       "      <td>215644</td>\n",
       "      <td>25M</td>\n",
       "      <td>50,000,000+</td>\n",
       "      <td>Free</td>\n",
       "      <td>0</td>\n",
       "      <td>Teen</td>\n",
       "      <td>Art &amp; Design</td>\n",
       "      <td>June 8, 2018</td>\n",
       "      <td>Varies with device</td>\n",
       "      <td>4.2 and up</td>\n",
       "    </tr>\n",
       "    <tr>\n",
       "      <th>4</th>\n",
       "      <td>Pixel Draw - Number Art Coloring Book</td>\n",
       "      <td>ART_AND_DESIGN</td>\n",
       "      <td>4.3</td>\n",
       "      <td>967</td>\n",
       "      <td>2.8M</td>\n",
       "      <td>100,000+</td>\n",
       "      <td>Free</td>\n",
       "      <td>0</td>\n",
       "      <td>Everyone</td>\n",
       "      <td>Art &amp; Design;Creativity</td>\n",
       "      <td>June 20, 2018</td>\n",
       "      <td>1.1</td>\n",
       "      <td>4.4 and up</td>\n",
       "    </tr>\n",
       "    <tr>\n",
       "      <th>...</th>\n",
       "      <td>...</td>\n",
       "      <td>...</td>\n",
       "      <td>...</td>\n",
       "      <td>...</td>\n",
       "      <td>...</td>\n",
       "      <td>...</td>\n",
       "      <td>...</td>\n",
       "      <td>...</td>\n",
       "      <td>...</td>\n",
       "      <td>...</td>\n",
       "      <td>...</td>\n",
       "      <td>...</td>\n",
       "      <td>...</td>\n",
       "    </tr>\n",
       "    <tr>\n",
       "      <th>10836</th>\n",
       "      <td>Sya9a Maroc - FR</td>\n",
       "      <td>FAMILY</td>\n",
       "      <td>4.5</td>\n",
       "      <td>38</td>\n",
       "      <td>53M</td>\n",
       "      <td>5,000+</td>\n",
       "      <td>Free</td>\n",
       "      <td>0</td>\n",
       "      <td>Everyone</td>\n",
       "      <td>Education</td>\n",
       "      <td>July 25, 2017</td>\n",
       "      <td>1.48</td>\n",
       "      <td>4.1 and up</td>\n",
       "    </tr>\n",
       "    <tr>\n",
       "      <th>10837</th>\n",
       "      <td>Fr. Mike Schmitz Audio Teachings</td>\n",
       "      <td>FAMILY</td>\n",
       "      <td>5.0</td>\n",
       "      <td>4</td>\n",
       "      <td>3.6M</td>\n",
       "      <td>100+</td>\n",
       "      <td>Free</td>\n",
       "      <td>0</td>\n",
       "      <td>Everyone</td>\n",
       "      <td>Education</td>\n",
       "      <td>July 6, 2018</td>\n",
       "      <td>1</td>\n",
       "      <td>4.1 and up</td>\n",
       "    </tr>\n",
       "    <tr>\n",
       "      <th>10838</th>\n",
       "      <td>Parkinson Exercices FR</td>\n",
       "      <td>MEDICAL</td>\n",
       "      <td>NaN</td>\n",
       "      <td>3</td>\n",
       "      <td>9.5M</td>\n",
       "      <td>1,000+</td>\n",
       "      <td>Free</td>\n",
       "      <td>0</td>\n",
       "      <td>Everyone</td>\n",
       "      <td>Medical</td>\n",
       "      <td>January 20, 2017</td>\n",
       "      <td>1</td>\n",
       "      <td>2.2 and up</td>\n",
       "    </tr>\n",
       "    <tr>\n",
       "      <th>10839</th>\n",
       "      <td>The SCP Foundation DB fr nn5n</td>\n",
       "      <td>BOOKS_AND_REFERENCE</td>\n",
       "      <td>4.5</td>\n",
       "      <td>114</td>\n",
       "      <td>Varies with device</td>\n",
       "      <td>1,000+</td>\n",
       "      <td>Free</td>\n",
       "      <td>0</td>\n",
       "      <td>Mature 17+</td>\n",
       "      <td>Books &amp; Reference</td>\n",
       "      <td>January 19, 2015</td>\n",
       "      <td>Varies with device</td>\n",
       "      <td>Varies with device</td>\n",
       "    </tr>\n",
       "    <tr>\n",
       "      <th>10840</th>\n",
       "      <td>iHoroscope - 2018 Daily Horoscope &amp; Astrology</td>\n",
       "      <td>LIFESTYLE</td>\n",
       "      <td>4.5</td>\n",
       "      <td>398307</td>\n",
       "      <td>19M</td>\n",
       "      <td>10,000,000+</td>\n",
       "      <td>Free</td>\n",
       "      <td>0</td>\n",
       "      <td>Everyone</td>\n",
       "      <td>Lifestyle</td>\n",
       "      <td>July 25, 2018</td>\n",
       "      <td>Varies with device</td>\n",
       "      <td>Varies with device</td>\n",
       "    </tr>\n",
       "  </tbody>\n",
       "</table>\n",
       "<p>10841 rows × 13 columns</p>\n",
       "</div>"
      ],
      "text/plain": [
       "                                                     App             Category  \\\n",
       "0         Photo Editor & Candy Camera & Grid & ScrapBook       ART_AND_DESIGN   \n",
       "1                                    Coloring book moana       ART_AND_DESIGN   \n",
       "2      U Launcher Lite – FREE Live Cool Themes, Hide ...       ART_AND_DESIGN   \n",
       "3                                  Sketch - Draw & Paint       ART_AND_DESIGN   \n",
       "4                  Pixel Draw - Number Art Coloring Book       ART_AND_DESIGN   \n",
       "...                                                  ...                  ...   \n",
       "10836                                   Sya9a Maroc - FR               FAMILY   \n",
       "10837                   Fr. Mike Schmitz Audio Teachings               FAMILY   \n",
       "10838                             Parkinson Exercices FR              MEDICAL   \n",
       "10839                      The SCP Foundation DB fr nn5n  BOOKS_AND_REFERENCE   \n",
       "10840      iHoroscope - 2018 Daily Horoscope & Astrology            LIFESTYLE   \n",
       "\n",
       "       Rating Reviews                Size     Installs  Type Price  \\\n",
       "0         4.1     159                 19M      10,000+  Free     0   \n",
       "1         3.9     967                 14M     500,000+  Free     0   \n",
       "2         4.7   87510                8.7M   5,000,000+  Free     0   \n",
       "3         4.5  215644                 25M  50,000,000+  Free     0   \n",
       "4         4.3     967                2.8M     100,000+  Free     0   \n",
       "...       ...     ...                 ...          ...   ...   ...   \n",
       "10836     4.5      38                 53M       5,000+  Free     0   \n",
       "10837     5.0       4                3.6M         100+  Free     0   \n",
       "10838     NaN       3                9.5M       1,000+  Free     0   \n",
       "10839     4.5     114  Varies with device       1,000+  Free     0   \n",
       "10840     4.5  398307                 19M  10,000,000+  Free     0   \n",
       "\n",
       "      Content Rating                     Genres      Last Updated  \\\n",
       "0           Everyone               Art & Design   January 7, 2018   \n",
       "1           Everyone  Art & Design;Pretend Play  January 15, 2018   \n",
       "2           Everyone               Art & Design    August 1, 2018   \n",
       "3               Teen               Art & Design      June 8, 2018   \n",
       "4           Everyone    Art & Design;Creativity     June 20, 2018   \n",
       "...              ...                        ...               ...   \n",
       "10836       Everyone                  Education     July 25, 2017   \n",
       "10837       Everyone                  Education      July 6, 2018   \n",
       "10838       Everyone                    Medical  January 20, 2017   \n",
       "10839     Mature 17+          Books & Reference  January 19, 2015   \n",
       "10840       Everyone                  Lifestyle     July 25, 2018   \n",
       "\n",
       "              Current Ver         Android Ver  \n",
       "0                   1.0.0        4.0.3 and up  \n",
       "1                   2.0.0        4.0.3 and up  \n",
       "2                   1.2.4        4.0.3 and up  \n",
       "3      Varies with device          4.2 and up  \n",
       "4                     1.1          4.4 and up  \n",
       "...                   ...                 ...  \n",
       "10836                1.48          4.1 and up  \n",
       "10837                   1          4.1 and up  \n",
       "10838                   1          2.2 and up  \n",
       "10839  Varies with device  Varies with device  \n",
       "10840  Varies with device  Varies with device  \n",
       "\n",
       "[10841 rows x 13 columns]"
      ]
     },
     "execution_count": 9,
     "metadata": {},
     "output_type": "execute_result"
    }
   ],
   "source": [
    "apps_df"
   ]
  },
  {
   "cell_type": "code",
   "execution_count": 10,
   "id": "224341cc-b65c-4098-ada4-b4b840fbb436",
   "metadata": {},
   "outputs": [
    {
     "data": {
      "text/html": [
       "<div>\n",
       "<style scoped>\n",
       "    .dataframe tbody tr th:only-of-type {\n",
       "        vertical-align: middle;\n",
       "    }\n",
       "\n",
       "    .dataframe tbody tr th {\n",
       "        vertical-align: top;\n",
       "    }\n",
       "\n",
       "    .dataframe thead th {\n",
       "        text-align: right;\n",
       "    }\n",
       "</style>\n",
       "<table border=\"1\" class=\"dataframe\">\n",
       "  <thead>\n",
       "    <tr style=\"text-align: right;\">\n",
       "      <th></th>\n",
       "      <th>App</th>\n",
       "      <th>Translated_Review</th>\n",
       "      <th>Sentiment</th>\n",
       "      <th>Sentiment_Polarity</th>\n",
       "      <th>Sentiment_Subjectivity</th>\n",
       "    </tr>\n",
       "  </thead>\n",
       "  <tbody>\n",
       "    <tr>\n",
       "      <th>0</th>\n",
       "      <td>10 Best Foods for You</td>\n",
       "      <td>I like eat delicious food. That's I'm cooking ...</td>\n",
       "      <td>Positive</td>\n",
       "      <td>1.00</td>\n",
       "      <td>0.533333</td>\n",
       "    </tr>\n",
       "    <tr>\n",
       "      <th>1</th>\n",
       "      <td>10 Best Foods for You</td>\n",
       "      <td>This help eating healthy exercise regular basis</td>\n",
       "      <td>Positive</td>\n",
       "      <td>0.25</td>\n",
       "      <td>0.288462</td>\n",
       "    </tr>\n",
       "    <tr>\n",
       "      <th>2</th>\n",
       "      <td>10 Best Foods for You</td>\n",
       "      <td>NaN</td>\n",
       "      <td>NaN</td>\n",
       "      <td>NaN</td>\n",
       "      <td>NaN</td>\n",
       "    </tr>\n",
       "    <tr>\n",
       "      <th>3</th>\n",
       "      <td>10 Best Foods for You</td>\n",
       "      <td>Works great especially going grocery store</td>\n",
       "      <td>Positive</td>\n",
       "      <td>0.40</td>\n",
       "      <td>0.875000</td>\n",
       "    </tr>\n",
       "    <tr>\n",
       "      <th>4</th>\n",
       "      <td>10 Best Foods for You</td>\n",
       "      <td>Best idea us</td>\n",
       "      <td>Positive</td>\n",
       "      <td>1.00</td>\n",
       "      <td>0.300000</td>\n",
       "    </tr>\n",
       "    <tr>\n",
       "      <th>...</th>\n",
       "      <td>...</td>\n",
       "      <td>...</td>\n",
       "      <td>...</td>\n",
       "      <td>...</td>\n",
       "      <td>...</td>\n",
       "    </tr>\n",
       "    <tr>\n",
       "      <th>64290</th>\n",
       "      <td>Houzz Interior Design Ideas</td>\n",
       "      <td>NaN</td>\n",
       "      <td>NaN</td>\n",
       "      <td>NaN</td>\n",
       "      <td>NaN</td>\n",
       "    </tr>\n",
       "    <tr>\n",
       "      <th>64291</th>\n",
       "      <td>Houzz Interior Design Ideas</td>\n",
       "      <td>NaN</td>\n",
       "      <td>NaN</td>\n",
       "      <td>NaN</td>\n",
       "      <td>NaN</td>\n",
       "    </tr>\n",
       "    <tr>\n",
       "      <th>64292</th>\n",
       "      <td>Houzz Interior Design Ideas</td>\n",
       "      <td>NaN</td>\n",
       "      <td>NaN</td>\n",
       "      <td>NaN</td>\n",
       "      <td>NaN</td>\n",
       "    </tr>\n",
       "    <tr>\n",
       "      <th>64293</th>\n",
       "      <td>Houzz Interior Design Ideas</td>\n",
       "      <td>NaN</td>\n",
       "      <td>NaN</td>\n",
       "      <td>NaN</td>\n",
       "      <td>NaN</td>\n",
       "    </tr>\n",
       "    <tr>\n",
       "      <th>64294</th>\n",
       "      <td>Houzz Interior Design Ideas</td>\n",
       "      <td>NaN</td>\n",
       "      <td>NaN</td>\n",
       "      <td>NaN</td>\n",
       "      <td>NaN</td>\n",
       "    </tr>\n",
       "  </tbody>\n",
       "</table>\n",
       "<p>64295 rows × 5 columns</p>\n",
       "</div>"
      ],
      "text/plain": [
       "                               App  \\\n",
       "0            10 Best Foods for You   \n",
       "1            10 Best Foods for You   \n",
       "2            10 Best Foods for You   \n",
       "3            10 Best Foods for You   \n",
       "4            10 Best Foods for You   \n",
       "...                            ...   \n",
       "64290  Houzz Interior Design Ideas   \n",
       "64291  Houzz Interior Design Ideas   \n",
       "64292  Houzz Interior Design Ideas   \n",
       "64293  Houzz Interior Design Ideas   \n",
       "64294  Houzz Interior Design Ideas   \n",
       "\n",
       "                                       Translated_Review Sentiment  \\\n",
       "0      I like eat delicious food. That's I'm cooking ...  Positive   \n",
       "1        This help eating healthy exercise regular basis  Positive   \n",
       "2                                                    NaN       NaN   \n",
       "3             Works great especially going grocery store  Positive   \n",
       "4                                           Best idea us  Positive   \n",
       "...                                                  ...       ...   \n",
       "64290                                                NaN       NaN   \n",
       "64291                                                NaN       NaN   \n",
       "64292                                                NaN       NaN   \n",
       "64293                                                NaN       NaN   \n",
       "64294                                                NaN       NaN   \n",
       "\n",
       "       Sentiment_Polarity  Sentiment_Subjectivity  \n",
       "0                    1.00                0.533333  \n",
       "1                    0.25                0.288462  \n",
       "2                     NaN                     NaN  \n",
       "3                    0.40                0.875000  \n",
       "4                    1.00                0.300000  \n",
       "...                   ...                     ...  \n",
       "64290                 NaN                     NaN  \n",
       "64291                 NaN                     NaN  \n",
       "64292                 NaN                     NaN  \n",
       "64293                 NaN                     NaN  \n",
       "64294                 NaN                     NaN  \n",
       "\n",
       "[64295 rows x 5 columns]"
      ]
     },
     "execution_count": 10,
     "metadata": {},
     "output_type": "execute_result"
    }
   ],
   "source": [
    "reviews_df"
   ]
  },
  {
   "cell_type": "code",
   "execution_count": 11,
   "id": "b1e08dc0-c3e7-4cee-91e5-f618dc490ced",
   "metadata": {},
   "outputs": [],
   "source": [
    "#pd.read_csv() : csv files\n",
    "#pd.read_excel() : excel files\n",
    "#pd.read_sql() : SQL Databases\n",
    "#pd.read_json() : JSON Files"
   ]
  },
  {
   "cell_type": "code",
   "execution_count": 12,
   "id": "9a8afa46-1cfd-493c-ad38-284c5cc7b2f0",
   "metadata": {},
   "outputs": [],
   "source": [
    "#df.isnull() : Missing values\n",
    "#df.dropna() : Removes rows and columns that contain the missing values\n",
    "#df.fillna() : Fills missing values"
   ]
  },
  {
   "cell_type": "code",
   "execution_count": 13,
   "id": "733cdeda-f5a6-4940-b914-01e213923ebc",
   "metadata": {},
   "outputs": [
    {
     "name": "stderr",
     "output_type": "stream",
     "text": [
      "C:\\Users\\El - Shaddai\\AppData\\Local\\Temp\\ipykernel_23520\\4064856019.py:4: FutureWarning: A value is trying to be set on a copy of a DataFrame or Series through chained assignment using an inplace method.\n",
      "The behavior will change in pandas 3.0. This inplace method will never work because the intermediate object on which we are setting values always behaves as a copy.\n",
      "\n",
      "For example, when doing 'df[col].method(value, inplace=True)', try using 'df.method({col: value}, inplace=True)' or df[col] = df[col].method(value) instead, to perform the operation inplace on the original object.\n",
      "\n",
      "\n",
      "  apps_df[column].fillna(apps_df[column].mode()[0],inplace=True)\n",
      "C:\\Users\\El - Shaddai\\AppData\\Local\\Temp\\ipykernel_23520\\4064856019.py:4: SettingWithCopyWarning: \n",
      "A value is trying to be set on a copy of a slice from a DataFrame\n",
      "\n",
      "See the caveats in the documentation: https://pandas.pydata.org/pandas-docs/stable/user_guide/indexing.html#returning-a-view-versus-a-copy\n",
      "  apps_df[column].fillna(apps_df[column].mode()[0],inplace=True)\n",
      "C:\\Users\\El - Shaddai\\AppData\\Local\\Temp\\ipykernel_23520\\4064856019.py:5: SettingWithCopyWarning: \n",
      "A value is trying to be set on a copy of a slice from a DataFrame\n",
      "\n",
      "See the caveats in the documentation: https://pandas.pydata.org/pandas-docs/stable/user_guide/indexing.html#returning-a-view-versus-a-copy\n",
      "  apps_df.drop_duplicates(inplace=True)\n"
     ]
    }
   ],
   "source": [
    "#Step 2 : Data Cleaning\n",
    "apps_df = apps_df.dropna(subset=['Rating'])\n",
    "for column in apps_df.columns :\n",
    "    apps_df[column].fillna(apps_df[column].mode()[0],inplace=True)\n",
    "apps_df.drop_duplicates(inplace=True)\n",
    "apps_df=apps_df=apps_df[apps_df['Rating']<=5]"
   ]
  },
  {
   "cell_type": "code",
   "execution_count": 14,
   "id": "93823e5a-652a-49bc-807b-6ebdd8cd3656",
   "metadata": {},
   "outputs": [
    {
     "data": {
      "text/html": [
       "<div>\n",
       "<style scoped>\n",
       "    .dataframe tbody tr th:only-of-type {\n",
       "        vertical-align: middle;\n",
       "    }\n",
       "\n",
       "    .dataframe tbody tr th {\n",
       "        vertical-align: top;\n",
       "    }\n",
       "\n",
       "    .dataframe thead th {\n",
       "        text-align: right;\n",
       "    }\n",
       "</style>\n",
       "<table border=\"1\" class=\"dataframe\">\n",
       "  <thead>\n",
       "    <tr style=\"text-align: right;\">\n",
       "      <th></th>\n",
       "      <th>App</th>\n",
       "      <th>Category</th>\n",
       "      <th>Rating</th>\n",
       "      <th>Reviews</th>\n",
       "      <th>Size</th>\n",
       "      <th>Installs</th>\n",
       "      <th>Type</th>\n",
       "      <th>Price</th>\n",
       "      <th>Content Rating</th>\n",
       "      <th>Genres</th>\n",
       "      <th>Last Updated</th>\n",
       "      <th>Current Ver</th>\n",
       "      <th>Android Ver</th>\n",
       "    </tr>\n",
       "  </thead>\n",
       "  <tbody>\n",
       "    <tr>\n",
       "      <th>0</th>\n",
       "      <td>Photo Editor &amp; Candy Camera &amp; Grid &amp; ScrapBook</td>\n",
       "      <td>ART_AND_DESIGN</td>\n",
       "      <td>4.1</td>\n",
       "      <td>159</td>\n",
       "      <td>19M</td>\n",
       "      <td>10,000+</td>\n",
       "      <td>Free</td>\n",
       "      <td>0</td>\n",
       "      <td>Everyone</td>\n",
       "      <td>Art &amp; Design</td>\n",
       "      <td>January 7, 2018</td>\n",
       "      <td>1.0.0</td>\n",
       "      <td>4.0.3 and up</td>\n",
       "    </tr>\n",
       "    <tr>\n",
       "      <th>1</th>\n",
       "      <td>Coloring book moana</td>\n",
       "      <td>ART_AND_DESIGN</td>\n",
       "      <td>3.9</td>\n",
       "      <td>967</td>\n",
       "      <td>14M</td>\n",
       "      <td>500,000+</td>\n",
       "      <td>Free</td>\n",
       "      <td>0</td>\n",
       "      <td>Everyone</td>\n",
       "      <td>Art &amp; Design;Pretend Play</td>\n",
       "      <td>January 15, 2018</td>\n",
       "      <td>2.0.0</td>\n",
       "      <td>4.0.3 and up</td>\n",
       "    </tr>\n",
       "    <tr>\n",
       "      <th>2</th>\n",
       "      <td>U Launcher Lite – FREE Live Cool Themes, Hide ...</td>\n",
       "      <td>ART_AND_DESIGN</td>\n",
       "      <td>4.7</td>\n",
       "      <td>87510</td>\n",
       "      <td>8.7M</td>\n",
       "      <td>5,000,000+</td>\n",
       "      <td>Free</td>\n",
       "      <td>0</td>\n",
       "      <td>Everyone</td>\n",
       "      <td>Art &amp; Design</td>\n",
       "      <td>August 1, 2018</td>\n",
       "      <td>1.2.4</td>\n",
       "      <td>4.0.3 and up</td>\n",
       "    </tr>\n",
       "    <tr>\n",
       "      <th>3</th>\n",
       "      <td>Sketch - Draw &amp; Paint</td>\n",
       "      <td>ART_AND_DESIGN</td>\n",
       "      <td>4.5</td>\n",
       "      <td>215644</td>\n",
       "      <td>25M</td>\n",
       "      <td>50,000,000+</td>\n",
       "      <td>Free</td>\n",
       "      <td>0</td>\n",
       "      <td>Teen</td>\n",
       "      <td>Art &amp; Design</td>\n",
       "      <td>June 8, 2018</td>\n",
       "      <td>Varies with device</td>\n",
       "      <td>4.2 and up</td>\n",
       "    </tr>\n",
       "    <tr>\n",
       "      <th>4</th>\n",
       "      <td>Pixel Draw - Number Art Coloring Book</td>\n",
       "      <td>ART_AND_DESIGN</td>\n",
       "      <td>4.3</td>\n",
       "      <td>967</td>\n",
       "      <td>2.8M</td>\n",
       "      <td>100,000+</td>\n",
       "      <td>Free</td>\n",
       "      <td>0</td>\n",
       "      <td>Everyone</td>\n",
       "      <td>Art &amp; Design;Creativity</td>\n",
       "      <td>June 20, 2018</td>\n",
       "      <td>1.1</td>\n",
       "      <td>4.4 and up</td>\n",
       "    </tr>\n",
       "  </tbody>\n",
       "</table>\n",
       "</div>"
      ],
      "text/plain": [
       "                                                 App        Category  Rating  \\\n",
       "0     Photo Editor & Candy Camera & Grid & ScrapBook  ART_AND_DESIGN     4.1   \n",
       "1                                Coloring book moana  ART_AND_DESIGN     3.9   \n",
       "2  U Launcher Lite – FREE Live Cool Themes, Hide ...  ART_AND_DESIGN     4.7   \n",
       "3                              Sketch - Draw & Paint  ART_AND_DESIGN     4.5   \n",
       "4              Pixel Draw - Number Art Coloring Book  ART_AND_DESIGN     4.3   \n",
       "\n",
       "  Reviews  Size     Installs  Type Price Content Rating  \\\n",
       "0     159   19M      10,000+  Free     0       Everyone   \n",
       "1     967   14M     500,000+  Free     0       Everyone   \n",
       "2   87510  8.7M   5,000,000+  Free     0       Everyone   \n",
       "3  215644   25M  50,000,000+  Free     0           Teen   \n",
       "4     967  2.8M     100,000+  Free     0       Everyone   \n",
       "\n",
       "                      Genres      Last Updated         Current Ver  \\\n",
       "0               Art & Design   January 7, 2018               1.0.0   \n",
       "1  Art & Design;Pretend Play  January 15, 2018               2.0.0   \n",
       "2               Art & Design    August 1, 2018               1.2.4   \n",
       "3               Art & Design      June 8, 2018  Varies with device   \n",
       "4    Art & Design;Creativity     June 20, 2018                 1.1   \n",
       "\n",
       "    Android Ver  \n",
       "0  4.0.3 and up  \n",
       "1  4.0.3 and up  \n",
       "2  4.0.3 and up  \n",
       "3    4.2 and up  \n",
       "4    4.4 and up  "
      ]
     },
     "execution_count": 14,
     "metadata": {},
     "output_type": "execute_result"
    }
   ],
   "source": [
    "apps_df.head()"
   ]
  },
  {
   "cell_type": "code",
   "execution_count": 15,
   "id": "58adfe7d-484a-4339-8c40-219703a8a428",
   "metadata": {},
   "outputs": [
    {
     "data": {
      "text/plain": [
       "App                object\n",
       "Category           object\n",
       "Rating            float64\n",
       "Reviews            object\n",
       "Size               object\n",
       "Installs           object\n",
       "Type               object\n",
       "Price              object\n",
       "Content Rating     object\n",
       "Genres             object\n",
       "Last Updated       object\n",
       "Current Ver        object\n",
       "Android Ver        object\n",
       "dtype: object"
      ]
     },
     "execution_count": 15,
     "metadata": {},
     "output_type": "execute_result"
    }
   ],
   "source": [
    "apps_df.dtypes"
   ]
  },
  {
   "cell_type": "code",
   "execution_count": 16,
   "id": "ef56ec73-dad6-4a25-8b64-0b561d6be337",
   "metadata": {},
   "outputs": [],
   "source": [
    "#Convert the Installs columns to numeric by removing commas and +\n",
    "apps_df['Installs']=apps_df['Installs'].str.replace(',','').str.replace('+','').astype(int)\n"
   ]
  },
  {
   "cell_type": "code",
   "execution_count": 17,
   "id": "5994f6e5-6519-4fb8-a2d0-0237e6c39caf",
   "metadata": {},
   "outputs": [],
   "source": [
    "#Convert Price column to numeric after removing $\n",
    "apps_df['Price']=apps_df['Price'].str.replace('$','').astype(float)"
   ]
  },
  {
   "cell_type": "code",
   "execution_count": 18,
   "id": "07515011-28aa-4320-a23b-445267fa9107",
   "metadata": {},
   "outputs": [
    {
     "data": {
      "text/plain": [
       "App                object\n",
       "Category           object\n",
       "Rating            float64\n",
       "Reviews            object\n",
       "Size               object\n",
       "Installs            int64\n",
       "Type               object\n",
       "Price             float64\n",
       "Content Rating     object\n",
       "Genres             object\n",
       "Last Updated       object\n",
       "Current Ver        object\n",
       "Android Ver        object\n",
       "dtype: object"
      ]
     },
     "execution_count": 18,
     "metadata": {},
     "output_type": "execute_result"
    }
   ],
   "source": [
    "apps_df.dtypes"
   ]
  },
  {
   "cell_type": "code",
   "execution_count": 19,
   "id": "c28c1d68-c0ef-4401-9b7e-3474a43024cd",
   "metadata": {},
   "outputs": [],
   "source": [
    "def convert_size(size):\n",
    "    if 'M' in size:\n",
    "        return float(size.replace('M',''))\n",
    "    elif 'k' in size:\n",
    "        return float(size.replace('k',''))/1024\n",
    "    else:\n",
    "        return np.nan\n",
    "apps_df['Size']=apps_df['Size'].apply(convert_size)"
   ]
  },
  {
   "cell_type": "code",
   "execution_count": 20,
   "id": "c3bec841-cedf-468a-9033-e13a98c8a034",
   "metadata": {},
   "outputs": [
    {
     "data": {
      "text/html": [
       "<div>\n",
       "<style scoped>\n",
       "    .dataframe tbody tr th:only-of-type {\n",
       "        vertical-align: middle;\n",
       "    }\n",
       "\n",
       "    .dataframe tbody tr th {\n",
       "        vertical-align: top;\n",
       "    }\n",
       "\n",
       "    .dataframe thead th {\n",
       "        text-align: right;\n",
       "    }\n",
       "</style>\n",
       "<table border=\"1\" class=\"dataframe\">\n",
       "  <thead>\n",
       "    <tr style=\"text-align: right;\">\n",
       "      <th></th>\n",
       "      <th>App</th>\n",
       "      <th>Category</th>\n",
       "      <th>Rating</th>\n",
       "      <th>Reviews</th>\n",
       "      <th>Size</th>\n",
       "      <th>Installs</th>\n",
       "      <th>Type</th>\n",
       "      <th>Price</th>\n",
       "      <th>Content Rating</th>\n",
       "      <th>Genres</th>\n",
       "      <th>Last Updated</th>\n",
       "      <th>Current Ver</th>\n",
       "      <th>Android Ver</th>\n",
       "    </tr>\n",
       "  </thead>\n",
       "  <tbody>\n",
       "    <tr>\n",
       "      <th>0</th>\n",
       "      <td>Photo Editor &amp; Candy Camera &amp; Grid &amp; ScrapBook</td>\n",
       "      <td>ART_AND_DESIGN</td>\n",
       "      <td>4.1</td>\n",
       "      <td>159</td>\n",
       "      <td>19.0</td>\n",
       "      <td>10000</td>\n",
       "      <td>Free</td>\n",
       "      <td>0.0</td>\n",
       "      <td>Everyone</td>\n",
       "      <td>Art &amp; Design</td>\n",
       "      <td>January 7, 2018</td>\n",
       "      <td>1.0.0</td>\n",
       "      <td>4.0.3 and up</td>\n",
       "    </tr>\n",
       "    <tr>\n",
       "      <th>1</th>\n",
       "      <td>Coloring book moana</td>\n",
       "      <td>ART_AND_DESIGN</td>\n",
       "      <td>3.9</td>\n",
       "      <td>967</td>\n",
       "      <td>14.0</td>\n",
       "      <td>500000</td>\n",
       "      <td>Free</td>\n",
       "      <td>0.0</td>\n",
       "      <td>Everyone</td>\n",
       "      <td>Art &amp; Design;Pretend Play</td>\n",
       "      <td>January 15, 2018</td>\n",
       "      <td>2.0.0</td>\n",
       "      <td>4.0.3 and up</td>\n",
       "    </tr>\n",
       "    <tr>\n",
       "      <th>2</th>\n",
       "      <td>U Launcher Lite – FREE Live Cool Themes, Hide ...</td>\n",
       "      <td>ART_AND_DESIGN</td>\n",
       "      <td>4.7</td>\n",
       "      <td>87510</td>\n",
       "      <td>8.7</td>\n",
       "      <td>5000000</td>\n",
       "      <td>Free</td>\n",
       "      <td>0.0</td>\n",
       "      <td>Everyone</td>\n",
       "      <td>Art &amp; Design</td>\n",
       "      <td>August 1, 2018</td>\n",
       "      <td>1.2.4</td>\n",
       "      <td>4.0.3 and up</td>\n",
       "    </tr>\n",
       "    <tr>\n",
       "      <th>3</th>\n",
       "      <td>Sketch - Draw &amp; Paint</td>\n",
       "      <td>ART_AND_DESIGN</td>\n",
       "      <td>4.5</td>\n",
       "      <td>215644</td>\n",
       "      <td>25.0</td>\n",
       "      <td>50000000</td>\n",
       "      <td>Free</td>\n",
       "      <td>0.0</td>\n",
       "      <td>Teen</td>\n",
       "      <td>Art &amp; Design</td>\n",
       "      <td>June 8, 2018</td>\n",
       "      <td>Varies with device</td>\n",
       "      <td>4.2 and up</td>\n",
       "    </tr>\n",
       "    <tr>\n",
       "      <th>4</th>\n",
       "      <td>Pixel Draw - Number Art Coloring Book</td>\n",
       "      <td>ART_AND_DESIGN</td>\n",
       "      <td>4.3</td>\n",
       "      <td>967</td>\n",
       "      <td>2.8</td>\n",
       "      <td>100000</td>\n",
       "      <td>Free</td>\n",
       "      <td>0.0</td>\n",
       "      <td>Everyone</td>\n",
       "      <td>Art &amp; Design;Creativity</td>\n",
       "      <td>June 20, 2018</td>\n",
       "      <td>1.1</td>\n",
       "      <td>4.4 and up</td>\n",
       "    </tr>\n",
       "    <tr>\n",
       "      <th>...</th>\n",
       "      <td>...</td>\n",
       "      <td>...</td>\n",
       "      <td>...</td>\n",
       "      <td>...</td>\n",
       "      <td>...</td>\n",
       "      <td>...</td>\n",
       "      <td>...</td>\n",
       "      <td>...</td>\n",
       "      <td>...</td>\n",
       "      <td>...</td>\n",
       "      <td>...</td>\n",
       "      <td>...</td>\n",
       "      <td>...</td>\n",
       "    </tr>\n",
       "    <tr>\n",
       "      <th>10834</th>\n",
       "      <td>FR Calculator</td>\n",
       "      <td>FAMILY</td>\n",
       "      <td>4.0</td>\n",
       "      <td>7</td>\n",
       "      <td>2.6</td>\n",
       "      <td>500</td>\n",
       "      <td>Free</td>\n",
       "      <td>0.0</td>\n",
       "      <td>Everyone</td>\n",
       "      <td>Education</td>\n",
       "      <td>June 18, 2017</td>\n",
       "      <td>1.0.0</td>\n",
       "      <td>4.1 and up</td>\n",
       "    </tr>\n",
       "    <tr>\n",
       "      <th>10836</th>\n",
       "      <td>Sya9a Maroc - FR</td>\n",
       "      <td>FAMILY</td>\n",
       "      <td>4.5</td>\n",
       "      <td>38</td>\n",
       "      <td>53.0</td>\n",
       "      <td>5000</td>\n",
       "      <td>Free</td>\n",
       "      <td>0.0</td>\n",
       "      <td>Everyone</td>\n",
       "      <td>Education</td>\n",
       "      <td>July 25, 2017</td>\n",
       "      <td>1.48</td>\n",
       "      <td>4.1 and up</td>\n",
       "    </tr>\n",
       "    <tr>\n",
       "      <th>10837</th>\n",
       "      <td>Fr. Mike Schmitz Audio Teachings</td>\n",
       "      <td>FAMILY</td>\n",
       "      <td>5.0</td>\n",
       "      <td>4</td>\n",
       "      <td>3.6</td>\n",
       "      <td>100</td>\n",
       "      <td>Free</td>\n",
       "      <td>0.0</td>\n",
       "      <td>Everyone</td>\n",
       "      <td>Education</td>\n",
       "      <td>July 6, 2018</td>\n",
       "      <td>1</td>\n",
       "      <td>4.1 and up</td>\n",
       "    </tr>\n",
       "    <tr>\n",
       "      <th>10839</th>\n",
       "      <td>The SCP Foundation DB fr nn5n</td>\n",
       "      <td>BOOKS_AND_REFERENCE</td>\n",
       "      <td>4.5</td>\n",
       "      <td>114</td>\n",
       "      <td>NaN</td>\n",
       "      <td>1000</td>\n",
       "      <td>Free</td>\n",
       "      <td>0.0</td>\n",
       "      <td>Mature 17+</td>\n",
       "      <td>Books &amp; Reference</td>\n",
       "      <td>January 19, 2015</td>\n",
       "      <td>Varies with device</td>\n",
       "      <td>Varies with device</td>\n",
       "    </tr>\n",
       "    <tr>\n",
       "      <th>10840</th>\n",
       "      <td>iHoroscope - 2018 Daily Horoscope &amp; Astrology</td>\n",
       "      <td>LIFESTYLE</td>\n",
       "      <td>4.5</td>\n",
       "      <td>398307</td>\n",
       "      <td>19.0</td>\n",
       "      <td>10000000</td>\n",
       "      <td>Free</td>\n",
       "      <td>0.0</td>\n",
       "      <td>Everyone</td>\n",
       "      <td>Lifestyle</td>\n",
       "      <td>July 25, 2018</td>\n",
       "      <td>Varies with device</td>\n",
       "      <td>Varies with device</td>\n",
       "    </tr>\n",
       "  </tbody>\n",
       "</table>\n",
       "<p>8892 rows × 13 columns</p>\n",
       "</div>"
      ],
      "text/plain": [
       "                                                     App             Category  \\\n",
       "0         Photo Editor & Candy Camera & Grid & ScrapBook       ART_AND_DESIGN   \n",
       "1                                    Coloring book moana       ART_AND_DESIGN   \n",
       "2      U Launcher Lite – FREE Live Cool Themes, Hide ...       ART_AND_DESIGN   \n",
       "3                                  Sketch - Draw & Paint       ART_AND_DESIGN   \n",
       "4                  Pixel Draw - Number Art Coloring Book       ART_AND_DESIGN   \n",
       "...                                                  ...                  ...   \n",
       "10834                                      FR Calculator               FAMILY   \n",
       "10836                                   Sya9a Maroc - FR               FAMILY   \n",
       "10837                   Fr. Mike Schmitz Audio Teachings               FAMILY   \n",
       "10839                      The SCP Foundation DB fr nn5n  BOOKS_AND_REFERENCE   \n",
       "10840      iHoroscope - 2018 Daily Horoscope & Astrology            LIFESTYLE   \n",
       "\n",
       "       Rating Reviews  Size  Installs  Type  Price Content Rating  \\\n",
       "0         4.1     159  19.0     10000  Free    0.0       Everyone   \n",
       "1         3.9     967  14.0    500000  Free    0.0       Everyone   \n",
       "2         4.7   87510   8.7   5000000  Free    0.0       Everyone   \n",
       "3         4.5  215644  25.0  50000000  Free    0.0           Teen   \n",
       "4         4.3     967   2.8    100000  Free    0.0       Everyone   \n",
       "...       ...     ...   ...       ...   ...    ...            ...   \n",
       "10834     4.0       7   2.6       500  Free    0.0       Everyone   \n",
       "10836     4.5      38  53.0      5000  Free    0.0       Everyone   \n",
       "10837     5.0       4   3.6       100  Free    0.0       Everyone   \n",
       "10839     4.5     114   NaN      1000  Free    0.0     Mature 17+   \n",
       "10840     4.5  398307  19.0  10000000  Free    0.0       Everyone   \n",
       "\n",
       "                          Genres      Last Updated         Current Ver  \\\n",
       "0                   Art & Design   January 7, 2018               1.0.0   \n",
       "1      Art & Design;Pretend Play  January 15, 2018               2.0.0   \n",
       "2                   Art & Design    August 1, 2018               1.2.4   \n",
       "3                   Art & Design      June 8, 2018  Varies with device   \n",
       "4        Art & Design;Creativity     June 20, 2018                 1.1   \n",
       "...                          ...               ...                 ...   \n",
       "10834                  Education     June 18, 2017               1.0.0   \n",
       "10836                  Education     July 25, 2017                1.48   \n",
       "10837                  Education      July 6, 2018                   1   \n",
       "10839          Books & Reference  January 19, 2015  Varies with device   \n",
       "10840                  Lifestyle     July 25, 2018  Varies with device   \n",
       "\n",
       "              Android Ver  \n",
       "0            4.0.3 and up  \n",
       "1            4.0.3 and up  \n",
       "2            4.0.3 and up  \n",
       "3              4.2 and up  \n",
       "4              4.4 and up  \n",
       "...                   ...  \n",
       "10834          4.1 and up  \n",
       "10836          4.1 and up  \n",
       "10837          4.1 and up  \n",
       "10839  Varies with device  \n",
       "10840  Varies with device  \n",
       "\n",
       "[8892 rows x 13 columns]"
      ]
     },
     "execution_count": 20,
     "metadata": {},
     "output_type": "execute_result"
    }
   ],
   "source": [
    "apps_df"
   ]
  },
  {
   "cell_type": "code",
   "execution_count": 21,
   "id": "c89fa14a-c55f-42d4-803c-4262796eb62e",
   "metadata": {},
   "outputs": [],
   "source": [
    "#Lograrithmic\n",
    "apps_df['Log_Installs']=np.log(apps_df['Installs'])"
   ]
  },
  {
   "cell_type": "code",
   "execution_count": 22,
   "id": "fb2c4222-de57-4ebf-b962-14477446f5b9",
   "metadata": {},
   "outputs": [],
   "source": [
    "apps_df['Reviews']=apps_df['Reviews'].astype(int)"
   ]
  },
  {
   "cell_type": "code",
   "execution_count": 26,
   "id": "05a05159-ead8-409f-b609-4e59aafb0eb3",
   "metadata": {},
   "outputs": [],
   "source": [
    "Converting 'Reviews' to integers and filtering apps with fewer than 10 reviews\n",
    "apps_df['Reviews'] = pd.to_numeric(apps_df['Reviews'], errors='coerce')\n",
    "apps_df = apps_df[apps_df['Reviews'] >= 10]"
   ]
  },
  {
   "cell_type": "code",
   "execution_count": 27,
   "id": "3a740320-8c3a-4f81-b5f9-2036612205f5",
   "metadata": {},
   "outputs": [
    {
     "data": {
      "text/html": [
       "<div>\n",
       "<style scoped>\n",
       "    .dataframe tbody tr th:only-of-type {\n",
       "        vertical-align: middle;\n",
       "    }\n",
       "\n",
       "    .dataframe tbody tr th {\n",
       "        vertical-align: top;\n",
       "    }\n",
       "\n",
       "    .dataframe thead th {\n",
       "        text-align: right;\n",
       "    }\n",
       "</style>\n",
       "<table border=\"1\" class=\"dataframe\">\n",
       "  <thead>\n",
       "    <tr style=\"text-align: right;\">\n",
       "      <th></th>\n",
       "      <th>App</th>\n",
       "      <th>Category</th>\n",
       "      <th>Rating</th>\n",
       "      <th>Reviews</th>\n",
       "      <th>Size</th>\n",
       "      <th>Installs</th>\n",
       "      <th>Type</th>\n",
       "      <th>Price</th>\n",
       "      <th>Content Rating</th>\n",
       "      <th>Genres</th>\n",
       "      <th>Last Updated</th>\n",
       "      <th>Current Ver</th>\n",
       "      <th>Android Ver</th>\n",
       "      <th>Log_Installs</th>\n",
       "    </tr>\n",
       "  </thead>\n",
       "  <tbody>\n",
       "    <tr>\n",
       "      <th>0</th>\n",
       "      <td>Photo Editor &amp; Candy Camera &amp; Grid &amp; ScrapBook</td>\n",
       "      <td>ART_AND_DESIGN</td>\n",
       "      <td>4.1</td>\n",
       "      <td>159</td>\n",
       "      <td>19.000000</td>\n",
       "      <td>10000</td>\n",
       "      <td>Free</td>\n",
       "      <td>0.0</td>\n",
       "      <td>Everyone</td>\n",
       "      <td>Art &amp; Design</td>\n",
       "      <td>January 7, 2018</td>\n",
       "      <td>1.0.0</td>\n",
       "      <td>4.0.3 and up</td>\n",
       "      <td>9.210340</td>\n",
       "    </tr>\n",
       "    <tr>\n",
       "      <th>1</th>\n",
       "      <td>Coloring book moana</td>\n",
       "      <td>ART_AND_DESIGN</td>\n",
       "      <td>3.9</td>\n",
       "      <td>967</td>\n",
       "      <td>14.000000</td>\n",
       "      <td>500000</td>\n",
       "      <td>Free</td>\n",
       "      <td>0.0</td>\n",
       "      <td>Everyone</td>\n",
       "      <td>Art &amp; Design;Pretend Play</td>\n",
       "      <td>January 15, 2018</td>\n",
       "      <td>2.0.0</td>\n",
       "      <td>4.0.3 and up</td>\n",
       "      <td>13.122363</td>\n",
       "    </tr>\n",
       "    <tr>\n",
       "      <th>2</th>\n",
       "      <td>U Launcher Lite – FREE Live Cool Themes, Hide ...</td>\n",
       "      <td>ART_AND_DESIGN</td>\n",
       "      <td>4.7</td>\n",
       "      <td>87510</td>\n",
       "      <td>8.700000</td>\n",
       "      <td>5000000</td>\n",
       "      <td>Free</td>\n",
       "      <td>0.0</td>\n",
       "      <td>Everyone</td>\n",
       "      <td>Art &amp; Design</td>\n",
       "      <td>August 1, 2018</td>\n",
       "      <td>1.2.4</td>\n",
       "      <td>4.0.3 and up</td>\n",
       "      <td>15.424948</td>\n",
       "    </tr>\n",
       "    <tr>\n",
       "      <th>3</th>\n",
       "      <td>Sketch - Draw &amp; Paint</td>\n",
       "      <td>ART_AND_DESIGN</td>\n",
       "      <td>4.5</td>\n",
       "      <td>215644</td>\n",
       "      <td>25.000000</td>\n",
       "      <td>50000000</td>\n",
       "      <td>Free</td>\n",
       "      <td>0.0</td>\n",
       "      <td>Teen</td>\n",
       "      <td>Art &amp; Design</td>\n",
       "      <td>June 8, 2018</td>\n",
       "      <td>Varies with device</td>\n",
       "      <td>4.2 and up</td>\n",
       "      <td>17.727534</td>\n",
       "    </tr>\n",
       "    <tr>\n",
       "      <th>4</th>\n",
       "      <td>Pixel Draw - Number Art Coloring Book</td>\n",
       "      <td>ART_AND_DESIGN</td>\n",
       "      <td>4.3</td>\n",
       "      <td>967</td>\n",
       "      <td>2.800000</td>\n",
       "      <td>100000</td>\n",
       "      <td>Free</td>\n",
       "      <td>0.0</td>\n",
       "      <td>Everyone</td>\n",
       "      <td>Art &amp; Design;Creativity</td>\n",
       "      <td>June 20, 2018</td>\n",
       "      <td>1.1</td>\n",
       "      <td>4.4 and up</td>\n",
       "      <td>11.512925</td>\n",
       "    </tr>\n",
       "    <tr>\n",
       "      <th>...</th>\n",
       "      <td>...</td>\n",
       "      <td>...</td>\n",
       "      <td>...</td>\n",
       "      <td>...</td>\n",
       "      <td>...</td>\n",
       "      <td>...</td>\n",
       "      <td>...</td>\n",
       "      <td>...</td>\n",
       "      <td>...</td>\n",
       "      <td>...</td>\n",
       "      <td>...</td>\n",
       "      <td>...</td>\n",
       "      <td>...</td>\n",
       "      <td>...</td>\n",
       "    </tr>\n",
       "    <tr>\n",
       "      <th>10832</th>\n",
       "      <td>FR Tides</td>\n",
       "      <td>WEATHER</td>\n",
       "      <td>3.8</td>\n",
       "      <td>1195</td>\n",
       "      <td>0.568359</td>\n",
       "      <td>100000</td>\n",
       "      <td>Free</td>\n",
       "      <td>0.0</td>\n",
       "      <td>Everyone</td>\n",
       "      <td>Weather</td>\n",
       "      <td>February 16, 2014</td>\n",
       "      <td>6</td>\n",
       "      <td>2.1 and up</td>\n",
       "      <td>11.512925</td>\n",
       "    </tr>\n",
       "    <tr>\n",
       "      <th>10833</th>\n",
       "      <td>Chemin (fr)</td>\n",
       "      <td>BOOKS_AND_REFERENCE</td>\n",
       "      <td>4.8</td>\n",
       "      <td>44</td>\n",
       "      <td>0.604492</td>\n",
       "      <td>1000</td>\n",
       "      <td>Free</td>\n",
       "      <td>0.0</td>\n",
       "      <td>Everyone</td>\n",
       "      <td>Books &amp; Reference</td>\n",
       "      <td>March 23, 2014</td>\n",
       "      <td>0.8</td>\n",
       "      <td>2.2 and up</td>\n",
       "      <td>6.907755</td>\n",
       "    </tr>\n",
       "    <tr>\n",
       "      <th>10836</th>\n",
       "      <td>Sya9a Maroc - FR</td>\n",
       "      <td>FAMILY</td>\n",
       "      <td>4.5</td>\n",
       "      <td>38</td>\n",
       "      <td>53.000000</td>\n",
       "      <td>5000</td>\n",
       "      <td>Free</td>\n",
       "      <td>0.0</td>\n",
       "      <td>Everyone</td>\n",
       "      <td>Education</td>\n",
       "      <td>July 25, 2017</td>\n",
       "      <td>1.48</td>\n",
       "      <td>4.1 and up</td>\n",
       "      <td>8.517193</td>\n",
       "    </tr>\n",
       "    <tr>\n",
       "      <th>10839</th>\n",
       "      <td>The SCP Foundation DB fr nn5n</td>\n",
       "      <td>BOOKS_AND_REFERENCE</td>\n",
       "      <td>4.5</td>\n",
       "      <td>114</td>\n",
       "      <td>NaN</td>\n",
       "      <td>1000</td>\n",
       "      <td>Free</td>\n",
       "      <td>0.0</td>\n",
       "      <td>Mature 17+</td>\n",
       "      <td>Books &amp; Reference</td>\n",
       "      <td>January 19, 2015</td>\n",
       "      <td>Varies with device</td>\n",
       "      <td>Varies with device</td>\n",
       "      <td>6.907755</td>\n",
       "    </tr>\n",
       "    <tr>\n",
       "      <th>10840</th>\n",
       "      <td>iHoroscope - 2018 Daily Horoscope &amp; Astrology</td>\n",
       "      <td>LIFESTYLE</td>\n",
       "      <td>4.5</td>\n",
       "      <td>398307</td>\n",
       "      <td>19.000000</td>\n",
       "      <td>10000000</td>\n",
       "      <td>Free</td>\n",
       "      <td>0.0</td>\n",
       "      <td>Everyone</td>\n",
       "      <td>Lifestyle</td>\n",
       "      <td>July 25, 2018</td>\n",
       "      <td>Varies with device</td>\n",
       "      <td>Varies with device</td>\n",
       "      <td>16.118096</td>\n",
       "    </tr>\n",
       "  </tbody>\n",
       "</table>\n",
       "<p>8304 rows × 14 columns</p>\n",
       "</div>"
      ],
      "text/plain": [
       "                                                     App             Category  \\\n",
       "0         Photo Editor & Candy Camera & Grid & ScrapBook       ART_AND_DESIGN   \n",
       "1                                    Coloring book moana       ART_AND_DESIGN   \n",
       "2      U Launcher Lite – FREE Live Cool Themes, Hide ...       ART_AND_DESIGN   \n",
       "3                                  Sketch - Draw & Paint       ART_AND_DESIGN   \n",
       "4                  Pixel Draw - Number Art Coloring Book       ART_AND_DESIGN   \n",
       "...                                                  ...                  ...   \n",
       "10832                                           FR Tides              WEATHER   \n",
       "10833                                        Chemin (fr)  BOOKS_AND_REFERENCE   \n",
       "10836                                   Sya9a Maroc - FR               FAMILY   \n",
       "10839                      The SCP Foundation DB fr nn5n  BOOKS_AND_REFERENCE   \n",
       "10840      iHoroscope - 2018 Daily Horoscope & Astrology            LIFESTYLE   \n",
       "\n",
       "       Rating  Reviews       Size  Installs  Type  Price Content Rating  \\\n",
       "0         4.1      159  19.000000     10000  Free    0.0       Everyone   \n",
       "1         3.9      967  14.000000    500000  Free    0.0       Everyone   \n",
       "2         4.7    87510   8.700000   5000000  Free    0.0       Everyone   \n",
       "3         4.5   215644  25.000000  50000000  Free    0.0           Teen   \n",
       "4         4.3      967   2.800000    100000  Free    0.0       Everyone   \n",
       "...       ...      ...        ...       ...   ...    ...            ...   \n",
       "10832     3.8     1195   0.568359    100000  Free    0.0       Everyone   \n",
       "10833     4.8       44   0.604492      1000  Free    0.0       Everyone   \n",
       "10836     4.5       38  53.000000      5000  Free    0.0       Everyone   \n",
       "10839     4.5      114        NaN      1000  Free    0.0     Mature 17+   \n",
       "10840     4.5   398307  19.000000  10000000  Free    0.0       Everyone   \n",
       "\n",
       "                          Genres       Last Updated         Current Ver  \\\n",
       "0                   Art & Design    January 7, 2018               1.0.0   \n",
       "1      Art & Design;Pretend Play   January 15, 2018               2.0.0   \n",
       "2                   Art & Design     August 1, 2018               1.2.4   \n",
       "3                   Art & Design       June 8, 2018  Varies with device   \n",
       "4        Art & Design;Creativity      June 20, 2018                 1.1   \n",
       "...                          ...                ...                 ...   \n",
       "10832                    Weather  February 16, 2014                   6   \n",
       "10833          Books & Reference     March 23, 2014                 0.8   \n",
       "10836                  Education      July 25, 2017                1.48   \n",
       "10839          Books & Reference   January 19, 2015  Varies with device   \n",
       "10840                  Lifestyle      July 25, 2018  Varies with device   \n",
       "\n",
       "              Android Ver  Log_Installs  \n",
       "0            4.0.3 and up      9.210340  \n",
       "1            4.0.3 and up     13.122363  \n",
       "2            4.0.3 and up     15.424948  \n",
       "3              4.2 and up     17.727534  \n",
       "4              4.4 and up     11.512925  \n",
       "...                   ...           ...  \n",
       "10832          2.1 and up     11.512925  \n",
       "10833          2.2 and up      6.907755  \n",
       "10836          4.1 and up      8.517193  \n",
       "10839  Varies with device      6.907755  \n",
       "10840  Varies with device     16.118096  \n",
       "\n",
       "[8304 rows x 14 columns]"
      ]
     },
     "execution_count": 27,
     "metadata": {},
     "output_type": "execute_result"
    }
   ],
   "source": [
    "apps_df"
   ]
  },
  {
   "cell_type": "code",
   "execution_count": 28,
   "id": "faeef954-bba3-4760-8311-eacf5785b9a2",
   "metadata": {},
   "outputs": [],
   "source": [
    "#Filtering apps with ratings lower than 4.0\n",
    "apps_df = apps_df[apps_df['Rating'] < 4.0]\n"
   ]
  },
  {
   "cell_type": "code",
   "execution_count": 29,
   "id": "a869cf87-848b-46bf-86e6-7bdc6c3f30b4",
   "metadata": {},
   "outputs": [
    {
     "data": {
      "text/html": [
       "<div>\n",
       "<style scoped>\n",
       "    .dataframe tbody tr th:only-of-type {\n",
       "        vertical-align: middle;\n",
       "    }\n",
       "\n",
       "    .dataframe tbody tr th {\n",
       "        vertical-align: top;\n",
       "    }\n",
       "\n",
       "    .dataframe thead th {\n",
       "        text-align: right;\n",
       "    }\n",
       "</style>\n",
       "<table border=\"1\" class=\"dataframe\">\n",
       "  <thead>\n",
       "    <tr style=\"text-align: right;\">\n",
       "      <th></th>\n",
       "      <th>App</th>\n",
       "      <th>Category</th>\n",
       "      <th>Rating</th>\n",
       "      <th>Reviews</th>\n",
       "      <th>Size</th>\n",
       "      <th>Installs</th>\n",
       "      <th>Type</th>\n",
       "      <th>Price</th>\n",
       "      <th>Content Rating</th>\n",
       "      <th>Genres</th>\n",
       "      <th>Last Updated</th>\n",
       "      <th>Current Ver</th>\n",
       "      <th>Android Ver</th>\n",
       "      <th>Log_Installs</th>\n",
       "    </tr>\n",
       "  </thead>\n",
       "  <tbody>\n",
       "    <tr>\n",
       "      <th>1</th>\n",
       "      <td>Coloring book moana</td>\n",
       "      <td>ART_AND_DESIGN</td>\n",
       "      <td>3.9</td>\n",
       "      <td>967</td>\n",
       "      <td>14.000000</td>\n",
       "      <td>500000</td>\n",
       "      <td>Free</td>\n",
       "      <td>0.00</td>\n",
       "      <td>Everyone</td>\n",
       "      <td>Art &amp; Design;Pretend Play</td>\n",
       "      <td>January 15, 2018</td>\n",
       "      <td>2.0.0</td>\n",
       "      <td>4.0.3 and up</td>\n",
       "      <td>13.122363</td>\n",
       "    </tr>\n",
       "    <tr>\n",
       "      <th>6</th>\n",
       "      <td>Smoke Effect Photo Maker - Smoke Editor</td>\n",
       "      <td>ART_AND_DESIGN</td>\n",
       "      <td>3.8</td>\n",
       "      <td>178</td>\n",
       "      <td>19.000000</td>\n",
       "      <td>50000</td>\n",
       "      <td>Free</td>\n",
       "      <td>0.00</td>\n",
       "      <td>Everyone</td>\n",
       "      <td>Art &amp; Design</td>\n",
       "      <td>April 26, 2018</td>\n",
       "      <td>1.1</td>\n",
       "      <td>4.0.3 and up</td>\n",
       "      <td>10.819778</td>\n",
       "    </tr>\n",
       "    <tr>\n",
       "      <th>15</th>\n",
       "      <td>Learn To Draw Kawaii Characters</td>\n",
       "      <td>ART_AND_DESIGN</td>\n",
       "      <td>3.2</td>\n",
       "      <td>55</td>\n",
       "      <td>2.700000</td>\n",
       "      <td>5000</td>\n",
       "      <td>Free</td>\n",
       "      <td>0.00</td>\n",
       "      <td>Everyone</td>\n",
       "      <td>Art &amp; Design</td>\n",
       "      <td>June 6, 2018</td>\n",
       "      <td>Varies with device</td>\n",
       "      <td>4.2 and up</td>\n",
       "      <td>8.517193</td>\n",
       "    </tr>\n",
       "    <tr>\n",
       "      <th>28</th>\n",
       "      <td>Pencil Sketch Drawing</td>\n",
       "      <td>ART_AND_DESIGN</td>\n",
       "      <td>3.9</td>\n",
       "      <td>136</td>\n",
       "      <td>4.600000</td>\n",
       "      <td>10000</td>\n",
       "      <td>Free</td>\n",
       "      <td>0.00</td>\n",
       "      <td>Everyone</td>\n",
       "      <td>Art &amp; Design</td>\n",
       "      <td>July 12, 2018</td>\n",
       "      <td>6</td>\n",
       "      <td>2.3 and up</td>\n",
       "      <td>9.210340</td>\n",
       "    </tr>\n",
       "    <tr>\n",
       "      <th>35</th>\n",
       "      <td>How to draw Ladybug and Cat Noir</td>\n",
       "      <td>ART_AND_DESIGN</td>\n",
       "      <td>3.8</td>\n",
       "      <td>564</td>\n",
       "      <td>9.200000</td>\n",
       "      <td>100000</td>\n",
       "      <td>Free</td>\n",
       "      <td>0.00</td>\n",
       "      <td>Everyone</td>\n",
       "      <td>Art &amp; Design</td>\n",
       "      <td>July 11, 2018</td>\n",
       "      <td>2.1</td>\n",
       "      <td>4.1 and up</td>\n",
       "      <td>11.512925</td>\n",
       "    </tr>\n",
       "    <tr>\n",
       "      <th>...</th>\n",
       "      <td>...</td>\n",
       "      <td>...</td>\n",
       "      <td>...</td>\n",
       "      <td>...</td>\n",
       "      <td>...</td>\n",
       "      <td>...</td>\n",
       "      <td>...</td>\n",
       "      <td>...</td>\n",
       "      <td>...</td>\n",
       "      <td>...</td>\n",
       "      <td>...</td>\n",
       "      <td>...</td>\n",
       "      <td>...</td>\n",
       "      <td>...</td>\n",
       "    </tr>\n",
       "    <tr>\n",
       "      <th>10782</th>\n",
       "      <td>Trine 2: Complete Story</td>\n",
       "      <td>GAME</td>\n",
       "      <td>3.8</td>\n",
       "      <td>252</td>\n",
       "      <td>11.000000</td>\n",
       "      <td>10000</td>\n",
       "      <td>Paid</td>\n",
       "      <td>16.99</td>\n",
       "      <td>Teen</td>\n",
       "      <td>Action</td>\n",
       "      <td>February 27, 2015</td>\n",
       "      <td>2.22</td>\n",
       "      <td>5.0 and up</td>\n",
       "      <td>9.210340</td>\n",
       "    </tr>\n",
       "    <tr>\n",
       "      <th>10819</th>\n",
       "      <td>Fanfic-FR</td>\n",
       "      <td>BOOKS_AND_REFERENCE</td>\n",
       "      <td>3.3</td>\n",
       "      <td>52</td>\n",
       "      <td>3.600000</td>\n",
       "      <td>5000</td>\n",
       "      <td>Free</td>\n",
       "      <td>0.00</td>\n",
       "      <td>Teen</td>\n",
       "      <td>Books &amp; Reference</td>\n",
       "      <td>August 5, 2017</td>\n",
       "      <td>0.3.4</td>\n",
       "      <td>4.1 and up</td>\n",
       "      <td>8.517193</td>\n",
       "    </tr>\n",
       "    <tr>\n",
       "      <th>10828</th>\n",
       "      <td>Manga-FR - Anime Vostfr</td>\n",
       "      <td>COMICS</td>\n",
       "      <td>3.4</td>\n",
       "      <td>291</td>\n",
       "      <td>13.000000</td>\n",
       "      <td>10000</td>\n",
       "      <td>Free</td>\n",
       "      <td>0.00</td>\n",
       "      <td>Everyone</td>\n",
       "      <td>Comics</td>\n",
       "      <td>May 15, 2017</td>\n",
       "      <td>2.0.1</td>\n",
       "      <td>4.0 and up</td>\n",
       "      <td>9.210340</td>\n",
       "    </tr>\n",
       "    <tr>\n",
       "      <th>10830</th>\n",
       "      <td>News Minecraft.fr</td>\n",
       "      <td>NEWS_AND_MAGAZINES</td>\n",
       "      <td>3.8</td>\n",
       "      <td>881</td>\n",
       "      <td>2.300000</td>\n",
       "      <td>100000</td>\n",
       "      <td>Free</td>\n",
       "      <td>0.00</td>\n",
       "      <td>Everyone</td>\n",
       "      <td>News &amp; Magazines</td>\n",
       "      <td>January 20, 2014</td>\n",
       "      <td>1.5</td>\n",
       "      <td>1.6 and up</td>\n",
       "      <td>11.512925</td>\n",
       "    </tr>\n",
       "    <tr>\n",
       "      <th>10832</th>\n",
       "      <td>FR Tides</td>\n",
       "      <td>WEATHER</td>\n",
       "      <td>3.8</td>\n",
       "      <td>1195</td>\n",
       "      <td>0.568359</td>\n",
       "      <td>100000</td>\n",
       "      <td>Free</td>\n",
       "      <td>0.00</td>\n",
       "      <td>Everyone</td>\n",
       "      <td>Weather</td>\n",
       "      <td>February 16, 2014</td>\n",
       "      <td>6</td>\n",
       "      <td>2.1 and up</td>\n",
       "      <td>11.512925</td>\n",
       "    </tr>\n",
       "  </tbody>\n",
       "</table>\n",
       "<p>1777 rows × 14 columns</p>\n",
       "</div>"
      ],
      "text/plain": [
       "                                           App             Category  Rating  \\\n",
       "1                          Coloring book moana       ART_AND_DESIGN     3.9   \n",
       "6      Smoke Effect Photo Maker - Smoke Editor       ART_AND_DESIGN     3.8   \n",
       "15             Learn To Draw Kawaii Characters       ART_AND_DESIGN     3.2   \n",
       "28                       Pencil Sketch Drawing       ART_AND_DESIGN     3.9   \n",
       "35            How to draw Ladybug and Cat Noir       ART_AND_DESIGN     3.8   \n",
       "...                                        ...                  ...     ...   \n",
       "10782                  Trine 2: Complete Story                 GAME     3.8   \n",
       "10819                                Fanfic-FR  BOOKS_AND_REFERENCE     3.3   \n",
       "10828                  Manga-FR - Anime Vostfr               COMICS     3.4   \n",
       "10830                        News Minecraft.fr   NEWS_AND_MAGAZINES     3.8   \n",
       "10832                                 FR Tides              WEATHER     3.8   \n",
       "\n",
       "       Reviews       Size  Installs  Type  Price Content Rating  \\\n",
       "1          967  14.000000    500000  Free   0.00       Everyone   \n",
       "6          178  19.000000     50000  Free   0.00       Everyone   \n",
       "15          55   2.700000      5000  Free   0.00       Everyone   \n",
       "28         136   4.600000     10000  Free   0.00       Everyone   \n",
       "35         564   9.200000    100000  Free   0.00       Everyone   \n",
       "...        ...        ...       ...   ...    ...            ...   \n",
       "10782      252  11.000000     10000  Paid  16.99           Teen   \n",
       "10819       52   3.600000      5000  Free   0.00           Teen   \n",
       "10828      291  13.000000     10000  Free   0.00       Everyone   \n",
       "10830      881   2.300000    100000  Free   0.00       Everyone   \n",
       "10832     1195   0.568359    100000  Free   0.00       Everyone   \n",
       "\n",
       "                          Genres       Last Updated         Current Ver  \\\n",
       "1      Art & Design;Pretend Play   January 15, 2018               2.0.0   \n",
       "6                   Art & Design     April 26, 2018                 1.1   \n",
       "15                  Art & Design       June 6, 2018  Varies with device   \n",
       "28                  Art & Design      July 12, 2018                   6   \n",
       "35                  Art & Design      July 11, 2018                 2.1   \n",
       "...                          ...                ...                 ...   \n",
       "10782                     Action  February 27, 2015                2.22   \n",
       "10819          Books & Reference     August 5, 2017               0.3.4   \n",
       "10828                     Comics       May 15, 2017               2.0.1   \n",
       "10830           News & Magazines   January 20, 2014                 1.5   \n",
       "10832                    Weather  February 16, 2014                   6   \n",
       "\n",
       "        Android Ver  Log_Installs  \n",
       "1      4.0.3 and up     13.122363  \n",
       "6      4.0.3 and up     10.819778  \n",
       "15       4.2 and up      8.517193  \n",
       "28       2.3 and up      9.210340  \n",
       "35       4.1 and up     11.512925  \n",
       "...             ...           ...  \n",
       "10782    5.0 and up      9.210340  \n",
       "10819    4.1 and up      8.517193  \n",
       "10828    4.0 and up      9.210340  \n",
       "10830    1.6 and up     11.512925  \n",
       "10832    2.1 and up     11.512925  \n",
       "\n",
       "[1777 rows x 14 columns]"
      ]
     },
     "execution_count": 29,
     "metadata": {},
     "output_type": "execute_result"
    }
   ],
   "source": [
    "apps_df"
   ]
  },
  {
   "cell_type": "code",
   "execution_count": 30,
   "id": "c0fcfca9-cc31-45e2-a5dc-22856fd26a63",
   "metadata": {},
   "outputs": [],
   "source": [
    "#Filtering apps where the app name contains the letter \"C\"\n",
    "apps_df = apps_df[apps_df['App'].str.contains('C', case=False)]"
   ]
  },
  {
   "cell_type": "code",
   "execution_count": 31,
   "id": "2226f51a-693f-44b8-aec6-db0d3173fdb5",
   "metadata": {},
   "outputs": [
    {
     "data": {
      "text/html": [
       "<div>\n",
       "<style scoped>\n",
       "    .dataframe tbody tr th:only-of-type {\n",
       "        vertical-align: middle;\n",
       "    }\n",
       "\n",
       "    .dataframe tbody tr th {\n",
       "        vertical-align: top;\n",
       "    }\n",
       "\n",
       "    .dataframe thead th {\n",
       "        text-align: right;\n",
       "    }\n",
       "</style>\n",
       "<table border=\"1\" class=\"dataframe\">\n",
       "  <thead>\n",
       "    <tr style=\"text-align: right;\">\n",
       "      <th></th>\n",
       "      <th>App</th>\n",
       "      <th>Category</th>\n",
       "      <th>Rating</th>\n",
       "      <th>Reviews</th>\n",
       "      <th>Size</th>\n",
       "      <th>Installs</th>\n",
       "      <th>Type</th>\n",
       "      <th>Price</th>\n",
       "      <th>Content Rating</th>\n",
       "      <th>Genres</th>\n",
       "      <th>Last Updated</th>\n",
       "      <th>Current Ver</th>\n",
       "      <th>Android Ver</th>\n",
       "      <th>Log_Installs</th>\n",
       "    </tr>\n",
       "  </thead>\n",
       "  <tbody>\n",
       "    <tr>\n",
       "      <th>1</th>\n",
       "      <td>Coloring book moana</td>\n",
       "      <td>ART_AND_DESIGN</td>\n",
       "      <td>3.9</td>\n",
       "      <td>967</td>\n",
       "      <td>14.0</td>\n",
       "      <td>500000</td>\n",
       "      <td>Free</td>\n",
       "      <td>0.00</td>\n",
       "      <td>Everyone</td>\n",
       "      <td>Art &amp; Design;Pretend Play</td>\n",
       "      <td>January 15, 2018</td>\n",
       "      <td>2.0.0</td>\n",
       "      <td>4.0.3 and up</td>\n",
       "      <td>13.122363</td>\n",
       "    </tr>\n",
       "    <tr>\n",
       "      <th>6</th>\n",
       "      <td>Smoke Effect Photo Maker - Smoke Editor</td>\n",
       "      <td>ART_AND_DESIGN</td>\n",
       "      <td>3.8</td>\n",
       "      <td>178</td>\n",
       "      <td>19.0</td>\n",
       "      <td>50000</td>\n",
       "      <td>Free</td>\n",
       "      <td>0.00</td>\n",
       "      <td>Everyone</td>\n",
       "      <td>Art &amp; Design</td>\n",
       "      <td>April 26, 2018</td>\n",
       "      <td>1.1</td>\n",
       "      <td>4.0.3 and up</td>\n",
       "      <td>10.819778</td>\n",
       "    </tr>\n",
       "    <tr>\n",
       "      <th>15</th>\n",
       "      <td>Learn To Draw Kawaii Characters</td>\n",
       "      <td>ART_AND_DESIGN</td>\n",
       "      <td>3.2</td>\n",
       "      <td>55</td>\n",
       "      <td>2.7</td>\n",
       "      <td>5000</td>\n",
       "      <td>Free</td>\n",
       "      <td>0.00</td>\n",
       "      <td>Everyone</td>\n",
       "      <td>Art &amp; Design</td>\n",
       "      <td>June 6, 2018</td>\n",
       "      <td>Varies with device</td>\n",
       "      <td>4.2 and up</td>\n",
       "      <td>8.517193</td>\n",
       "    </tr>\n",
       "    <tr>\n",
       "      <th>28</th>\n",
       "      <td>Pencil Sketch Drawing</td>\n",
       "      <td>ART_AND_DESIGN</td>\n",
       "      <td>3.9</td>\n",
       "      <td>136</td>\n",
       "      <td>4.6</td>\n",
       "      <td>10000</td>\n",
       "      <td>Free</td>\n",
       "      <td>0.00</td>\n",
       "      <td>Everyone</td>\n",
       "      <td>Art &amp; Design</td>\n",
       "      <td>July 12, 2018</td>\n",
       "      <td>6</td>\n",
       "      <td>2.3 and up</td>\n",
       "      <td>9.210340</td>\n",
       "    </tr>\n",
       "    <tr>\n",
       "      <th>35</th>\n",
       "      <td>How to draw Ladybug and Cat Noir</td>\n",
       "      <td>ART_AND_DESIGN</td>\n",
       "      <td>3.8</td>\n",
       "      <td>564</td>\n",
       "      <td>9.2</td>\n",
       "      <td>100000</td>\n",
       "      <td>Free</td>\n",
       "      <td>0.00</td>\n",
       "      <td>Everyone</td>\n",
       "      <td>Art &amp; Design</td>\n",
       "      <td>July 11, 2018</td>\n",
       "      <td>2.1</td>\n",
       "      <td>4.1 and up</td>\n",
       "      <td>11.512925</td>\n",
       "    </tr>\n",
       "    <tr>\n",
       "      <th>...</th>\n",
       "      <td>...</td>\n",
       "      <td>...</td>\n",
       "      <td>...</td>\n",
       "      <td>...</td>\n",
       "      <td>...</td>\n",
       "      <td>...</td>\n",
       "      <td>...</td>\n",
       "      <td>...</td>\n",
       "      <td>...</td>\n",
       "      <td>...</td>\n",
       "      <td>...</td>\n",
       "      <td>...</td>\n",
       "      <td>...</td>\n",
       "      <td>...</td>\n",
       "    </tr>\n",
       "    <tr>\n",
       "      <th>10766</th>\n",
       "      <td>FreedomPop Diagnostics</td>\n",
       "      <td>TOOLS</td>\n",
       "      <td>2.9</td>\n",
       "      <td>452</td>\n",
       "      <td>7.0</td>\n",
       "      <td>100000</td>\n",
       "      <td>Free</td>\n",
       "      <td>0.00</td>\n",
       "      <td>Everyone</td>\n",
       "      <td>Tools</td>\n",
       "      <td>July 17, 2017</td>\n",
       "      <td>1.03.123.0713</td>\n",
       "      <td>4.0.3 and up</td>\n",
       "      <td>11.512925</td>\n",
       "    </tr>\n",
       "    <tr>\n",
       "      <th>10777</th>\n",
       "      <td>BEBONCOOL GAMEPAD V1.0</td>\n",
       "      <td>GAME</td>\n",
       "      <td>3.9</td>\n",
       "      <td>404</td>\n",
       "      <td>2.2</td>\n",
       "      <td>100000</td>\n",
       "      <td>Free</td>\n",
       "      <td>0.00</td>\n",
       "      <td>Everyone</td>\n",
       "      <td>Arcade</td>\n",
       "      <td>August 30, 2017</td>\n",
       "      <td>1.2</td>\n",
       "      <td>4.0 and up</td>\n",
       "      <td>11.512925</td>\n",
       "    </tr>\n",
       "    <tr>\n",
       "      <th>10782</th>\n",
       "      <td>Trine 2: Complete Story</td>\n",
       "      <td>GAME</td>\n",
       "      <td>3.8</td>\n",
       "      <td>252</td>\n",
       "      <td>11.0</td>\n",
       "      <td>10000</td>\n",
       "      <td>Paid</td>\n",
       "      <td>16.99</td>\n",
       "      <td>Teen</td>\n",
       "      <td>Action</td>\n",
       "      <td>February 27, 2015</td>\n",
       "      <td>2.22</td>\n",
       "      <td>5.0 and up</td>\n",
       "      <td>9.210340</td>\n",
       "    </tr>\n",
       "    <tr>\n",
       "      <th>10819</th>\n",
       "      <td>Fanfic-FR</td>\n",
       "      <td>BOOKS_AND_REFERENCE</td>\n",
       "      <td>3.3</td>\n",
       "      <td>52</td>\n",
       "      <td>3.6</td>\n",
       "      <td>5000</td>\n",
       "      <td>Free</td>\n",
       "      <td>0.00</td>\n",
       "      <td>Teen</td>\n",
       "      <td>Books &amp; Reference</td>\n",
       "      <td>August 5, 2017</td>\n",
       "      <td>0.3.4</td>\n",
       "      <td>4.1 and up</td>\n",
       "      <td>8.517193</td>\n",
       "    </tr>\n",
       "    <tr>\n",
       "      <th>10830</th>\n",
       "      <td>News Minecraft.fr</td>\n",
       "      <td>NEWS_AND_MAGAZINES</td>\n",
       "      <td>3.8</td>\n",
       "      <td>881</td>\n",
       "      <td>2.3</td>\n",
       "      <td>100000</td>\n",
       "      <td>Free</td>\n",
       "      <td>0.00</td>\n",
       "      <td>Everyone</td>\n",
       "      <td>News &amp; Magazines</td>\n",
       "      <td>January 20, 2014</td>\n",
       "      <td>1.5</td>\n",
       "      <td>1.6 and up</td>\n",
       "      <td>11.512925</td>\n",
       "    </tr>\n",
       "  </tbody>\n",
       "</table>\n",
       "<p>947 rows × 14 columns</p>\n",
       "</div>"
      ],
      "text/plain": [
       "                                           App             Category  Rating  \\\n",
       "1                          Coloring book moana       ART_AND_DESIGN     3.9   \n",
       "6      Smoke Effect Photo Maker - Smoke Editor       ART_AND_DESIGN     3.8   \n",
       "15             Learn To Draw Kawaii Characters       ART_AND_DESIGN     3.2   \n",
       "28                       Pencil Sketch Drawing       ART_AND_DESIGN     3.9   \n",
       "35            How to draw Ladybug and Cat Noir       ART_AND_DESIGN     3.8   \n",
       "...                                        ...                  ...     ...   \n",
       "10766                   FreedomPop Diagnostics                TOOLS     2.9   \n",
       "10777                   BEBONCOOL GAMEPAD V1.0                 GAME     3.9   \n",
       "10782                  Trine 2: Complete Story                 GAME     3.8   \n",
       "10819                                Fanfic-FR  BOOKS_AND_REFERENCE     3.3   \n",
       "10830                        News Minecraft.fr   NEWS_AND_MAGAZINES     3.8   \n",
       "\n",
       "       Reviews  Size  Installs  Type  Price Content Rating  \\\n",
       "1          967  14.0    500000  Free   0.00       Everyone   \n",
       "6          178  19.0     50000  Free   0.00       Everyone   \n",
       "15          55   2.7      5000  Free   0.00       Everyone   \n",
       "28         136   4.6     10000  Free   0.00       Everyone   \n",
       "35         564   9.2    100000  Free   0.00       Everyone   \n",
       "...        ...   ...       ...   ...    ...            ...   \n",
       "10766      452   7.0    100000  Free   0.00       Everyone   \n",
       "10777      404   2.2    100000  Free   0.00       Everyone   \n",
       "10782      252  11.0     10000  Paid  16.99           Teen   \n",
       "10819       52   3.6      5000  Free   0.00           Teen   \n",
       "10830      881   2.3    100000  Free   0.00       Everyone   \n",
       "\n",
       "                          Genres       Last Updated         Current Ver  \\\n",
       "1      Art & Design;Pretend Play   January 15, 2018               2.0.0   \n",
       "6                   Art & Design     April 26, 2018                 1.1   \n",
       "15                  Art & Design       June 6, 2018  Varies with device   \n",
       "28                  Art & Design      July 12, 2018                   6   \n",
       "35                  Art & Design      July 11, 2018                 2.1   \n",
       "...                          ...                ...                 ...   \n",
       "10766                      Tools      July 17, 2017       1.03.123.0713   \n",
       "10777                     Arcade    August 30, 2017                 1.2   \n",
       "10782                     Action  February 27, 2015                2.22   \n",
       "10819          Books & Reference     August 5, 2017               0.3.4   \n",
       "10830           News & Magazines   January 20, 2014                 1.5   \n",
       "\n",
       "        Android Ver  Log_Installs  \n",
       "1      4.0.3 and up     13.122363  \n",
       "6      4.0.3 and up     10.819778  \n",
       "15       4.2 and up      8.517193  \n",
       "28       2.3 and up      9.210340  \n",
       "35       4.1 and up     11.512925  \n",
       "...             ...           ...  \n",
       "10766  4.0.3 and up     11.512925  \n",
       "10777    4.0 and up     11.512925  \n",
       "10782    5.0 and up      9.210340  \n",
       "10819    4.1 and up      8.517193  \n",
       "10830    1.6 and up     11.512925  \n",
       "\n",
       "[947 rows x 14 columns]"
      ]
     },
     "execution_count": 31,
     "metadata": {},
     "output_type": "execute_result"
    }
   ],
   "source": [
    "apps_df"
   ]
  },
  {
   "cell_type": "code",
   "execution_count": 32,
   "id": "c8bfa65d-091c-4d71-8bda-d224fe642159",
   "metadata": {},
   "outputs": [],
   "source": [
    "#Only including categories with more than 50 apps\n",
    "category_counts = apps_df['Category'].value_counts()\n",
    "categories_to_include = category_counts[category_counts > 50].index\n",
    "apps_df = apps_df[apps_df['Category'].isin(categories_to_include)]"
   ]
  },
  {
   "cell_type": "code",
   "execution_count": 33,
   "id": "a3e7b347-2445-406b-960f-2986167dfe77",
   "metadata": {},
   "outputs": [
    {
     "data": {
      "text/html": [
       "<div>\n",
       "<style scoped>\n",
       "    .dataframe tbody tr th:only-of-type {\n",
       "        vertical-align: middle;\n",
       "    }\n",
       "\n",
       "    .dataframe tbody tr th {\n",
       "        vertical-align: top;\n",
       "    }\n",
       "\n",
       "    .dataframe thead th {\n",
       "        text-align: right;\n",
       "    }\n",
       "</style>\n",
       "<table border=\"1\" class=\"dataframe\">\n",
       "  <thead>\n",
       "    <tr style=\"text-align: right;\">\n",
       "      <th></th>\n",
       "      <th>App</th>\n",
       "      <th>Category</th>\n",
       "      <th>Rating</th>\n",
       "      <th>Reviews</th>\n",
       "      <th>Size</th>\n",
       "      <th>Installs</th>\n",
       "      <th>Type</th>\n",
       "      <th>Price</th>\n",
       "      <th>Content Rating</th>\n",
       "      <th>Genres</th>\n",
       "      <th>Last Updated</th>\n",
       "      <th>Current Ver</th>\n",
       "      <th>Android Ver</th>\n",
       "      <th>Log_Installs</th>\n",
       "    </tr>\n",
       "  </thead>\n",
       "  <tbody>\n",
       "    <tr>\n",
       "      <th>1682</th>\n",
       "      <td>Race the Traffic Moto</td>\n",
       "      <td>GAME</td>\n",
       "      <td>3.8</td>\n",
       "      <td>270687</td>\n",
       "      <td>38.0</td>\n",
       "      <td>10000000</td>\n",
       "      <td>Free</td>\n",
       "      <td>0.00</td>\n",
       "      <td>Teen</td>\n",
       "      <td>Racing</td>\n",
       "      <td>July 20, 2018</td>\n",
       "      <td>1.0.16</td>\n",
       "      <td>4.0.3 and up</td>\n",
       "      <td>16.118096</td>\n",
       "    </tr>\n",
       "    <tr>\n",
       "      <th>1782</th>\n",
       "      <td>Will it Crush?</td>\n",
       "      <td>GAME</td>\n",
       "      <td>3.1</td>\n",
       "      <td>25825</td>\n",
       "      <td>16.0</td>\n",
       "      <td>5000000</td>\n",
       "      <td>Free</td>\n",
       "      <td>0.00</td>\n",
       "      <td>Everyone</td>\n",
       "      <td>Simulation</td>\n",
       "      <td>May 22, 2018</td>\n",
       "      <td>1.3.3</td>\n",
       "      <td>4.4 and up</td>\n",
       "      <td>15.424948</td>\n",
       "    </tr>\n",
       "    <tr>\n",
       "      <th>2033</th>\n",
       "      <td>Coloring book moana</td>\n",
       "      <td>FAMILY</td>\n",
       "      <td>3.9</td>\n",
       "      <td>974</td>\n",
       "      <td>14.0</td>\n",
       "      <td>500000</td>\n",
       "      <td>Free</td>\n",
       "      <td>0.00</td>\n",
       "      <td>Everyone</td>\n",
       "      <td>Art &amp; Design;Pretend Play</td>\n",
       "      <td>January 15, 2018</td>\n",
       "      <td>2.0.0</td>\n",
       "      <td>4.0.3 and up</td>\n",
       "      <td>13.122363</td>\n",
       "    </tr>\n",
       "    <tr>\n",
       "      <th>2078</th>\n",
       "      <td>Dr. Panda Town: Vacation</td>\n",
       "      <td>FAMILY</td>\n",
       "      <td>3.8</td>\n",
       "      <td>10366</td>\n",
       "      <td>78.0</td>\n",
       "      <td>1000000</td>\n",
       "      <td>Free</td>\n",
       "      <td>0.00</td>\n",
       "      <td>Everyone</td>\n",
       "      <td>Education;Pretend Play</td>\n",
       "      <td>July 24, 2018</td>\n",
       "      <td>1.2.1</td>\n",
       "      <td>4.1 and up</td>\n",
       "      <td>13.815511</td>\n",
       "    </tr>\n",
       "    <tr>\n",
       "      <th>2082</th>\n",
       "      <td>Montessori Preschool</td>\n",
       "      <td>FAMILY</td>\n",
       "      <td>3.9</td>\n",
       "      <td>237</td>\n",
       "      <td>26.0</td>\n",
       "      <td>100000</td>\n",
       "      <td>Free</td>\n",
       "      <td>0.00</td>\n",
       "      <td>Everyone</td>\n",
       "      <td>Education;Education</td>\n",
       "      <td>July 12, 2018</td>\n",
       "      <td>1.7.2</td>\n",
       "      <td>4.1 and up</td>\n",
       "      <td>11.512925</td>\n",
       "    </tr>\n",
       "    <tr>\n",
       "      <th>...</th>\n",
       "      <td>...</td>\n",
       "      <td>...</td>\n",
       "      <td>...</td>\n",
       "      <td>...</td>\n",
       "      <td>...</td>\n",
       "      <td>...</td>\n",
       "      <td>...</td>\n",
       "      <td>...</td>\n",
       "      <td>...</td>\n",
       "      <td>...</td>\n",
       "      <td>...</td>\n",
       "      <td>...</td>\n",
       "      <td>...</td>\n",
       "      <td>...</td>\n",
       "    </tr>\n",
       "    <tr>\n",
       "      <th>10743</th>\n",
       "      <td>FP BW LCD View</td>\n",
       "      <td>FAMILY</td>\n",
       "      <td>3.4</td>\n",
       "      <td>16</td>\n",
       "      <td>1.2</td>\n",
       "      <td>500</td>\n",
       "      <td>Free</td>\n",
       "      <td>0.00</td>\n",
       "      <td>Everyone</td>\n",
       "      <td>Entertainment</td>\n",
       "      <td>March 31, 2016</td>\n",
       "      <td>1</td>\n",
       "      <td>4.0.3 and up</td>\n",
       "      <td>6.214608</td>\n",
       "    </tr>\n",
       "    <tr>\n",
       "      <th>10757</th>\n",
       "      <td>Fisher-Price® Smart Connect™</td>\n",
       "      <td>TOOLS</td>\n",
       "      <td>2.7</td>\n",
       "      <td>422</td>\n",
       "      <td>72.0</td>\n",
       "      <td>50000</td>\n",
       "      <td>Free</td>\n",
       "      <td>0.00</td>\n",
       "      <td>Everyone</td>\n",
       "      <td>Tools</td>\n",
       "      <td>February 23, 2018</td>\n",
       "      <td>2.4.1</td>\n",
       "      <td>4.4 and up</td>\n",
       "      <td>10.819778</td>\n",
       "    </tr>\n",
       "    <tr>\n",
       "      <th>10766</th>\n",
       "      <td>FreedomPop Diagnostics</td>\n",
       "      <td>TOOLS</td>\n",
       "      <td>2.9</td>\n",
       "      <td>452</td>\n",
       "      <td>7.0</td>\n",
       "      <td>100000</td>\n",
       "      <td>Free</td>\n",
       "      <td>0.00</td>\n",
       "      <td>Everyone</td>\n",
       "      <td>Tools</td>\n",
       "      <td>July 17, 2017</td>\n",
       "      <td>1.03.123.0713</td>\n",
       "      <td>4.0.3 and up</td>\n",
       "      <td>11.512925</td>\n",
       "    </tr>\n",
       "    <tr>\n",
       "      <th>10777</th>\n",
       "      <td>BEBONCOOL GAMEPAD V1.0</td>\n",
       "      <td>GAME</td>\n",
       "      <td>3.9</td>\n",
       "      <td>404</td>\n",
       "      <td>2.2</td>\n",
       "      <td>100000</td>\n",
       "      <td>Free</td>\n",
       "      <td>0.00</td>\n",
       "      <td>Everyone</td>\n",
       "      <td>Arcade</td>\n",
       "      <td>August 30, 2017</td>\n",
       "      <td>1.2</td>\n",
       "      <td>4.0 and up</td>\n",
       "      <td>11.512925</td>\n",
       "    </tr>\n",
       "    <tr>\n",
       "      <th>10782</th>\n",
       "      <td>Trine 2: Complete Story</td>\n",
       "      <td>GAME</td>\n",
       "      <td>3.8</td>\n",
       "      <td>252</td>\n",
       "      <td>11.0</td>\n",
       "      <td>10000</td>\n",
       "      <td>Paid</td>\n",
       "      <td>16.99</td>\n",
       "      <td>Teen</td>\n",
       "      <td>Action</td>\n",
       "      <td>February 27, 2015</td>\n",
       "      <td>2.22</td>\n",
       "      <td>5.0 and up</td>\n",
       "      <td>9.210340</td>\n",
       "    </tr>\n",
       "  </tbody>\n",
       "</table>\n",
       "<p>410 rows × 14 columns</p>\n",
       "</div>"
      ],
      "text/plain": [
       "                                App Category  Rating  Reviews  Size  Installs  \\\n",
       "1682          Race the Traffic Moto     GAME     3.8   270687  38.0  10000000   \n",
       "1782                 Will it Crush?     GAME     3.1    25825  16.0   5000000   \n",
       "2033            Coloring book moana   FAMILY     3.9      974  14.0    500000   \n",
       "2078       Dr. Panda Town: Vacation   FAMILY     3.8    10366  78.0   1000000   \n",
       "2082           Montessori Preschool   FAMILY     3.9      237  26.0    100000   \n",
       "...                             ...      ...     ...      ...   ...       ...   \n",
       "10743                FP BW LCD View   FAMILY     3.4       16   1.2       500   \n",
       "10757  Fisher-Price® Smart Connect™    TOOLS     2.7      422  72.0     50000   \n",
       "10766        FreedomPop Diagnostics    TOOLS     2.9      452   7.0    100000   \n",
       "10777        BEBONCOOL GAMEPAD V1.0     GAME     3.9      404   2.2    100000   \n",
       "10782       Trine 2: Complete Story     GAME     3.8      252  11.0     10000   \n",
       "\n",
       "       Type  Price Content Rating                     Genres  \\\n",
       "1682   Free   0.00           Teen                     Racing   \n",
       "1782   Free   0.00       Everyone                 Simulation   \n",
       "2033   Free   0.00       Everyone  Art & Design;Pretend Play   \n",
       "2078   Free   0.00       Everyone     Education;Pretend Play   \n",
       "2082   Free   0.00       Everyone        Education;Education   \n",
       "...     ...    ...            ...                        ...   \n",
       "10743  Free   0.00       Everyone              Entertainment   \n",
       "10757  Free   0.00       Everyone                      Tools   \n",
       "10766  Free   0.00       Everyone                      Tools   \n",
       "10777  Free   0.00       Everyone                     Arcade   \n",
       "10782  Paid  16.99           Teen                     Action   \n",
       "\n",
       "            Last Updated    Current Ver   Android Ver  Log_Installs  \n",
       "1682       July 20, 2018         1.0.16  4.0.3 and up     16.118096  \n",
       "1782        May 22, 2018          1.3.3    4.4 and up     15.424948  \n",
       "2033    January 15, 2018          2.0.0  4.0.3 and up     13.122363  \n",
       "2078       July 24, 2018          1.2.1    4.1 and up     13.815511  \n",
       "2082       July 12, 2018          1.7.2    4.1 and up     11.512925  \n",
       "...                  ...            ...           ...           ...  \n",
       "10743     March 31, 2016              1  4.0.3 and up      6.214608  \n",
       "10757  February 23, 2018          2.4.1    4.4 and up     10.819778  \n",
       "10766      July 17, 2017  1.03.123.0713  4.0.3 and up     11.512925  \n",
       "10777    August 30, 2017            1.2    4.0 and up     11.512925  \n",
       "10782  February 27, 2015           2.22    5.0 and up      9.210340  \n",
       "\n",
       "[410 rows x 14 columns]"
      ]
     },
     "execution_count": 33,
     "metadata": {},
     "output_type": "execute_result"
    }
   ],
   "source": [
    "apps_df"
   ]
  },
  {
   "cell_type": "code",
   "execution_count": 37,
   "id": "f3d3a306-5ea3-4e4d-ac40-50704687d51b",
   "metadata": {},
   "outputs": [],
   "source": [
    "#Check current time to prevent running the plot between 6 PM to 11 PM\n",
    "current_time = datetime.now().time()\n"
   ]
  },
  {
   "cell_type": "code",
   "execution_count": 59,
   "id": "398a4639-a39a-4616-9b0b-5a393ff98f40",
   "metadata": {},
   "outputs": [
    {
     "data": {
      "application/vnd.plotly.v1+json": {
       "config": {
        "plotlyServerURL": "https://plot.ly"
       },
       "data": [
        {
         "alignmentgroup": "True",
         "box": {
          "visible": true
         },
         "customdata": [
          [
           "Race the Traffic Moto",
           270687
          ],
          [
           "Will it Crush?",
           25825
          ],
          [
           "Coloring book moana",
           974
          ],
          [
           "Dr. Panda Town: Vacation",
           10366
          ],
          [
           "Montessori Preschool",
           237
          ],
          [
           "Earth to Luna! Watch and Play",
           10753
          ],
          [
           "Chess PRO Free",
           1123
          ],
          [
           "Elmo Calls by Sesame Street",
           6903
          ],
          [
           "Ever After High™ Charmed Style",
           44062
          ],
          [
           "My Telcel",
           45838
          ],
          [
           "Clear",
           24151
          ],
          [
           "Sound Recorder: Recorder & Voice Changer Free",
           14552
          ],
          [
           "HTC Sense Input",
           17030
          ],
          [
           "HTC Sense Input-LV",
           59
          ],
          [
           "HTC Sense Input-CA",
           124
          ],
          [
           "HTC Sense Input-AR",
           1420
          ],
          [
           "Graphing Calculator",
           12388
          ],
          [
           "ZERO Lock Screen",
           75336
          ],
          [
           "A Call From Santa Claus!",
           3720
          ],
          [
           "Create A Superhero HD",
           8642
          ],
          [
           "Real City Car Driver",
           413609
          ],
          [
           "Draw A Stickman",
           29265
          ],
          [
           "Disney Magic Timer by Oral-B",
           31061
          ],
          [
           "B-BLE(BLE4.0 Scan)",
           159
          ],
          [
           "Cardi B Piano Game",
           50
          ],
          [
           "C-SPAN Radio",
           608
          ],
          [
           "Bridge-C - Get More Storage",
           24
          ],
          [
           "Batmobile™ R/C Controller",
           452
          ],
          [
           "Broken Screen Prank",
           23682
          ],
          [
           "Screen Lock - with Fingerprint Simulator",
           338449
          ],
          [
           "Chuck E.'s Skate Universe",
           94910
          ],
          [
           "E-cigarette for free",
           1354
          ],
          [
           "Super Car F. Mod for MCPE",
           214
          ],
          [
           "G-Switch",
           4116
          ],
          [
           "Speedometer with G-FORCE meter",
           415
          ],
          [
           "Elkhart County 4-H Fair",
           38
          ],
          [
           "Mobile Number Tracker",
           19758
          ],
          [
           "J-Novel Club",
           162
          ],
          [
           "K-Chiing VPN (Free)",
           43
          ],
          [
           "Lie Detector",
           306
          ],
          [
           "M-acceleration 3D Car Racing",
           1202
          ],
          [
           "Super Hero M Craft Run",
           303
          ],
          [
           "Don't Hug Me I'm So Scared",
           901
          ],
          [
           "Dino in City-Dinosaur N Police",
           10035
          ],
          [
           "Madagascar Surf n' Slides Free",
           48929
          ],
          [
           "Rock n Roll Music Quiz Game",
           80
          ],
          [
           "Cook 'n Learn Smart Kitchen",
           205
          ],
          [
           "Detect-O-Gromit (D.O.G 2)",
           45
          ],
          [
           "AC Remote for O General - NOW FREE",
           274
          ],
          [
           "O Multiple - App Cloner, Duals APP, tarallel",
           145
          ],
          [
           "Q-See QC View",
           657
          ],
          [
           "Q Remote Control",
           4264
          ],
          [
           "Car Parking Nissan GT-R R35 Simulator",
           513
          ],
          [
           "DIRECTV Remote App",
           480
          ],
          [
           "T-Mobile Visual Voicemail",
           41502
          ],
          [
           "Don't touch my phone",
           21943
          ],
          [
           "U-Scan",
           784
          ],
          [
           "DRC Sim - Wii U Gamepad",
           210
          ],
          [
           "U-Disco",
           906
          ],
          [
           "U-48 Submarine Commander Free",
           4575
          ],
          [
           "Pocket U ASW",
           93
          ],
          [
           "The Gang Sniper V. Pocket Edition.",
           6121
          ],
          [
           "Mod GTA V for MCPE",
           4288
          ],
          [
           "Nose Doctor X: Booger Mania",
           37584
          ],
          [
           "Xray Scanner Prank",
           355837
          ],
          [
           "X-ray scanner simulator",
           1616
          ],
          [
           "Universal AC Remote Control",
           40934
          ],
          [
           "Smart Air Conditioner",
           4786
          ],
          [
           "Assassin's Creed Identity",
           42529
          ],
          [
           "AC Remote Control",
           472
          ],
          [
           "Air conditioner remote control",
           29854
          ],
          [
           "Smart-AC Universal Remote Free",
           3270
          ],
          [
           "AC REMOTE UNIVERSAL-PRO",
           402
          ],
          [
           "AC WIFI",
           41
          ],
          [
           "A/C Air Conditioner Remote",
           7816
          ],
          [
           "Smart Air Conditioner(CAC)",
           409
          ],
          [
           "Carrier Air Conditioner",
           362
          ],
          [
           "TOSHIBA Smart AC",
           60
          ],
          [
           "Trane Interactive Smart AC",
           48
          ],
          [
           "AC remote control mobile",
           3043
          ],
          [
           "AC Remote for Haier - NOW FREE",
           336
          ],
          [
           "AC Remote for Daikin - NOW FREE",
           383
          ],
          [
           "A/C Universal Remote Control",
           3263
          ],
          [
           "AC Remote for LG - NOW FREE",
           1041
          ],
          [
           "Plug-in app (System AC)",
           126
          ],
          [
           "Ac remote control",
           822
          ],
          [
           "AC Remote Control Simulator",
           353
          ],
          [
           "AC Remote For LG",
           1298
          ],
          [
           "Universal AC Remote Control Simulator",
           119
          ],
          [
           "Hi-Smart AC",
           32
          ],
          [
           "AC Remote for Sharp - NOW FREE",
           332
          ],
          [
           "AC Remote for Samsung - NOW FREE",
           566
          ],
          [
           "AC Remote for Carrier - NOW FREE",
           163
          ],
          [
           "AC & TV, DVD, Set Top Box - Remote control IR",
           3632
          ],
          [
           "ac remote control",
           9514
          ],
          [
           "AppBrain Ad Detector",
           9221
          ],
          [
           "Ad Detector",
           208
          ],
          [
           "Ad Block REMOVER - NEED ROOT",
           999
          ],
          [
           "Emo Ads Blocker Browser",
           1555
          ],
          [
           "Apps Ads Detector",
           315
          ],
          [
           "Shortcuts for After Effects",
           464
          ],
          [
           "AE Gun Ball: arcade ball games",
           8581
          ],
          [
           "AE GTO Racing",
           6988
          ],
          [
           "DSLR Blur Camera Auto Focus",
           75
          ],
          [
           "VR AG Racing for Cardboard",
           13
          ],
          [
           "WoW AH Tracker",
           33
          ],
          [
           "Ah! Cutie",
           536
          ],
          [
           "AH-1 Viper Cobra Ops - helicopter flight simulator",
           1088
          ],
          [
           "Ah! Coins",
           256
          ],
          [
           "The Artificial Intelligence Project (A.I. Chat)",
           76
          ],
          [
           "Artificial Intelligence",
           339
          ],
          [
           "ChatBot AI Talking Girl",
           3597
          ],
          [
           "ParaTek Ai Speech generator",
           448
          ],
          [
           "Tomo A.i. Pet Chat Bot",
           40
          ],
          [
           "Chat With Artificial Intelligence",
           32
          ],
          [
           "ChatBolo - AI Chatbot Online",
           1407
          ],
          [
           "Jarvis artificial intelligent",
           253
          ],
          [
           "Club Penguin Island",
           107441
          ],
          [
           "Counter Terrorist Attack",
           145931
          ],
          [
           "Gun Mod: Guns in Minecraft PE",
           33812
          ],
          [
           "AK Math Coach",
           283
          ],
          [
           "I AM RICH",
           1455
          ],
          [
           "I Am Rich",
           217
          ],
          [
           "Girls Craft: Exploration",
           130689
          ],
          [
           "Virtual Cigarette Smoking (prank)",
           29838
          ],
          [
           "Scanning body and undressing people",
           1012
          ],
          [
           "Scanning under clothes (prank)",
           1443
          ],
          [
           "Body scanner (prank)",
           16063
          ],
          [
           "AP Flashcards",
           88
          ],
          [
           "iScore5 AP Psych",
           10
          ],
          [
           "AP Math & Computer Science",
           37
          ],
          [
           "QR BARCODE SCANNER",
           169369
          ],
          [
           "Crayola Color Blaster",
           17
          ],
          [
           "Stack It AR",
           1363
          ],
          [
           "Monster Park AR - Jurassic Dinosaurs in Real World",
           128
          ],
          [
           "AR Remote Car",
           1354
          ],
          [
           "Assemblr - Create 3D Models (Sandbox AR)",
           1745
          ],
          [
           "MCRAFT AR - EDITOR",
           131
          ],
          [
           "Arcraft - AR Sandbox",
           469
          ],
          [
           "Paint Space AR",
           17
          ],
          [
           "Summer Camp Island AR",
           740
          ],
          [
           "AR Sport Cars",
           284
          ],
          [
           "PS4 Second Screen",
           11773
          ],
          [
           "Five nights at Minecraft",
           9335
          ],
          [
           "DIRECTV for Tablets",
           24123
          ],
          [
           "Two Nights at jumpscare",
           596
          ],
          [
           "5 Nights at Cube Pizzeria City",
           2691
          ],
          [
           "Au Mobile: Audition Chính Hiệu",
           85278
          ],
          [
           "Remote for Onkyo AV Receivers & Smart TV/Blu-Ray",
           701
          ],
          [
           "AV Pro Voice Changer",
           174
          ],
          [
           "Remote For Pioneer AV Receivers and Blu-Ray",
           150
          ],
          [
           "AV High School District",
           91
          ],
          [
           "Analog Clock AW-7 PRO",
           40
          ],
          [
           "iSniper 3D Arctic Warfare",
           35572
          ],
          [
           "Advanced Warfare Guns",
           2079
          ],
          [
           "Axe Champ",
           141
          ],
          [
           "Display Phone Screen On TV",
           9895
          ],
          [
           "Az Content",
           24
          ],
          [
           "AZ REMOTE CONTROL",
           149
          ],
          [
           "Ba Cristi",
           196
          ],
          [
           "BC Connect",
           11
          ],
          [
           "BC Lotto Check",
           10
          ],
          [
           "BC Wildfire",
           27
          ],
          [
           "British Columbia License",
           14
          ],
          [
           "Bridge Constructor Playground FREE",
           137377
          ],
          [
           "BD TYCOON",
           16
          ],
          [
           "Remote for Samsung TV & BluRay Players (Read Desc)",
           1988
          ],
          [
           "Vehicle Case Checker BD",
           29
          ],
          [
           "Remote for Panasonic TV+BD+AVR",
           533
          ],
          [
           "Millionaire Quiz Free: Be Rich",
           66033
          ],
          [
           "Wolf of the BF:Commando MOBILE",
           32
          ],
          [
           "BF-Calc",
           428
          ],
          [
           "Sexy Hot Detector Prank",
           17067
          ],
          [
           "Body Scanner xray Real Camera Prank Entertaintment",
           17
          ],
          [
           "Droid PRoCon BF3",
           412
          ],
          [
           "Virtual Boyfriend Chat",
           407
          ],
          [
           "HTC Sense Input-BG",
           198
          ],
          [
           "HTC Sense Input - BG",
           218
          ],
          [
           "Block Gun 3D: Call of Destiny",
           31883
          ],
          [
           "Block Gun 3D: Ghost Ops",
           142693
          ],
          [
           "CINEMA.BH",
           11
          ],
          [
           "BJ Bridge Acol Beginner 2018",
           11
          ],
          [
           "DJ Music Pad",
           35121
          ],
          [
           "Metal Detector Pro 2015",
           1166
          ],
          [
           "Yaoi Novels - Shounen ai Book&fiction",
           304
          ],
          [
           "Sic Bo Online! Free Casino",
           488
          ],
          [
           "HBO GO: Stream with TV Package",
           87734
          ],
          [
           "Sic Bo Rave",
           164
          ],
          [
           "BP-Tech",
           12
          ],
          [
           "BQ Services",
           5004
          ],
          [
           "CABLE SIZE CALCULATOR BS 7671",
           333
          ],
          [
           "VOLT DROP CALCULATOR BS 7671",
           71
          ],
          [
           "BTNotification",
           15665
          ],
          [
           "Bt Notifier -Smartwatch notice",
           632
          ],
          [
           "BT Controller",
           4374
          ],
          [
           "Mediatek SmartDevice",
           11187
          ],
          [
           "Bluetooth Control BT->uC FREE",
           67
          ],
          [
           "kick the buddy",
           294
          ],
          [
           "VictronConnect",
           400
          ],
          [
           "Bixby Button Remapper - bxActions Pro / Coffee",
           319
          ],
          [
           "Car Driving Simulator Citroen",
           174
          ],
          [
           "Glitter Color By Number - Glitter Number Coloring",
           1380
          ],
          [
           "Rized ‼️ Color By Number & Pixel Coloring Book",
           1279
          ],
          [
           "Color by Disney",
           5706
          ],
          [
           "Color By Numbers - Art Game for Kids and Adults",
           305
          ],
          [
           "CA Mobile OTP",
           688
          ],
          [
           "CA Auth ID",
           39
          ],
          [
           "CB Frequencies FREE!",
           364
          ],
          [
           "Frequencies Free",
           382
          ],
          [
           "CBRadioTab",
           127
          ],
          [
           "Disc Label Print",
           262
          ],
          [
           "РееI Smart Remote MP3 CD Player",
           27
          ],
          [
           "CE Broker",
           190
          ],
          [
           "Motocross Motorbike Simulator Offroad",
           51366
          ],
          [
           "BF CG View Wallpapers",
           13
          ],
          [
           "CG Patwari Exam",
           28
          ],
          [
           "Flo's CH Boss Timer",
           163
          ],
          [
           "ci",
           1691
          ],
          [
           "Test de Inteligencia CI",
           21
          ],
          [
           "CJ Fallon eBook Reader",
           76
          ],
          [
           "San Andreas City : Auto Theft Car gangster",
           923
          ],
          [
           "Codes for GTA San Andreas",
           12414
          ],
          [
           "Project Grand Auto Town Sandbox Beta",
           7885
          ],
          [
           "Old: CL-150",
           120
          ],
          [
           "CM Apps",
           3341
          ],
          [
           "Ruler(cm, inch)",
           2889
          ],
          [
           "Ruler cm",
           661
          ],
          [
           "Centimeter Ruler",
           16
          ],
          [
           "CM S Pen Add-on(ROOT)",
           373
          ],
          [
           "Inches to Centimeters",
           949
          ],
          [
           "CN Summer Challenge",
           985
          ],
          [
           "Rockstars of Ooo",
           642
          ],
          [
           "Angelo Rules - Crazy day",
           108336
          ],
          [
           "Formula Cartoon All Stars",
           1213
          ],
          [
           "Co Checker",
           12
          ],
          [
           "Supermarket Cashier Kids Games",
           32416
          ],
          [
           "Chinese Chess 3D Online (Xiangqi, 象棋, co tuong)",
           23
          ],
          [
           "CP Creepypasta",
           128
          ],
          [
           "Hercules CP Mobile",
           20
          ],
          [
           "Evolution CP",
           13
          ],
          [
           "Evolve CP Calc. for PokemonGo",
           116
          ],
          [
           "Palavras la cq",
           783
          ],
          [
           "Snowboard Racing Free Fun Game",
           4552
          ],
          [
           "Chest Calculator for CR",
           14754
          ],
          [
           "Stats CR Clan for Clash Royale",
           16
          ],
          [
           "Deck Simulator for CR",
           202
          ],
          [
           "CR Best Decks",
           34
          ],
          [
           "CR Family",
           10
          ],
          [
           "JavaScript Editor CR",
           114
          ],
          [
           "Deck Builder & Analyzer for CR",
           52
          ],
          [
           "Java Editor CR",
           434
          ],
          [
           "XML Editor CR",
           47
          ],
          [
           "CS-Touch",
           337
          ],
          [
           "Аim Training for CS",
           2328
          ],
          [
           "Sniper Traning for CS GO",
           655
          ],
          [
           "CS Guns Shoot",
           433
          ],
          [
           "Mobile CS:GO",
           1015
          ],
          [
           "Shooter Sniper CS - FPS Games",
           14823
          ],
          [
           "What's Your CS:GO rank?",
           278
          ],
          [
           "My Nexus for CS:S & CS:GO",
           783
          ],
          [
           "Smokes for CS:GO",
           3253
          ],
          [
           "CT Lottery",
           271
          ],
          [
           "Remote CT - Smart Remote",
           3988
          ],
          [
           "CT-REMOTE",
           19
          ],
          [
           "CT-Stream Player",
           84
          ],
          [
           "Planet of Cubes Survival Craft",
           475944
          ],
          [
           "Free CV Creator",
           37
          ],
          [
           "Job CV Maker-Portfolio Maker , Resume Maker",
           139
          ],
          [
           "The CW TV app",
           24
          ],
          [
           "The CW TN app 2018",
           54
          ],
          [
           "AMC",
           20843
          ],
          [
           "ABC – Live TV & Full Episodes",
           50428
          ],
          [
           "CX-WiFi720P",
           47
          ],
          [
           "CX-60",
           19
          ],
          [
           "CX-10DS",
           12
          ],
          [
           "CX-37",
           13
          ],
          [
           "TI-Nspire CX Calculator Manual",
           11
          ],
          [
           "CX Ram Booster",
           12
          ],
          [
           "CXmodel-ufo",
           19
          ],
          [
           "Secret Codes For Android",
           6060
          ],
          [
           "CZ File Manager",
           876
          ],
          [
           "Skylink Live TV CZ",
           2802
          ],
          [
           "CZ-Cyberon Voice Commander",
           131
          ],
          [
           "Ghost Detector",
           35337
          ],
          [
           "Preferences Manager and SQLite DB Viewer",
           13
          ],
          [
           "Quiz DC",
           33
          ],
          [
           "WDAMAGE: Car Crash Engine",
           47386
          ],
          [
           "Escape the Prison Room",
           113183
          ],
          [
           "Scratch Logo Quiz. Challenging brain puzzle",
           152102
          ],
          [
           "DJ Electro Mix Pad",
           53301
          ],
          [
           "Car Crash III Beam DH Real Damage Simulator 2018",
           151
          ],
          [
           "DEER HUNTER CHALLENGE",
           38767
          ],
          [
           "Resources For Virtual DJ",
           21095
          ],
          [
           "DK 15 Minute Language Course",
           21
          ],
          [
           "Super DK vs Kong Brother Advanced Free Classic",
           66
          ],
          [
           "Visuelles Wörterbuch Audio-App",
           192
          ],
          [
           "DM security - Dragon Mobile",
           27
          ],
          [
           "Do Not Crash",
           56664
          ],
          [
           "CHRONO TRIGGER (Upgrade Ver.)",
           11250
          ],
          [
           "Jungle book-The Great Escape",
           2362
          ],
          [
           "dr.fone - Recovery & Transfer wirelessly & Backup",
           23347
          ],
          [
           "Dr. Unblock",
           3847
          ],
          [
           "DR CONTROL",
           267
          ],
          [
           "DS cloud",
           4908
          ],
          [
           "DS Tower Defence",
           768
          ],
          [
           "NDS-controller",
           35
          ],
          [
           "RetroArch",
           21423
          ],
          [
           "Truck Simulator DT 3D",
           110
          ],
          [
           "DT Baby Cam",
           10
          ],
          [
           "Dirt Trackin Sprint Cars",
           499
          ],
          [
           "SDV Cam",
           67
          ],
          [
           "iCam - Webcam Video Streaming",
           770
          ],
          [
           "SportCAM",
           427
          ],
          [
           "DW Missed call cleaner patch",
           65
          ],
          [
           "Across Age DX",
           5964
          ],
          [
           "Hidden Camera Detector",
           167
          ],
          [
           "SCRABBLE",
           172281
          ],
          [
           "Mass Effect: Andromeda APEX HQ",
           4490
          ],
          [
           "Mirror’s Edge™ Companion",
           1995
          ],
          [
           "Plants vs. Zombies™ Watch Face",
           33178
          ],
          [
           "Tamilnadu Electricity Info",
           216
          ],
          [
           "Punjab Online - Land Records • EB Bill Pay • RC/DL",
           16
          ],
          [
           "energyly (TNEB,BESCOM,MH,DL..)",
           627
          ],
          [
           "Electrician Calculator Pro",
           47
          ],
          [
           "My EF Center",
           89
          ],
          [
           "EF Classroom",
           190
          ],
          [
           "EF Teacher",
           16
          ],
          [
           "EF/VR – VR Tours of EF Schools",
           17
          ],
          [
           "MLP Colouring Adventures",
           7379
          ],
          [
           "Driving School 3D 2017",
           5075
          ],
          [
           "Masterchef Cooking Games: Fun Restaurant & Kitchen",
           1036
          ],
          [
           "Camping RV Caravan Parking 3D",
           5290
          ],
          [
           "Lie Detector Prank",
           80313
          ],
          [
           "Virtual Mother Surgery Doctor : Emergency Hospital",
           70
          ],
          [
           "Ei Electronics AudioLINK",
           59
          ],
          [
           "Code on the egg",
           146
          ],
          [
           "Egg: clicker",
           40678
          ],
          [
           "Crack the blue angry birds egg",
           85
          ],
          [
           "Tamago Tap Clicker Egg",
           209
          ],
          [
           "Extreme Super Car Driving 3D",
           23104
          ],
          [
           "Fast Racing Car Simulator",
           8482
          ],
          [
           "Beach Head Shooting Assault",
           555
          ],
          [
           "Luxury Car Simulator",
           35989
          ],
          [
           "Office Bike Racing Simulator",
           21149
          ],
          [
           "Lily & Leo - Crazy Circus Day",
           8091
          ],
          [
           "Fake Call From Wengie Prank",
           352
          ],
          [
           "Ghost Hunting camera",
           3048
          ],
          [
           "Learn to code with el Chavo",
           5933
          ],
          [
           "Stick 'Em Up 2 Starter Edition",
           2102
          ],
          [
           "Texas Hold’em Poker + | Social",
           4416
          ],
          [
           "Decay: The Mare - Ep.1 (Trial)",
           5291
          ],
          [
           "EP Chain Reaction",
           249
          ],
          [
           "Sonic 4™ Episode I",
           8014
          ],
          [
           "Dentist Surgery ER Emergency Doctor Hospital Games",
           2580
          ],
          [
           "Eye Transplant : ER Emergency Hospital",
           1938
          ],
          [
           "Lifeguard Beach Rescue ER Emergency Hospital Games",
           519
          ],
          [
           "Hospital ER Emergency Heart Surgery: Doctor Games",
           1652
          ],
          [
           "Doctor X - ER On Wheels",
           12781
          ],
          [
           "Foot Surgery Hospital Simulator: ER Doctor Games",
           314
          ],
          [
           "Plastic Surgery Surgeon Simulator Er Doctor Games",
           3482
          ],
          [
           "Shoulder Surgery ER Emergency Doctor Game",
           55
          ],
          [
           "Mom Doctor ER Emergency Family Game",
           173
          ],
          [
           "ER Emergency Hospital - Brain, Knee, Eye Surgery",
           25
          ],
          [
           "Spinal Cord Surgery Doctor: Operation ER surgery",
           52
          ],
          [
           "Virtual Brain Surgery Simulator : Kid ER Emergency",
           20
          ],
          [
           "Kids Doctor ER Emergency Rescue Kids Hospital Game",
           515
          ],
          [
           "Heart Surgery Doctor - ER Emergency Game",
           2510
          ],
          [
           "ER Doctor Kids Emergency Room",
           4798
          ],
          [
           "Blood Injection : ER Emergency Doctor ER injection",
           246
          ],
          [
           "ER Doctor City Emergency - Surgery City Doc FREE",
           1909
          ],
          [
           "Ankle Surgery ER Emergency",
           10449
          ],
          [
           "ES File Explorer & Manager, Locker Xplorer 2018",
           11
          ],
          [
           "Lire avec Sami et Julie",
           569
          ],
          [
           "Google Arts & Culture",
           24137
          ],
          [
           "German Vocabulary Trainer",
           1218
          ],
          [
           "Doll House Design & Decoration 2: Girls House Game",
           2338
          ],
          [
           "Pregnant Emergency Surgery",
           127229
          ],
          [
           "Advanced EX for HYUNDAI",
           168
          ],
          [
           "Advanced EX for MITSUBISHI",
           33
          ],
          [
           "Advanced EX for KIA",
           257
          ],
          [
           "Advanced EX for NISSAN",
           164
          ],
          [
           "Advanced EX for FIAT",
           138
          ],
          [
           "Advanced EX for RENAULT",
           130
          ],
          [
           "My Ex Girlfriend Comes Back",
           3258
          ],
          [
           "CNY Slots : Gong Xi Fa Cai 发财机",
           33
          ],
          [
           "Il Coccodrillo Come Fa",
           17
          ],
          [
           "Police Car Driver",
           83671
          ],
          [
           "Ambulance Simulator 3D",
           29415
          ],
          [
           "Disney Princess Palace Pets",
           60097
          ],
          [
           "Police VAZ LADA Simulator",
           3502
          ],
          [
           "Scary Video Maker",
           9296
          ],
          [
           "My Truck",
           247
          ],
          [
           "Dolphin and fish coloring book",
           2249
          ],
          [
           "Micro Fi",
           39
          ],
          [
           "Motocross Mayhem",
           35171
          ],
          [
           "Motocross Fun Simulator",
           22570
          ],
          [
           "Block Gun 3D: Haunted Hollow",
           16282
          ],
          [
           "Driving Suv Toyota Car Simulator",
           187
          ],
          [
           "PRO MX MOTOCROSS 2",
           25275
          ],
          [
           "Check Lottery Tickets - Florida",
           27
          ],
          [
           "Hidden Object Florida Vacation Adventure Fun Game",
           126
          ],
          [
           "Florida Tech Mobile",
           87
          ],
          [
           "Florida HSMV Driver License",
           14
          ],
          [
           "FeaturePoints: Free Gift Cards",
           121321
          ],
          [
           "Race Manager FP",
           196
          ],
          [
           "FP BW LCD View",
           16
          ],
          [
           "Fisher-Price® Smart Connect™",
           422
          ],
          [
           "FreedomPop Diagnostics",
           452
          ],
          [
           "BEBONCOOL GAMEPAD V1.0",
           404
          ],
          [
           "Trine 2: Complete Story",
           252
          ]
         ],
         "hovertemplate": "Category=%{x}<br>Rating=%{y}<br>App=%{customdata[0]}<br>Reviews=%{customdata[1]}<extra></extra>",
         "legendgroup": "",
         "marker": {
          "color": "#636efa"
         },
         "name": "",
         "offsetgroup": "",
         "orientation": "v",
         "points": "all",
         "scalegroup": "True",
         "showlegend": false,
         "type": "violin",
         "x": [
          "GAME",
          "GAME",
          "FAMILY",
          "FAMILY",
          "FAMILY",
          "FAMILY",
          "FAMILY",
          "FAMILY",
          "FAMILY",
          "TOOLS",
          "TOOLS",
          "TOOLS",
          "TOOLS",
          "TOOLS",
          "TOOLS",
          "TOOLS",
          "TOOLS",
          "TOOLS",
          "FAMILY",
          "FAMILY",
          "GAME",
          "GAME",
          "FAMILY",
          "TOOLS",
          "GAME",
          "FAMILY",
          "TOOLS",
          "FAMILY",
          "FAMILY",
          "TOOLS",
          "FAMILY",
          "FAMILY",
          "GAME",
          "GAME",
          "TOOLS",
          "FAMILY",
          "TOOLS",
          "FAMILY",
          "TOOLS",
          "FAMILY",
          "GAME",
          "GAME",
          "GAME",
          "FAMILY",
          "FAMILY",
          "GAME",
          "FAMILY",
          "FAMILY",
          "TOOLS",
          "TOOLS",
          "TOOLS",
          "TOOLS",
          "FAMILY",
          "FAMILY",
          "TOOLS",
          "TOOLS",
          "TOOLS",
          "FAMILY",
          "FAMILY",
          "GAME",
          "FAMILY",
          "GAME",
          "FAMILY",
          "FAMILY",
          "FAMILY",
          "FAMILY",
          "TOOLS",
          "TOOLS",
          "GAME",
          "TOOLS",
          "TOOLS",
          "FAMILY",
          "FAMILY",
          "TOOLS",
          "TOOLS",
          "TOOLS",
          "TOOLS",
          "TOOLS",
          "TOOLS",
          "TOOLS",
          "TOOLS",
          "TOOLS",
          "TOOLS",
          "TOOLS",
          "TOOLS",
          "TOOLS",
          "FAMILY",
          "TOOLS",
          "FAMILY",
          "TOOLS",
          "TOOLS",
          "TOOLS",
          "TOOLS",
          "TOOLS",
          "TOOLS",
          "TOOLS",
          "TOOLS",
          "TOOLS",
          "TOOLS",
          "TOOLS",
          "FAMILY",
          "GAME",
          "GAME",
          "TOOLS",
          "GAME",
          "TOOLS",
          "FAMILY",
          "GAME",
          "GAME",
          "FAMILY",
          "FAMILY",
          "FAMILY",
          "TOOLS",
          "FAMILY",
          "FAMILY",
          "FAMILY",
          "FAMILY",
          "FAMILY",
          "GAME",
          "FAMILY",
          "FAMILY",
          "FAMILY",
          "FAMILY",
          "FAMILY",
          "FAMILY",
          "FAMILY",
          "FAMILY",
          "FAMILY",
          "FAMILY",
          "FAMILY",
          "FAMILY",
          "TOOLS",
          "GAME",
          "GAME",
          "FAMILY",
          "FAMILY",
          "FAMILY",
          "FAMILY",
          "GAME",
          "FAMILY",
          "FAMILY",
          "FAMILY",
          "FAMILY",
          "FAMILY",
          "FAMILY",
          "GAME",
          "GAME",
          "GAME",
          "TOOLS",
          "FAMILY",
          "TOOLS",
          "FAMILY",
          "TOOLS",
          "GAME",
          "FAMILY",
          "GAME",
          "TOOLS",
          "FAMILY",
          "TOOLS",
          "GAME",
          "FAMILY",
          "FAMILY",
          "TOOLS",
          "FAMILY",
          "FAMILY",
          "FAMILY",
          "TOOLS",
          "TOOLS",
          "TOOLS",
          "FAMILY",
          "GAME",
          "TOOLS",
          "FAMILY",
          "FAMILY",
          "TOOLS",
          "FAMILY",
          "TOOLS",
          "TOOLS",
          "GAME",
          "GAME",
          "FAMILY",
          "GAME",
          "FAMILY",
          "TOOLS",
          "FAMILY",
          "GAME",
          "FAMILY",
          "GAME",
          "FAMILY",
          "TOOLS",
          "TOOLS",
          "TOOLS",
          "TOOLS",
          "TOOLS",
          "TOOLS",
          "TOOLS",
          "TOOLS",
          "GAME",
          "TOOLS",
          "TOOLS",
          "FAMILY",
          "FAMILY",
          "FAMILY",
          "FAMILY",
          "FAMILY",
          "TOOLS",
          "TOOLS",
          "TOOLS",
          "TOOLS",
          "TOOLS",
          "TOOLS",
          "TOOLS",
          "FAMILY",
          "GAME",
          "FAMILY",
          "FAMILY",
          "FAMILY",
          "FAMILY",
          "FAMILY",
          "FAMILY",
          "GAME",
          "FAMILY",
          "GAME",
          "FAMILY",
          "TOOLS",
          "TOOLS",
          "TOOLS",
          "TOOLS",
          "TOOLS",
          "TOOLS",
          "FAMILY",
          "FAMILY",
          "GAME",
          "FAMILY",
          "TOOLS",
          "FAMILY",
          "GAME",
          "FAMILY",
          "TOOLS",
          "FAMILY",
          "TOOLS",
          "GAME",
          "GAME",
          "FAMILY",
          "FAMILY",
          "TOOLS",
          "FAMILY",
          "FAMILY",
          "TOOLS",
          "FAMILY",
          "TOOLS",
          "TOOLS",
          "FAMILY",
          "GAME",
          "GAME",
          "FAMILY",
          "GAME",
          "GAME",
          "GAME",
          "FAMILY",
          "FAMILY",
          "FAMILY",
          "TOOLS",
          "GAME",
          "FAMILY",
          "FAMILY",
          "TOOLS",
          "FAMILY",
          "FAMILY",
          "FAMILY",
          "FAMILY",
          "FAMILY",
          "FAMILY",
          "FAMILY",
          "FAMILY",
          "FAMILY",
          "FAMILY",
          "TOOLS",
          "FAMILY",
          "TOOLS",
          "TOOLS",
          "FAMILY",
          "TOOLS",
          "FAMILY",
          "TOOLS",
          "GAME",
          "GAME",
          "FAMILY",
          "GAME",
          "FAMILY",
          "GAME",
          "GAME",
          "FAMILY",
          "FAMILY",
          "GAME",
          "FAMILY",
          "TOOLS",
          "FAMILY",
          "FAMILY",
          "GAME",
          "TOOLS",
          "FAMILY",
          "FAMILY",
          "TOOLS",
          "GAME",
          "TOOLS",
          "GAME",
          "FAMILY",
          "TOOLS",
          "GAME",
          "TOOLS",
          "TOOLS",
          "TOOLS",
          "TOOLS",
          "FAMILY",
          "TOOLS",
          "GAME",
          "GAME",
          "GAME",
          "FAMILY",
          "TOOLS",
          "TOOLS",
          "TOOLS",
          "TOOLS",
          "FAMILY",
          "FAMILY",
          "FAMILY",
          "FAMILY",
          "FAMILY",
          "FAMILY",
          "FAMILY",
          "GAME",
          "FAMILY",
          "FAMILY",
          "TOOLS",
          "TOOLS",
          "FAMILY",
          "FAMILY",
          "FAMILY",
          "GAME",
          "GAME",
          "GAME",
          "FAMILY",
          "FAMILY",
          "FAMILY",
          "FAMILY",
          "GAME",
          "FAMILY",
          "GAME",
          "GAME",
          "GAME",
          "FAMILY",
          "GAME",
          "FAMILY",
          "FAMILY",
          "FAMILY",
          "FAMILY",
          "FAMILY",
          "FAMILY",
          "FAMILY",
          "FAMILY",
          "FAMILY",
          "FAMILY",
          "FAMILY",
          "FAMILY",
          "FAMILY",
          "FAMILY",
          "FAMILY",
          "FAMILY",
          "FAMILY",
          "FAMILY",
          "TOOLS",
          "FAMILY",
          "FAMILY",
          "FAMILY",
          "FAMILY",
          "FAMILY",
          "TOOLS",
          "TOOLS",
          "TOOLS",
          "TOOLS",
          "TOOLS",
          "TOOLS",
          "FAMILY",
          "GAME",
          "FAMILY",
          "GAME",
          "FAMILY",
          "FAMILY",
          "FAMILY",
          "FAMILY",
          "TOOLS",
          "FAMILY",
          "FAMILY",
          "GAME",
          "FAMILY",
          "GAME",
          "FAMILY",
          "GAME",
          "FAMILY",
          "FAMILY",
          "FAMILY",
          "FAMILY",
          "FAMILY",
          "GAME",
          "FAMILY",
          "TOOLS",
          "TOOLS",
          "GAME",
          "GAME"
         ],
         "x0": " ",
         "xaxis": "x",
         "y": [
          3.8,
          3.1,
          3.9,
          3.8,
          3.9,
          3.9,
          3.8,
          3.9,
          3.9,
          3.1,
          3.1,
          3.9,
          3.4,
          3.6,
          3.1,
          3.8,
          3.9,
          3.5,
          3.9,
          3.3,
          3.7,
          3.4,
          3.9,
          3.8,
          3.1,
          3.6,
          2,
          3.7,
          3.3,
          3.7,
          3.9,
          3.6,
          3.6,
          3.8,
          3.8,
          3.9,
          3.9,
          3.3,
          3.7,
          3.1,
          3.9,
          3.7,
          3.5,
          3.7,
          3.8,
          3.7,
          3.5,
          3.8,
          3.7,
          3.9,
          3.1,
          3.8,
          3.2,
          3,
          3.6,
          3.8,
          3.4,
          2.4,
          3.6,
          3.5,
          3.9,
          3.9,
          3.3,
          3.2,
          3.3,
          2.7,
          3.8,
          3.3,
          3.7,
          3.3,
          3.4,
          1.8,
          1.6,
          3.6,
          3.4,
          3.2,
          2.5,
          2.6,
          2.8,
          3.9,
          3.9,
          3.5,
          3.1,
          3.7,
          3.6,
          3.7,
          3.3,
          3,
          3,
          2.2,
          3.7,
          3.7,
          3.7,
          3.6,
          3.7,
          3.7,
          3.8,
          3.3,
          3.4,
          3.5,
          3.7,
          3.7,
          3.9,
          3.3,
          3.4,
          2.9,
          3.9,
          3.8,
          3.4,
          3,
          3.9,
          3.8,
          3.6,
          3.3,
          3.2,
          3.3,
          3.9,
          2.8,
          3.9,
          3.6,
          3.6,
          3.9,
          3.6,
          3.8,
          3.7,
          3.4,
          3.7,
          3.3,
          3.7,
          2.9,
          3.7,
          3.8,
          3.8,
          3.8,
          3.7,
          3.2,
          3.8,
          3.4,
          3.8,
          3,
          3.6,
          3.6,
          2.4,
          3.5,
          3.9,
          3.8,
          3.8,
          3.9,
          3.7,
          3.5,
          3.4,
          3.5,
          3.3,
          3.8,
          2.9,
          3.8,
          3.6,
          3.5,
          2.1,
          3.5,
          3.8,
          3,
          3.3,
          3.3,
          3.9,
          3.3,
          3.3,
          3.7,
          3.7,
          3.8,
          3.4,
          3.9,
          3.9,
          2.6,
          3.5,
          2.4,
          2.7,
          3.3,
          3.7,
          3.9,
          3.9,
          3.7,
          3.6,
          3.6,
          3.2,
          3.8,
          3.8,
          3.9,
          3.2,
          3.7,
          3.9,
          3.9,
          3.9,
          2.8,
          3.9,
          3.6,
          3.8,
          3.3,
          3.8,
          3.9,
          3.8,
          3.5,
          3,
          2.7,
          3.1,
          3.3,
          3.8,
          3.1,
          3.5,
          3.9,
          3,
          3.2,
          3.7,
          3.6,
          3.6,
          3.8,
          3.5,
          3,
          2.9,
          1.9,
          3.9,
          3.8,
          3.7,
          3.8,
          3.8,
          3.4,
          3.6,
          3.3,
          3.6,
          3.6,
          3.7,
          3.4,
          3.9,
          3.9,
          1.9,
          3.6,
          3.5,
          3.8,
          1.4,
          3.6,
          3.9,
          3.9,
          3.8,
          3.9,
          3.8,
          3.4,
          3.5,
          2.3,
          3.9,
          3.1,
          3.8,
          3.3,
          3.9,
          3.6,
          3.2,
          3.7,
          3.1,
          3.5,
          2.3,
          3.6,
          3.9,
          3.8,
          3.5,
          3.3,
          3.9,
          3.9,
          3.9,
          3.9,
          3.2,
          2.2,
          3.2,
          3.3,
          3.1,
          3.1,
          3.4,
          3.9,
          3.9,
          3.9,
          3.8,
          3.6,
          2.2,
          3.3,
          3.8,
          3.5,
          3.5,
          1.4,
          3.8,
          3.5,
          3.3,
          3.9,
          3.6,
          3.7,
          3.6,
          2.8,
          3.8,
          3.1,
          3.9,
          3.7,
          3.8,
          3.9,
          3.7,
          3.9,
          3.4,
          3.2,
          3.2,
          3.3,
          3.8,
          3.8,
          1.7,
          3.8,
          3.2,
          3.7,
          3.2,
          3.9,
          3.8,
          3.9,
          3.9,
          3.4,
          3.4,
          3.5,
          3.6,
          3.4,
          3.9,
          3.9,
          2.8,
          3.2,
          3.1,
          3.6,
          3.8,
          3.9,
          3.9,
          3.3,
          3.9,
          3.9,
          3.4,
          3.9,
          3.7,
          3.2,
          3.6,
          3.9,
          3.8,
          3.8,
          3.9,
          3.8,
          3.6,
          3.5,
          3.5,
          3.9,
          3.8,
          3.5,
          3.6,
          3.9,
          3.7,
          3.5,
          3.9,
          3.9,
          3.8,
          3.6,
          3.9,
          3.7,
          3.9,
          3.5,
          3.8,
          3.7,
          3.8,
          3.8,
          3.9,
          3.1,
          3.5,
          3.9,
          3.3,
          3.5,
          3.6,
          3.7,
          3.3,
          3.9,
          3.8,
          2.7,
          2.9,
          3.3,
          2.9,
          3.5,
          2.8,
          3.7,
          3.6,
          3.4,
          3.8,
          3.9,
          3.9,
          3.6,
          3.7,
          2.5,
          3.9,
          3.7,
          3.8,
          3.8,
          3.8,
          3.7,
          3.8,
          2,
          3.7,
          3.8,
          3.9,
          3.9,
          3.8,
          3.4,
          2.7,
          2.9,
          3.9,
          3.8
         ],
         "y0": " ",
         "yaxis": "y"
        }
       ],
       "layout": {
        "autosize": true,
        "legend": {
         "tracegroupgap": 0
        },
        "margin": {
         "t": 60
        },
        "template": {
         "data": {
          "bar": [
           {
            "error_x": {
             "color": "#f2f5fa"
            },
            "error_y": {
             "color": "#f2f5fa"
            },
            "marker": {
             "line": {
              "color": "rgb(17,17,17)",
              "width": 0.5
             },
             "pattern": {
              "fillmode": "overlay",
              "size": 10,
              "solidity": 0.2
             }
            },
            "type": "bar"
           }
          ],
          "barpolar": [
           {
            "marker": {
             "line": {
              "color": "rgb(17,17,17)",
              "width": 0.5
             },
             "pattern": {
              "fillmode": "overlay",
              "size": 10,
              "solidity": 0.2
             }
            },
            "type": "barpolar"
           }
          ],
          "carpet": [
           {
            "aaxis": {
             "endlinecolor": "#A2B1C6",
             "gridcolor": "#506784",
             "linecolor": "#506784",
             "minorgridcolor": "#506784",
             "startlinecolor": "#A2B1C6"
            },
            "baxis": {
             "endlinecolor": "#A2B1C6",
             "gridcolor": "#506784",
             "linecolor": "#506784",
             "minorgridcolor": "#506784",
             "startlinecolor": "#A2B1C6"
            },
            "type": "carpet"
           }
          ],
          "choropleth": [
           {
            "colorbar": {
             "outlinewidth": 0,
             "ticks": ""
            },
            "type": "choropleth"
           }
          ],
          "contour": [
           {
            "colorbar": {
             "outlinewidth": 0,
             "ticks": ""
            },
            "colorscale": [
             [
              0,
              "#0d0887"
             ],
             [
              0.1111111111111111,
              "#46039f"
             ],
             [
              0.2222222222222222,
              "#7201a8"
             ],
             [
              0.3333333333333333,
              "#9c179e"
             ],
             [
              0.4444444444444444,
              "#bd3786"
             ],
             [
              0.5555555555555556,
              "#d8576b"
             ],
             [
              0.6666666666666666,
              "#ed7953"
             ],
             [
              0.7777777777777778,
              "#fb9f3a"
             ],
             [
              0.8888888888888888,
              "#fdca26"
             ],
             [
              1,
              "#f0f921"
             ]
            ],
            "type": "contour"
           }
          ],
          "contourcarpet": [
           {
            "colorbar": {
             "outlinewidth": 0,
             "ticks": ""
            },
            "type": "contourcarpet"
           }
          ],
          "heatmap": [
           {
            "colorbar": {
             "outlinewidth": 0,
             "ticks": ""
            },
            "colorscale": [
             [
              0,
              "#0d0887"
             ],
             [
              0.1111111111111111,
              "#46039f"
             ],
             [
              0.2222222222222222,
              "#7201a8"
             ],
             [
              0.3333333333333333,
              "#9c179e"
             ],
             [
              0.4444444444444444,
              "#bd3786"
             ],
             [
              0.5555555555555556,
              "#d8576b"
             ],
             [
              0.6666666666666666,
              "#ed7953"
             ],
             [
              0.7777777777777778,
              "#fb9f3a"
             ],
             [
              0.8888888888888888,
              "#fdca26"
             ],
             [
              1,
              "#f0f921"
             ]
            ],
            "type": "heatmap"
           }
          ],
          "heatmapgl": [
           {
            "colorbar": {
             "outlinewidth": 0,
             "ticks": ""
            },
            "colorscale": [
             [
              0,
              "#0d0887"
             ],
             [
              0.1111111111111111,
              "#46039f"
             ],
             [
              0.2222222222222222,
              "#7201a8"
             ],
             [
              0.3333333333333333,
              "#9c179e"
             ],
             [
              0.4444444444444444,
              "#bd3786"
             ],
             [
              0.5555555555555556,
              "#d8576b"
             ],
             [
              0.6666666666666666,
              "#ed7953"
             ],
             [
              0.7777777777777778,
              "#fb9f3a"
             ],
             [
              0.8888888888888888,
              "#fdca26"
             ],
             [
              1,
              "#f0f921"
             ]
            ],
            "type": "heatmapgl"
           }
          ],
          "histogram": [
           {
            "marker": {
             "pattern": {
              "fillmode": "overlay",
              "size": 10,
              "solidity": 0.2
             }
            },
            "type": "histogram"
           }
          ],
          "histogram2d": [
           {
            "colorbar": {
             "outlinewidth": 0,
             "ticks": ""
            },
            "colorscale": [
             [
              0,
              "#0d0887"
             ],
             [
              0.1111111111111111,
              "#46039f"
             ],
             [
              0.2222222222222222,
              "#7201a8"
             ],
             [
              0.3333333333333333,
              "#9c179e"
             ],
             [
              0.4444444444444444,
              "#bd3786"
             ],
             [
              0.5555555555555556,
              "#d8576b"
             ],
             [
              0.6666666666666666,
              "#ed7953"
             ],
             [
              0.7777777777777778,
              "#fb9f3a"
             ],
             [
              0.8888888888888888,
              "#fdca26"
             ],
             [
              1,
              "#f0f921"
             ]
            ],
            "type": "histogram2d"
           }
          ],
          "histogram2dcontour": [
           {
            "colorbar": {
             "outlinewidth": 0,
             "ticks": ""
            },
            "colorscale": [
             [
              0,
              "#0d0887"
             ],
             [
              0.1111111111111111,
              "#46039f"
             ],
             [
              0.2222222222222222,
              "#7201a8"
             ],
             [
              0.3333333333333333,
              "#9c179e"
             ],
             [
              0.4444444444444444,
              "#bd3786"
             ],
             [
              0.5555555555555556,
              "#d8576b"
             ],
             [
              0.6666666666666666,
              "#ed7953"
             ],
             [
              0.7777777777777778,
              "#fb9f3a"
             ],
             [
              0.8888888888888888,
              "#fdca26"
             ],
             [
              1,
              "#f0f921"
             ]
            ],
            "type": "histogram2dcontour"
           }
          ],
          "mesh3d": [
           {
            "colorbar": {
             "outlinewidth": 0,
             "ticks": ""
            },
            "type": "mesh3d"
           }
          ],
          "parcoords": [
           {
            "line": {
             "colorbar": {
              "outlinewidth": 0,
              "ticks": ""
             }
            },
            "type": "parcoords"
           }
          ],
          "pie": [
           {
            "automargin": true,
            "type": "pie"
           }
          ],
          "scatter": [
           {
            "marker": {
             "line": {
              "color": "#283442"
             }
            },
            "type": "scatter"
           }
          ],
          "scatter3d": [
           {
            "line": {
             "colorbar": {
              "outlinewidth": 0,
              "ticks": ""
             }
            },
            "marker": {
             "colorbar": {
              "outlinewidth": 0,
              "ticks": ""
             }
            },
            "type": "scatter3d"
           }
          ],
          "scattercarpet": [
           {
            "marker": {
             "colorbar": {
              "outlinewidth": 0,
              "ticks": ""
             }
            },
            "type": "scattercarpet"
           }
          ],
          "scattergeo": [
           {
            "marker": {
             "colorbar": {
              "outlinewidth": 0,
              "ticks": ""
             }
            },
            "type": "scattergeo"
           }
          ],
          "scattergl": [
           {
            "marker": {
             "line": {
              "color": "#283442"
             }
            },
            "type": "scattergl"
           }
          ],
          "scattermapbox": [
           {
            "marker": {
             "colorbar": {
              "outlinewidth": 0,
              "ticks": ""
             }
            },
            "type": "scattermapbox"
           }
          ],
          "scatterpolar": [
           {
            "marker": {
             "colorbar": {
              "outlinewidth": 0,
              "ticks": ""
             }
            },
            "type": "scatterpolar"
           }
          ],
          "scatterpolargl": [
           {
            "marker": {
             "colorbar": {
              "outlinewidth": 0,
              "ticks": ""
             }
            },
            "type": "scatterpolargl"
           }
          ],
          "scatterternary": [
           {
            "marker": {
             "colorbar": {
              "outlinewidth": 0,
              "ticks": ""
             }
            },
            "type": "scatterternary"
           }
          ],
          "surface": [
           {
            "colorbar": {
             "outlinewidth": 0,
             "ticks": ""
            },
            "colorscale": [
             [
              0,
              "#0d0887"
             ],
             [
              0.1111111111111111,
              "#46039f"
             ],
             [
              0.2222222222222222,
              "#7201a8"
             ],
             [
              0.3333333333333333,
              "#9c179e"
             ],
             [
              0.4444444444444444,
              "#bd3786"
             ],
             [
              0.5555555555555556,
              "#d8576b"
             ],
             [
              0.6666666666666666,
              "#ed7953"
             ],
             [
              0.7777777777777778,
              "#fb9f3a"
             ],
             [
              0.8888888888888888,
              "#fdca26"
             ],
             [
              1,
              "#f0f921"
             ]
            ],
            "type": "surface"
           }
          ],
          "table": [
           {
            "cells": {
             "fill": {
              "color": "#506784"
             },
             "line": {
              "color": "rgb(17,17,17)"
             }
            },
            "header": {
             "fill": {
              "color": "#2a3f5f"
             },
             "line": {
              "color": "rgb(17,17,17)"
             }
            },
            "type": "table"
           }
          ]
         },
         "layout": {
          "annotationdefaults": {
           "arrowcolor": "#f2f5fa",
           "arrowhead": 0,
           "arrowwidth": 1
          },
          "autotypenumbers": "strict",
          "coloraxis": {
           "colorbar": {
            "outlinewidth": 0,
            "ticks": ""
           }
          },
          "colorscale": {
           "diverging": [
            [
             0,
             "#8e0152"
            ],
            [
             0.1,
             "#c51b7d"
            ],
            [
             0.2,
             "#de77ae"
            ],
            [
             0.3,
             "#f1b6da"
            ],
            [
             0.4,
             "#fde0ef"
            ],
            [
             0.5,
             "#f7f7f7"
            ],
            [
             0.6,
             "#e6f5d0"
            ],
            [
             0.7,
             "#b8e186"
            ],
            [
             0.8,
             "#7fbc41"
            ],
            [
             0.9,
             "#4d9221"
            ],
            [
             1,
             "#276419"
            ]
           ],
           "sequential": [
            [
             0,
             "#0d0887"
            ],
            [
             0.1111111111111111,
             "#46039f"
            ],
            [
             0.2222222222222222,
             "#7201a8"
            ],
            [
             0.3333333333333333,
             "#9c179e"
            ],
            [
             0.4444444444444444,
             "#bd3786"
            ],
            [
             0.5555555555555556,
             "#d8576b"
            ],
            [
             0.6666666666666666,
             "#ed7953"
            ],
            [
             0.7777777777777778,
             "#fb9f3a"
            ],
            [
             0.8888888888888888,
             "#fdca26"
            ],
            [
             1,
             "#f0f921"
            ]
           ],
           "sequentialminus": [
            [
             0,
             "#0d0887"
            ],
            [
             0.1111111111111111,
             "#46039f"
            ],
            [
             0.2222222222222222,
             "#7201a8"
            ],
            [
             0.3333333333333333,
             "#9c179e"
            ],
            [
             0.4444444444444444,
             "#bd3786"
            ],
            [
             0.5555555555555556,
             "#d8576b"
            ],
            [
             0.6666666666666666,
             "#ed7953"
            ],
            [
             0.7777777777777778,
             "#fb9f3a"
            ],
            [
             0.8888888888888888,
             "#fdca26"
            ],
            [
             1,
             "#f0f921"
            ]
           ]
          },
          "colorway": [
           "#636efa",
           "#EF553B",
           "#00cc96",
           "#ab63fa",
           "#FFA15A",
           "#19d3f3",
           "#FF6692",
           "#B6E880",
           "#FF97FF",
           "#FECB52"
          ],
          "font": {
           "color": "#f2f5fa"
          },
          "geo": {
           "bgcolor": "rgb(17,17,17)",
           "lakecolor": "rgb(17,17,17)",
           "landcolor": "rgb(17,17,17)",
           "showlakes": true,
           "showland": true,
           "subunitcolor": "#506784"
          },
          "hoverlabel": {
           "align": "left"
          },
          "hovermode": "closest",
          "mapbox": {
           "style": "dark"
          },
          "paper_bgcolor": "rgb(17,17,17)",
          "plot_bgcolor": "rgb(17,17,17)",
          "polar": {
           "angularaxis": {
            "gridcolor": "#506784",
            "linecolor": "#506784",
            "ticks": ""
           },
           "bgcolor": "rgb(17,17,17)",
           "radialaxis": {
            "gridcolor": "#506784",
            "linecolor": "#506784",
            "ticks": ""
           }
          },
          "scene": {
           "xaxis": {
            "backgroundcolor": "rgb(17,17,17)",
            "gridcolor": "#506784",
            "gridwidth": 2,
            "linecolor": "#506784",
            "showbackground": true,
            "ticks": "",
            "zerolinecolor": "#C8D4E3"
           },
           "yaxis": {
            "backgroundcolor": "rgb(17,17,17)",
            "gridcolor": "#506784",
            "gridwidth": 2,
            "linecolor": "#506784",
            "showbackground": true,
            "ticks": "",
            "zerolinecolor": "#C8D4E3"
           },
           "zaxis": {
            "backgroundcolor": "rgb(17,17,17)",
            "gridcolor": "#506784",
            "gridwidth": 2,
            "linecolor": "#506784",
            "showbackground": true,
            "ticks": "",
            "zerolinecolor": "#C8D4E3"
           }
          },
          "shapedefaults": {
           "line": {
            "color": "#f2f5fa"
           }
          },
          "sliderdefaults": {
           "bgcolor": "#C8D4E3",
           "bordercolor": "rgb(17,17,17)",
           "borderwidth": 1,
           "tickwidth": 0
          },
          "ternary": {
           "aaxis": {
            "gridcolor": "#506784",
            "linecolor": "#506784",
            "ticks": ""
           },
           "baxis": {
            "gridcolor": "#506784",
            "linecolor": "#506784",
            "ticks": ""
           },
           "bgcolor": "rgb(17,17,17)",
           "caxis": {
            "gridcolor": "#506784",
            "linecolor": "#506784",
            "ticks": ""
           }
          },
          "title": {
           "x": 0.05
          },
          "updatemenudefaults": {
           "bgcolor": "#506784",
           "borderwidth": 0
          },
          "xaxis": {
           "automargin": true,
           "gridcolor": "#283442",
           "linecolor": "#506784",
           "ticks": "",
           "title": {
            "standoff": 15
           },
           "zerolinecolor": "#283442",
           "zerolinewidth": 2
          },
          "yaxis": {
           "automargin": true,
           "gridcolor": "#283442",
           "linecolor": "#506784",
           "ticks": "",
           "title": {
            "standoff": 15
           },
           "zerolinecolor": "#283442",
           "zerolinewidth": 2
          }
         }
        },
        "title": {
         "text": "Distribution of App Ratings by Category (Filtered)"
        },
        "violinmode": "group",
        "xaxis": {
         "anchor": "y",
         "autorange": true,
         "domain": [
          0,
          1
         ],
         "range": [
          -0.5094240837696336,
          2.5
         ],
         "title": {
          "text": "App Category"
         },
         "type": "category"
        },
        "yaxis": {
         "anchor": "x",
         "autorange": true,
         "domain": [
          0,
          1
         ],
         "range": [
          0.8997683157831344,
          4.400231684216866
         ],
         "title": {
          "text": "Rating"
         },
         "type": "linear"
        }
       }
      },
      "image/png": "[encoded data removed]",
      "text/html": [
       "<div>                            <div id=\"5e98f171-a96a-4b34-a758-6b0c9f73407d\" class=\"plotly-graph-div\" style=\"height:525px; width:100%;\"></div>            <script type=\"text/javascript\">                require([\"plotly\"], function(Plotly) {                    window.PLOTLYENV=window.PLOTLYENV || {};                                    if (document.getElementById(\"5e98f171-a96a-4b34-a758-6b0c9f73407d\")) {                    Plotly.newPlot(                        \"5e98f171-a96a-4b34-a758-6b0c9f73407d\",                        [{\"alignmentgroup\":\"True\",\"box\":{\"visible\":true},\"customdata\":[[\"Race the Traffic Moto\",270687],[\"Will it Crush?\",25825],[\"Coloring book moana\",974],[\"Dr. Panda Town: Vacation\",10366],[\"Montessori Preschool\",237],[\"Earth to Luna! Watch and Play\",10753],[\"Chess PRO Free\",1123],[\"Elmo Calls by Sesame Street\",6903],[\"Ever After High\\u2122 Charmed Style\",44062],[\"My Telcel\",45838],[\"Clear\",24151],[\"Sound Recorder: Recorder & Voice Changer Free\",14552],[\"HTC Sense Input\",17030],[\"HTC Sense Input-LV\",59],[\"HTC Sense Input-CA\",124],[\"HTC Sense Input-AR\",1420],[\"Graphing Calculator\",12388],[\"ZERO Lock Screen\",75336],[\"A Call From Santa Claus!\",3720],[\"Create A Superhero HD\",8642],[\"Real City Car Driver\",413609],[\"Draw A Stickman\",29265],[\"Disney Magic Timer by Oral-B\",31061],[\"B-BLE(BLE4.0 Scan)\",159],[\"Cardi B Piano Game\",50],[\"C-SPAN Radio\",608],[\"Bridge-C - Get More Storage\",24],[\"Batmobile\\u2122 R\\u002fC Controller\",452],[\"Broken Screen Prank\",23682],[\"Screen Lock - with Fingerprint Simulator\",338449],[\"Chuck E.'s Skate Universe\",94910],[\"E-cigarette for free\",1354],[\"Super Car F. Mod for MCPE\",214],[\"G-Switch\",4116],[\"Speedometer with G-FORCE meter\",415],[\"Elkhart County 4-H Fair\",38],[\"Mobile Number Tracker\",19758],[\"J-Novel Club\",162],[\"K-Chiing VPN (Free)\",43],[\"Lie Detector\",306],[\"M-acceleration 3D Car Racing\",1202],[\"Super Hero M Craft Run\",303],[\"Don't Hug Me I'm So Scared\",901],[\"Dino in City-Dinosaur N Police\",10035],[\"Madagascar Surf n' Slides Free\",48929],[\"Rock n Roll Music Quiz Game\",80],[\"Cook 'n Learn Smart Kitchen\",205],[\"Detect-O-Gromit (D.O.G 2)\",45],[\"AC Remote for O General - NOW FREE\",274],[\"O Multiple - App Cloner, Duals APP, tarallel\",145],[\"Q-See QC View\",657],[\"Q Remote Control\",4264],[\"Car Parking Nissan GT-R R35 Simulator\",513],[\"DIRECTV Remote App\",480],[\"T-Mobile Visual Voicemail\",41502],[\"Don't touch my phone\",21943],[\"U-Scan\",784],[\"DRC Sim - Wii U Gamepad\",210],[\"U-Disco\",906],[\"U-48 Submarine Commander Free\",4575],[\"Pocket U ASW\",93],[\"The Gang Sniper V. Pocket Edition.\",6121],[\"Mod GTA V for MCPE\",4288],[\"Nose Doctor X: Booger Mania\",37584],[\"Xray Scanner Prank\",355837],[\"X-ray scanner simulator\",1616],[\"Universal AC Remote Control\",40934],[\"Smart Air Conditioner\",4786],[\"Assassin's Creed Identity\",42529],[\"AC Remote Control\",472],[\"Air conditioner remote control\",29854],[\"Smart-AC Universal Remote Free\",3270],[\"AC REMOTE UNIVERSAL-PRO\",402],[\"AC WIFI\",41],[\"A\\u002fC Air Conditioner Remote\",7816],[\"Smart Air Conditioner(CAC)\",409],[\"Carrier Air Conditioner\",362],[\"TOSHIBA Smart AC\",60],[\"Trane Interactive Smart AC\",48],[\"AC remote control mobile\",3043],[\"AC Remote for Haier - NOW FREE\",336],[\"AC Remote for Daikin - NOW FREE\",383],[\"A\\u002fC Universal Remote Control\",3263],[\"AC Remote for LG - NOW FREE\",1041],[\"Plug-in app (System AC)\",126],[\"Ac remote control\",822],[\"AC Remote Control Simulator\",353],[\"AC Remote For LG\",1298],[\"Universal AC Remote Control Simulator\",119],[\"Hi-Smart AC\",32],[\"AC Remote for Sharp - NOW FREE\",332],[\"AC Remote for Samsung - NOW FREE\",566],[\"AC Remote for Carrier - NOW FREE\",163],[\"AC & TV, DVD, Set Top Box - Remote control IR\",3632],[\"ac remote control\",9514],[\"AppBrain Ad Detector\",9221],[\"Ad Detector\",208],[\"Ad Block REMOVER - NEED ROOT\",999],[\"Emo Ads Blocker Browser\",1555],[\"Apps Ads Detector\",315],[\"Shortcuts for After Effects\",464],[\"AE Gun Ball: arcade ball games\",8581],[\"AE GTO Racing\",6988],[\"DSLR Blur Camera Auto Focus\",75],[\"VR AG Racing for Cardboard\",13],[\"WoW AH Tracker\",33],[\"Ah! Cutie\",536],[\"AH-1 Viper Cobra Ops - helicopter flight simulator\",1088],[\"Ah! Coins\",256],[\"The Artificial Intelligence Project (A.I. Chat)\",76],[\"Artificial Intelligence\",339],[\"ChatBot AI Talking Girl\",3597],[\"ParaTek Ai Speech generator\",448],[\"Tomo A.i. Pet Chat Bot\",40],[\"Chat With Artificial Intelligence\",32],[\"ChatBolo - AI Chatbot Online\",1407],[\"Jarvis artificial intelligent\",253],[\"Club Penguin Island\",107441],[\"Counter Terrorist Attack\",145931],[\"Gun Mod: Guns in Minecraft PE\",33812],[\"AK Math Coach\",283],[\"I AM RICH\",1455],[\"I Am Rich\",217],[\"Girls Craft: Exploration\",130689],[\"Virtual Cigarette Smoking (prank)\",29838],[\"Scanning body and undressing people\",1012],[\"Scanning under clothes (prank)\",1443],[\"Body scanner (prank)\",16063],[\"AP Flashcards\",88],[\"iScore5 AP Psych\",10],[\"AP Math & Computer Science\",37],[\"QR BARCODE SCANNER\",169369],[\"Crayola Color Blaster\",17],[\"Stack It AR\",1363],[\"Monster Park AR - Jurassic Dinosaurs in Real World\",128],[\"AR Remote Car\",1354],[\"Assemblr - Create 3D Models (Sandbox AR)\",1745],[\"MCRAFT AR - EDITOR\",131],[\"Arcraft - AR Sandbox\",469],[\"Paint Space AR\",17],[\"Summer Camp Island AR\",740],[\"AR Sport Cars\",284],[\"PS4 Second Screen\",11773],[\"Five nights at Minecraft\",9335],[\"DIRECTV for Tablets\",24123],[\"Two Nights at jumpscare\",596],[\"5 Nights at Cube Pizzeria City\",2691],[\"Au Mobile: Audition Ch\\u00ednh Hi\\u1ec7u\",85278],[\"Remote for Onkyo AV Receivers & Smart TV\\u002fBlu-Ray\",701],[\"AV Pro Voice Changer\",174],[\"Remote For Pioneer AV Receivers and Blu-Ray\",150],[\"AV High School District\",91],[\"Analog Clock AW-7 PRO\",40],[\"iSniper 3D Arctic Warfare\",35572],[\"Advanced Warfare Guns\",2079],[\"Axe Champ\",141],[\"Display Phone Screen On TV\",9895],[\"Az Content\",24],[\"AZ REMOTE CONTROL\",149],[\"Ba Cristi\",196],[\"BC Connect\",11],[\"BC Lotto Check\",10],[\"BC Wildfire\",27],[\"British Columbia License\",14],[\"Bridge Constructor Playground FREE\",137377],[\"BD TYCOON\",16],[\"Remote for Samsung TV & BluRay Players (Read Desc)\",1988],[\"Vehicle Case Checker BD\",29],[\"Remote for Panasonic TV+BD+AVR\",533],[\"Millionaire Quiz Free: Be Rich\",66033],[\"Wolf of the BF:Commando MOBILE\",32],[\"BF-Calc\",428],[\"Sexy Hot Detector Prank\",17067],[\"Body Scanner xray Real Camera Prank Entertaintment\",17],[\"Droid PRoCon BF3\",412],[\"Virtual Boyfriend Chat\",407],[\"HTC Sense Input-BG\",198],[\"HTC Sense Input - BG\",218],[\"Block Gun 3D: Call of Destiny\",31883],[\"Block Gun 3D: Ghost Ops\",142693],[\"CINEMA.BH\",11],[\"BJ Bridge Acol Beginner 2018\",11],[\"DJ Music Pad\",35121],[\"Metal Detector Pro 2015\",1166],[\"Yaoi Novels - Shounen ai Book&fiction\",304],[\"Sic Bo Online! Free Casino\",488],[\"HBO GO: Stream with TV Package\",87734],[\"Sic Bo Rave\",164],[\"BP-Tech\",12],[\"BQ Services\",5004],[\"CABLE SIZE CALCULATOR BS 7671\",333],[\"VOLT DROP CALCULATOR BS 7671\",71],[\"BTNotification\",15665],[\"Bt Notifier -Smartwatch notice\",632],[\"BT Controller\",4374],[\"Mediatek SmartDevice\",11187],[\"Bluetooth Control BT-\\u003euC FREE\",67],[\"kick the buddy\",294],[\"VictronConnect\",400],[\"Bixby Button Remapper - bxActions Pro \\u002f Coffee\",319],[\"Car Driving Simulator Citroen\",174],[\"Glitter Color By Number - Glitter Number Coloring\",1380],[\"Rized \\u203c\\ufe0f Color By Number & Pixel Coloring Book\",1279],[\"Color by Disney\",5706],[\"Color By Numbers - Art Game for Kids and Adults\",305],[\"CA Mobile OTP\",688],[\"CA Auth ID\",39],[\"CB Frequencies FREE!\",364],[\"Frequencies Free\",382],[\"CBRadioTab\",127],[\"Disc Label Print\",262],[\"\\u0420\\u0435\\u0435I Smart Remote MP3 CD Player\",27],[\"CE Broker\",190],[\"Motocross Motorbike Simulator Offroad\",51366],[\"BF CG View Wallpapers\",13],[\"CG Patwari Exam\",28],[\"Flo's CH Boss Timer\",163],[\"ci\",1691],[\"Test de Inteligencia CI\",21],[\"CJ Fallon eBook Reader\",76],[\"San Andreas City : Auto Theft Car gangster\",923],[\"Codes for GTA San Andreas\",12414],[\"Project Grand Auto Town Sandbox Beta\",7885],[\"Old: CL-150\",120],[\"CM Apps\",3341],[\"Ruler(cm, inch)\",2889],[\"Ruler cm\",661],[\"Centimeter Ruler\",16],[\"CM S Pen Add-on(ROOT)\",373],[\"Inches to Centimeters\",949],[\"CN Summer Challenge\",985],[\"Rockstars of Ooo\",642],[\"Angelo Rules - Crazy day\",108336],[\"Formula Cartoon All Stars\",1213],[\"Co Checker\",12],[\"Supermarket Cashier Kids Games\",32416],[\"Chinese Chess 3D Online (Xiangqi, \\u8c61\\u68cb, co tuong)\",23],[\"CP Creepypasta\",128],[\"Hercules CP Mobile\",20],[\"Evolution CP\",13],[\"Evolve CP Calc. for PokemonGo\",116],[\"Palavras la cq\",783],[\"Snowboard Racing Free Fun Game\",4552],[\"Chest Calculator for CR\",14754],[\"Stats CR Clan for Clash Royale\",16],[\"Deck Simulator for CR\",202],[\"CR Best Decks\",34],[\"CR Family\",10],[\"JavaScript Editor CR\",114],[\"Deck Builder & Analyzer for CR\",52],[\"Java Editor CR\",434],[\"XML Editor CR\",47],[\"CS-Touch\",337],[\"\\u0410im Training for CS\",2328],[\"Sniper Traning for CS GO\",655],[\"CS Guns Shoot\",433],[\"Mobile CS:GO\",1015],[\"Shooter Sniper CS - FPS Games\",14823],[\"What's Your CS:GO rank?\",278],[\"My Nexus for CS:S & CS:GO\",783],[\"Smokes for CS:GO\",3253],[\"CT Lottery\",271],[\"Remote CT - Smart Remote\",3988],[\"CT-REMOTE\",19],[\"CT-Stream Player\",84],[\"Planet of Cubes Survival Craft\",475944],[\"Free CV Creator\",37],[\"Job CV Maker-Portfolio Maker , Resume Maker\",139],[\"The CW TV app\",24],[\"The CW TN app 2018\",54],[\"AMC\",20843],[\"ABC \\u2013 Live TV & Full Episodes\",50428],[\"CX-WiFi720P\",47],[\"CX-60\",19],[\"CX-10DS\",12],[\"CX-37\",13],[\"TI-Nspire CX Calculator Manual\",11],[\"CX Ram Booster\",12],[\"CXmodel-ufo\",19],[\"Secret Codes For Android\",6060],[\"CZ File Manager\",876],[\"Skylink Live TV CZ\",2802],[\"CZ-Cyberon Voice Commander\",131],[\"Ghost Detector\",35337],[\"Preferences Manager and SQLite DB Viewer\",13],[\"Quiz DC\",33],[\"WDAMAGE: Car Crash Engine\",47386],[\"Escape the Prison Room\",113183],[\"Scratch Logo Quiz. Challenging brain puzzle\",152102],[\"DJ Electro Mix Pad\",53301],[\"Car Crash III Beam DH Real Damage Simulator 2018\",151],[\"DEER HUNTER CHALLENGE\",38767],[\"Resources For Virtual DJ\",21095],[\"DK 15 Minute Language Course\",21],[\"Super DK vs Kong Brother Advanced Free Classic\",66],[\"Visuelles W\\u00f6rterbuch Audio-App\",192],[\"DM security - Dragon Mobile\",27],[\"Do Not Crash\",56664],[\"CHRONO TRIGGER (Upgrade Ver.)\",11250],[\"Jungle book-The Great Escape\",2362],[\"dr.fone - Recovery & Transfer wirelessly & Backup\",23347],[\"Dr. Unblock\",3847],[\"DR CONTROL\",267],[\"DS cloud\",4908],[\"DS Tower Defence\",768],[\"NDS-controller\",35],[\"RetroArch\",21423],[\"Truck Simulator DT 3D\",110],[\"DT Baby Cam\",10],[\"Dirt Trackin Sprint Cars\",499],[\"SDV Cam\",67],[\"iCam - Webcam Video Streaming\",770],[\"SportCAM\",427],[\"DW Missed call cleaner patch\",65],[\"Across Age DX\",5964],[\"Hidden Camera Detector\",167],[\"SCRABBLE\",172281],[\"Mass Effect: Andromeda APEX HQ\",4490],[\"Mirror\\u2019s Edge\\u2122 Companion\",1995],[\"Plants vs. Zombies\\u2122 Watch Face\",33178],[\"Tamilnadu Electricity Info\",216],[\"Punjab Online - Land Records \\u2022 EB Bill Pay \\u2022 RC\\u002fDL\",16],[\"energyly (TNEB,BESCOM,MH,DL..)\",627],[\"Electrician Calculator Pro\",47],[\"My EF Center\",89],[\"EF Classroom\",190],[\"EF Teacher\",16],[\"EF\\u002fVR \\u2013 VR Tours of EF Schools\",17],[\"MLP Colouring Adventures\",7379],[\"Driving School 3D 2017\",5075],[\"Masterchef Cooking Games: Fun Restaurant & Kitchen\",1036],[\"Camping RV Caravan Parking 3D\",5290],[\"Lie Detector Prank\",80313],[\"Virtual Mother Surgery Doctor : Emergency Hospital\",70],[\"Ei Electronics AudioLINK\",59],[\"Code on the egg\",146],[\"Egg: clicker\",40678],[\"Crack the blue angry birds egg\",85],[\"Tamago Tap Clicker Egg\",209],[\"Extreme Super Car Driving 3D\",23104],[\"Fast Racing Car Simulator\",8482],[\"Beach Head Shooting Assault\",555],[\"Luxury Car Simulator\",35989],[\"Office Bike Racing Simulator\",21149],[\"Lily & Leo - Crazy Circus Day\",8091],[\"Fake Call From Wengie Prank\",352],[\"Ghost Hunting camera\",3048],[\"Learn to code with el Chavo\",5933],[\"Stick 'Em Up 2 Starter Edition\",2102],[\"Texas Hold\\u2019em Poker + | Social\",4416],[\"Decay: The Mare - Ep.1 (Trial)\",5291],[\"EP Chain Reaction\",249],[\"Sonic 4\\u2122 Episode I\",8014],[\"Dentist Surgery ER Emergency Doctor Hospital Games\",2580],[\"Eye Transplant : ER Emergency Hospital\",1938],[\"Lifeguard Beach Rescue ER Emergency Hospital Games\",519],[\"Hospital ER Emergency Heart Surgery: Doctor Games\",1652],[\"Doctor X - ER On Wheels\",12781],[\"Foot Surgery Hospital Simulator: ER Doctor Games\",314],[\"Plastic Surgery Surgeon Simulator Er Doctor Games\",3482],[\"Shoulder Surgery ER Emergency Doctor Game\",55],[\"Mom Doctor ER Emergency Family Game\",173],[\"ER Emergency Hospital - Brain, Knee, Eye Surgery\",25],[\"Spinal Cord Surgery Doctor: Operation ER surgery\",52],[\"Virtual Brain Surgery Simulator : Kid ER Emergency\",20],[\"Kids Doctor ER Emergency Rescue Kids Hospital Game\",515],[\"Heart Surgery Doctor - ER Emergency Game\",2510],[\"ER Doctor Kids Emergency Room\",4798],[\"Blood Injection : ER Emergency Doctor ER injection\",246],[\"ER Doctor City Emergency - Surgery City Doc FREE\",1909],[\"Ankle Surgery ER Emergency\",10449],[\"ES File Explorer & Manager, Locker Xplorer 2018\",11],[\"Lire avec Sami et Julie\",569],[\"Google Arts & Culture\",24137],[\"German Vocabulary Trainer\",1218],[\"Doll House Design & Decoration 2: Girls House Game\",2338],[\"Pregnant Emergency Surgery\",127229],[\"Advanced EX for HYUNDAI\",168],[\"Advanced EX for MITSUBISHI\",33],[\"Advanced EX for KIA\",257],[\"Advanced EX for NISSAN\",164],[\"Advanced EX for FIAT\",138],[\"Advanced EX for RENAULT\",130],[\"My Ex Girlfriend Comes Back\",3258],[\"CNY Slots : Gong Xi Fa Cai \\u53d1\\u8d22\\u673a\",33],[\"Il Coccodrillo Come Fa\",17],[\"Police Car Driver\",83671],[\"Ambulance Simulator 3D\",29415],[\"Disney Princess Palace Pets\",60097],[\"Police VAZ LADA Simulator\",3502],[\"Scary Video Maker\",9296],[\"My Truck\",247],[\"Dolphin and fish coloring book\",2249],[\"Micro Fi\",39],[\"Motocross Mayhem\",35171],[\"Motocross Fun Simulator\",22570],[\"Block Gun 3D: Haunted Hollow\",16282],[\"Driving Suv Toyota Car Simulator\",187],[\"PRO MX MOTOCROSS 2\",25275],[\"Check Lottery Tickets - Florida\",27],[\"Hidden Object Florida Vacation Adventure Fun Game\",126],[\"Florida Tech Mobile\",87],[\"Florida HSMV Driver License\",14],[\"FeaturePoints: Free Gift Cards\",121321],[\"Race Manager FP\",196],[\"FP BW LCD View\",16],[\"Fisher-Price\\u00ae Smart Connect\\u2122\",422],[\"FreedomPop Diagnostics\",452],[\"BEBONCOOL GAMEPAD V1.0\",404],[\"Trine 2: Complete Story\",252]],\"hovertemplate\":\"Category=%{x}\\u003cbr\\u003eRating=%{y}\\u003cbr\\u003eApp=%{customdata[0]}\\u003cbr\\u003eReviews=%{customdata[1]}\\u003cextra\\u003e\\u003c\\u002fextra\\u003e\",\"legendgroup\":\"\",\"marker\":{\"color\":\"#636efa\"},\"name\":\"\",\"offsetgroup\":\"\",\"orientation\":\"v\",\"points\":\"all\",\"scalegroup\":\"True\",\"showlegend\":false,\"x\":[\"GAME\",\"GAME\",\"FAMILY\",\"FAMILY\",\"FAMILY\",\"FAMILY\",\"FAMILY\",\"FAMILY\",\"FAMILY\",\"TOOLS\",\"TOOLS\",\"TOOLS\",\"TOOLS\",\"TOOLS\",\"TOOLS\",\"TOOLS\",\"TOOLS\",\"TOOLS\",\"FAMILY\",\"FAMILY\",\"GAME\",\"GAME\",\"FAMILY\",\"TOOLS\",\"GAME\",\"FAMILY\",\"TOOLS\",\"FAMILY\",\"FAMILY\",\"TOOLS\",\"FAMILY\",\"FAMILY\",\"GAME\",\"GAME\",\"TOOLS\",\"FAMILY\",\"TOOLS\",\"FAMILY\",\"TOOLS\",\"FAMILY\",\"GAME\",\"GAME\",\"GAME\",\"FAMILY\",\"FAMILY\",\"GAME\",\"FAMILY\",\"FAMILY\",\"TOOLS\",\"TOOLS\",\"TOOLS\",\"TOOLS\",\"FAMILY\",\"FAMILY\",\"TOOLS\",\"TOOLS\",\"TOOLS\",\"FAMILY\",\"FAMILY\",\"GAME\",\"FAMILY\",\"GAME\",\"FAMILY\",\"FAMILY\",\"FAMILY\",\"FAMILY\",\"TOOLS\",\"TOOLS\",\"GAME\",\"TOOLS\",\"TOOLS\",\"FAMILY\",\"FAMILY\",\"TOOLS\",\"TOOLS\",\"TOOLS\",\"TOOLS\",\"TOOLS\",\"TOOLS\",\"TOOLS\",\"TOOLS\",\"TOOLS\",\"TOOLS\",\"TOOLS\",\"TOOLS\",\"TOOLS\",\"FAMILY\",\"TOOLS\",\"FAMILY\",\"TOOLS\",\"TOOLS\",\"TOOLS\",\"TOOLS\",\"TOOLS\",\"TOOLS\",\"TOOLS\",\"TOOLS\",\"TOOLS\",\"TOOLS\",\"TOOLS\",\"FAMILY\",\"GAME\",\"GAME\",\"TOOLS\",\"GAME\",\"TOOLS\",\"FAMILY\",\"GAME\",\"GAME\",\"FAMILY\",\"FAMILY\",\"FAMILY\",\"TOOLS\",\"FAMILY\",\"FAMILY\",\"FAMILY\",\"FAMILY\",\"FAMILY\",\"GAME\",\"FAMILY\",\"FAMILY\",\"FAMILY\",\"FAMILY\",\"FAMILY\",\"FAMILY\",\"FAMILY\",\"FAMILY\",\"FAMILY\",\"FAMILY\",\"FAMILY\",\"FAMILY\",\"TOOLS\",\"GAME\",\"GAME\",\"FAMILY\",\"FAMILY\",\"FAMILY\",\"FAMILY\",\"GAME\",\"FAMILY\",\"FAMILY\",\"FAMILY\",\"FAMILY\",\"FAMILY\",\"FAMILY\",\"GAME\",\"GAME\",\"GAME\",\"TOOLS\",\"FAMILY\",\"TOOLS\",\"FAMILY\",\"TOOLS\",\"GAME\",\"FAMILY\",\"GAME\",\"TOOLS\",\"FAMILY\",\"TOOLS\",\"GAME\",\"FAMILY\",\"FAMILY\",\"TOOLS\",\"FAMILY\",\"FAMILY\",\"FAMILY\",\"TOOLS\",\"TOOLS\",\"TOOLS\",\"FAMILY\",\"GAME\",\"TOOLS\",\"FAMILY\",\"FAMILY\",\"TOOLS\",\"FAMILY\",\"TOOLS\",\"TOOLS\",\"GAME\",\"GAME\",\"FAMILY\",\"GAME\",\"FAMILY\",\"TOOLS\",\"FAMILY\",\"GAME\",\"FAMILY\",\"GAME\",\"FAMILY\",\"TOOLS\",\"TOOLS\",\"TOOLS\",\"TOOLS\",\"TOOLS\",\"TOOLS\",\"TOOLS\",\"TOOLS\",\"GAME\",\"TOOLS\",\"TOOLS\",\"FAMILY\",\"FAMILY\",\"FAMILY\",\"FAMILY\",\"FAMILY\",\"TOOLS\",\"TOOLS\",\"TOOLS\",\"TOOLS\",\"TOOLS\",\"TOOLS\",\"TOOLS\",\"FAMILY\",\"GAME\",\"FAMILY\",\"FAMILY\",\"FAMILY\",\"FAMILY\",\"FAMILY\",\"FAMILY\",\"GAME\",\"FAMILY\",\"GAME\",\"FAMILY\",\"TOOLS\",\"TOOLS\",\"TOOLS\",\"TOOLS\",\"TOOLS\",\"TOOLS\",\"FAMILY\",\"FAMILY\",\"GAME\",\"FAMILY\",\"TOOLS\",\"FAMILY\",\"GAME\",\"FAMILY\",\"TOOLS\",\"FAMILY\",\"TOOLS\",\"GAME\",\"GAME\",\"FAMILY\",\"FAMILY\",\"TOOLS\",\"FAMILY\",\"FAMILY\",\"TOOLS\",\"FAMILY\",\"TOOLS\",\"TOOLS\",\"FAMILY\",\"GAME\",\"GAME\",\"FAMILY\",\"GAME\",\"GAME\",\"GAME\",\"FAMILY\",\"FAMILY\",\"FAMILY\",\"TOOLS\",\"GAME\",\"FAMILY\",\"FAMILY\",\"TOOLS\",\"FAMILY\",\"FAMILY\",\"FAMILY\",\"FAMILY\",\"FAMILY\",\"FAMILY\",\"FAMILY\",\"FAMILY\",\"FAMILY\",\"FAMILY\",\"TOOLS\",\"FAMILY\",\"TOOLS\",\"TOOLS\",\"FAMILY\",\"TOOLS\",\"FAMILY\",\"TOOLS\",\"GAME\",\"GAME\",\"FAMILY\",\"GAME\",\"FAMILY\",\"GAME\",\"GAME\",\"FAMILY\",\"FAMILY\",\"GAME\",\"FAMILY\",\"TOOLS\",\"FAMILY\",\"FAMILY\",\"GAME\",\"TOOLS\",\"FAMILY\",\"FAMILY\",\"TOOLS\",\"GAME\",\"TOOLS\",\"GAME\",\"FAMILY\",\"TOOLS\",\"GAME\",\"TOOLS\",\"TOOLS\",\"TOOLS\",\"TOOLS\",\"FAMILY\",\"TOOLS\",\"GAME\",\"GAME\",\"GAME\",\"FAMILY\",\"TOOLS\",\"TOOLS\",\"TOOLS\",\"TOOLS\",\"FAMILY\",\"FAMILY\",\"FAMILY\",\"FAMILY\",\"FAMILY\",\"FAMILY\",\"FAMILY\",\"GAME\",\"FAMILY\",\"FAMILY\",\"TOOLS\",\"TOOLS\",\"FAMILY\",\"FAMILY\",\"FAMILY\",\"GAME\",\"GAME\",\"GAME\",\"FAMILY\",\"FAMILY\",\"FAMILY\",\"FAMILY\",\"GAME\",\"FAMILY\",\"GAME\",\"GAME\",\"GAME\",\"FAMILY\",\"GAME\",\"FAMILY\",\"FAMILY\",\"FAMILY\",\"FAMILY\",\"FAMILY\",\"FAMILY\",\"FAMILY\",\"FAMILY\",\"FAMILY\",\"FAMILY\",\"FAMILY\",\"FAMILY\",\"FAMILY\",\"FAMILY\",\"FAMILY\",\"FAMILY\",\"FAMILY\",\"FAMILY\",\"TOOLS\",\"FAMILY\",\"FAMILY\",\"FAMILY\",\"FAMILY\",\"FAMILY\",\"TOOLS\",\"TOOLS\",\"TOOLS\",\"TOOLS\",\"TOOLS\",\"TOOLS\",\"FAMILY\",\"GAME\",\"FAMILY\",\"GAME\",\"FAMILY\",\"FAMILY\",\"FAMILY\",\"FAMILY\",\"TOOLS\",\"FAMILY\",\"FAMILY\",\"GAME\",\"FAMILY\",\"GAME\",\"FAMILY\",\"GAME\",\"FAMILY\",\"FAMILY\",\"FAMILY\",\"FAMILY\",\"FAMILY\",\"GAME\",\"FAMILY\",\"TOOLS\",\"TOOLS\",\"GAME\",\"GAME\"],\"x0\":\" \",\"xaxis\":\"x\",\"y\":[3.8,3.1,3.9,3.8,3.9,3.9,3.8,3.9,3.9,3.1,3.1,3.9,3.4,3.6,3.1,3.8,3.9,3.5,3.9,3.3,3.7,3.4,3.9,3.8,3.1,3.6,2.0,3.7,3.3,3.7,3.9,3.6,3.6,3.8,3.8,3.9,3.9,3.3,3.7,3.1,3.9,3.7,3.5,3.7,3.8,3.7,3.5,3.8,3.7,3.9,3.1,3.8,3.2,3.0,3.6,3.8,3.4,2.4,3.6,3.5,3.9,3.9,3.3,3.2,3.3,2.7,3.8,3.3,3.7,3.3,3.4,1.8,1.6,3.6,3.4,3.2,2.5,2.6,2.8,3.9,3.9,3.5,3.1,3.7,3.6,3.7,3.3,3.0,3.0,2.2,3.7,3.7,3.7,3.6,3.7,3.7,3.8,3.3,3.4,3.5,3.7,3.7,3.9,3.3,3.4,2.9,3.9,3.8,3.4,3.0,3.9,3.8,3.6,3.3,3.2,3.3,3.9,2.8,3.9,3.6,3.6,3.9,3.6,3.8,3.7,3.4,3.7,3.3,3.7,2.9,3.7,3.8,3.8,3.8,3.7,3.2,3.8,3.4,3.8,3.0,3.6,3.6,2.4,3.5,3.9,3.8,3.8,3.9,3.7,3.5,3.4,3.5,3.3,3.8,2.9,3.8,3.6,3.5,2.1,3.5,3.8,3.0,3.3,3.3,3.9,3.3,3.3,3.7,3.7,3.8,3.4,3.9,3.9,2.6,3.5,2.4,2.7,3.3,3.7,3.9,3.9,3.7,3.6,3.6,3.2,3.8,3.8,3.9,3.2,3.7,3.9,3.9,3.9,2.8,3.9,3.6,3.8,3.3,3.8,3.9,3.8,3.5,3.0,2.7,3.1,3.3,3.8,3.1,3.5,3.9,3.0,3.2,3.7,3.6,3.6,3.8,3.5,3.0,2.9,1.9,3.9,3.8,3.7,3.8,3.8,3.4,3.6,3.3,3.6,3.6,3.7,3.4,3.9,3.9,1.9,3.6,3.5,3.8,1.4,3.6,3.9,3.9,3.8,3.9,3.8,3.4,3.5,2.3,3.9,3.1,3.8,3.3,3.9,3.6,3.2,3.7,3.1,3.5,2.3,3.6,3.9,3.8,3.5,3.3,3.9,3.9,3.9,3.9,3.2,2.2,3.2,3.3,3.1,3.1,3.4,3.9,3.9,3.9,3.8,3.6,2.2,3.3,3.8,3.5,3.5,1.4,3.8,3.5,3.3,3.9,3.6,3.7,3.6,2.8,3.8,3.1,3.9,3.7,3.8,3.9,3.7,3.9,3.4,3.2,3.2,3.3,3.8,3.8,1.7,3.8,3.2,3.7,3.2,3.9,3.8,3.9,3.9,3.4,3.4,3.5,3.6,3.4,3.9,3.9,2.8,3.2,3.1,3.6,3.8,3.9,3.9,3.3,3.9,3.9,3.4,3.9,3.7,3.2,3.6,3.9,3.8,3.8,3.9,3.8,3.6,3.5,3.5,3.9,3.8,3.5,3.6,3.9,3.7,3.5,3.9,3.9,3.8,3.6,3.9,3.7,3.9,3.5,3.8,3.7,3.8,3.8,3.9,3.1,3.5,3.9,3.3,3.5,3.6,3.7,3.3,3.9,3.8,2.7,2.9,3.3,2.9,3.5,2.8,3.7,3.6,3.4,3.8,3.9,3.9,3.6,3.7,2.5,3.9,3.7,3.8,3.8,3.8,3.7,3.8,2.0,3.7,3.8,3.9,3.9,3.8,3.4,2.7,2.9,3.9,3.8],\"y0\":\" \",\"yaxis\":\"y\",\"type\":\"violin\"}],                        {\"template\":{\"data\":{\"barpolar\":[{\"marker\":{\"line\":{\"color\":\"rgb(17,17,17)\",\"width\":0.5},\"pattern\":{\"fillmode\":\"overlay\",\"size\":10,\"solidity\":0.2}},\"type\":\"barpolar\"}],\"bar\":[{\"error_x\":{\"color\":\"#f2f5fa\"},\"error_y\":{\"color\":\"#f2f5fa\"},\"marker\":{\"line\":{\"color\":\"rgb(17,17,17)\",\"width\":0.5},\"pattern\":{\"fillmode\":\"overlay\",\"size\":10,\"solidity\":0.2}},\"type\":\"bar\"}],\"carpet\":[{\"aaxis\":{\"endlinecolor\":\"#A2B1C6\",\"gridcolor\":\"#506784\",\"linecolor\":\"#506784\",\"minorgridcolor\":\"#506784\",\"startlinecolor\":\"#A2B1C6\"},\"baxis\":{\"endlinecolor\":\"#A2B1C6\",\"gridcolor\":\"#506784\",\"linecolor\":\"#506784\",\"minorgridcolor\":\"#506784\",\"startlinecolor\":\"#A2B1C6\"},\"type\":\"carpet\"}],\"choropleth\":[{\"colorbar\":{\"outlinewidth\":0,\"ticks\":\"\"},\"type\":\"choropleth\"}],\"contourcarpet\":[{\"colorbar\":{\"outlinewidth\":0,\"ticks\":\"\"},\"type\":\"contourcarpet\"}],\"contour\":[{\"colorbar\":{\"outlinewidth\":0,\"ticks\":\"\"},\"colorscale\":[[0.0,\"#0d0887\"],[0.1111111111111111,\"#46039f\"],[0.2222222222222222,\"#7201a8\"],[0.3333333333333333,\"#9c179e\"],[0.4444444444444444,\"#bd3786\"],[0.5555555555555556,\"#d8576b\"],[0.6666666666666666,\"#ed7953\"],[0.7777777777777778,\"#fb9f3a\"],[0.8888888888888888,\"#fdca26\"],[1.0,\"#f0f921\"]],\"type\":\"contour\"}],\"heatmapgl\":[{\"colorbar\":{\"outlinewidth\":0,\"ticks\":\"\"},\"colorscale\":[[0.0,\"#0d0887\"],[0.1111111111111111,\"#46039f\"],[0.2222222222222222,\"#7201a8\"],[0.3333333333333333,\"#9c179e\"],[0.4444444444444444,\"#bd3786\"],[0.5555555555555556,\"#d8576b\"],[0.6666666666666666,\"#ed7953\"],[0.7777777777777778,\"#fb9f3a\"],[0.8888888888888888,\"#fdca26\"],[1.0,\"#f0f921\"]],\"type\":\"heatmapgl\"}],\"heatmap\":[{\"colorbar\":{\"outlinewidth\":0,\"ticks\":\"\"},\"colorscale\":[[0.0,\"#0d0887\"],[0.1111111111111111,\"#46039f\"],[0.2222222222222222,\"#7201a8\"],[0.3333333333333333,\"#9c179e\"],[0.4444444444444444,\"#bd3786\"],[0.5555555555555556,\"#d8576b\"],[0.6666666666666666,\"#ed7953\"],[0.7777777777777778,\"#fb9f3a\"],[0.8888888888888888,\"#fdca26\"],[1.0,\"#f0f921\"]],\"type\":\"heatmap\"}],\"histogram2dcontour\":[{\"colorbar\":{\"outlinewidth\":0,\"ticks\":\"\"},\"colorscale\":[[0.0,\"#0d0887\"],[0.1111111111111111,\"#46039f\"],[0.2222222222222222,\"#7201a8\"],[0.3333333333333333,\"#9c179e\"],[0.4444444444444444,\"#bd3786\"],[0.5555555555555556,\"#d8576b\"],[0.6666666666666666,\"#ed7953\"],[0.7777777777777778,\"#fb9f3a\"],[0.8888888888888888,\"#fdca26\"],[1.0,\"#f0f921\"]],\"type\":\"histogram2dcontour\"}],\"histogram2d\":[{\"colorbar\":{\"outlinewidth\":0,\"ticks\":\"\"},\"colorscale\":[[0.0,\"#0d0887\"],[0.1111111111111111,\"#46039f\"],[0.2222222222222222,\"#7201a8\"],[0.3333333333333333,\"#9c179e\"],[0.4444444444444444,\"#bd3786\"],[0.5555555555555556,\"#d8576b\"],[0.6666666666666666,\"#ed7953\"],[0.7777777777777778,\"#fb9f3a\"],[0.8888888888888888,\"#fdca26\"],[1.0,\"#f0f921\"]],\"type\":\"histogram2d\"}],\"histogram\":[{\"marker\":{\"pattern\":{\"fillmode\":\"overlay\",\"size\":10,\"solidity\":0.2}},\"type\":\"histogram\"}],\"mesh3d\":[{\"colorbar\":{\"outlinewidth\":0,\"ticks\":\"\"},\"type\":\"mesh3d\"}],\"parcoords\":[{\"line\":{\"colorbar\":{\"outlinewidth\":0,\"ticks\":\"\"}},\"type\":\"parcoords\"}],\"pie\":[{\"automargin\":true,\"type\":\"pie\"}],\"scatter3d\":[{\"line\":{\"colorbar\":{\"outlinewidth\":0,\"ticks\":\"\"}},\"marker\":{\"colorbar\":{\"outlinewidth\":0,\"ticks\":\"\"}},\"type\":\"scatter3d\"}],\"scattercarpet\":[{\"marker\":{\"colorbar\":{\"outlinewidth\":0,\"ticks\":\"\"}},\"type\":\"scattercarpet\"}],\"scattergeo\":[{\"marker\":{\"colorbar\":{\"outlinewidth\":0,\"ticks\":\"\"}},\"type\":\"scattergeo\"}],\"scattergl\":[{\"marker\":{\"line\":{\"color\":\"#283442\"}},\"type\":\"scattergl\"}],\"scattermapbox\":[{\"marker\":{\"colorbar\":{\"outlinewidth\":0,\"ticks\":\"\"}},\"type\":\"scattermapbox\"}],\"scatterpolargl\":[{\"marker\":{\"colorbar\":{\"outlinewidth\":0,\"ticks\":\"\"}},\"type\":\"scatterpolargl\"}],\"scatterpolar\":[{\"marker\":{\"colorbar\":{\"outlinewidth\":0,\"ticks\":\"\"}},\"type\":\"scatterpolar\"}],\"scatter\":[{\"marker\":{\"line\":{\"color\":\"#283442\"}},\"type\":\"scatter\"}],\"scatterternary\":[{\"marker\":{\"colorbar\":{\"outlinewidth\":0,\"ticks\":\"\"}},\"type\":\"scatterternary\"}],\"surface\":[{\"colorbar\":{\"outlinewidth\":0,\"ticks\":\"\"},\"colorscale\":[[0.0,\"#0d0887\"],[0.1111111111111111,\"#46039f\"],[0.2222222222222222,\"#7201a8\"],[0.3333333333333333,\"#9c179e\"],[0.4444444444444444,\"#bd3786\"],[0.5555555555555556,\"#d8576b\"],[0.6666666666666666,\"#ed7953\"],[0.7777777777777778,\"#fb9f3a\"],[0.8888888888888888,\"#fdca26\"],[1.0,\"#f0f921\"]],\"type\":\"surface\"}],\"table\":[{\"cells\":{\"fill\":{\"color\":\"#506784\"},\"line\":{\"color\":\"rgb(17,17,17)\"}},\"header\":{\"fill\":{\"color\":\"#2a3f5f\"},\"line\":{\"color\":\"rgb(17,17,17)\"}},\"type\":\"table\"}]},\"layout\":{\"annotationdefaults\":{\"arrowcolor\":\"#f2f5fa\",\"arrowhead\":0,\"arrowwidth\":1},\"autotypenumbers\":\"strict\",\"coloraxis\":{\"colorbar\":{\"outlinewidth\":0,\"ticks\":\"\"}},\"colorscale\":{\"diverging\":[[0,\"#8e0152\"],[0.1,\"#c51b7d\"],[0.2,\"#de77ae\"],[0.3,\"#f1b6da\"],[0.4,\"#fde0ef\"],[0.5,\"#f7f7f7\"],[0.6,\"#e6f5d0\"],[0.7,\"#b8e186\"],[0.8,\"#7fbc41\"],[0.9,\"#4d9221\"],[1,\"#276419\"]],\"sequential\":[[0.0,\"#0d0887\"],[0.1111111111111111,\"#46039f\"],[0.2222222222222222,\"#7201a8\"],[0.3333333333333333,\"#9c179e\"],[0.4444444444444444,\"#bd3786\"],[0.5555555555555556,\"#d8576b\"],[0.6666666666666666,\"#ed7953\"],[0.7777777777777778,\"#fb9f3a\"],[0.8888888888888888,\"#fdca26\"],[1.0,\"#f0f921\"]],\"sequentialminus\":[[0.0,\"#0d0887\"],[0.1111111111111111,\"#46039f\"],[0.2222222222222222,\"#7201a8\"],[0.3333333333333333,\"#9c179e\"],[0.4444444444444444,\"#bd3786\"],[0.5555555555555556,\"#d8576b\"],[0.6666666666666666,\"#ed7953\"],[0.7777777777777778,\"#fb9f3a\"],[0.8888888888888888,\"#fdca26\"],[1.0,\"#f0f921\"]]},\"colorway\":[\"#636efa\",\"#EF553B\",\"#00cc96\",\"#ab63fa\",\"#FFA15A\",\"#19d3f3\",\"#FF6692\",\"#B6E880\",\"#FF97FF\",\"#FECB52\"],\"font\":{\"color\":\"#f2f5fa\"},\"geo\":{\"bgcolor\":\"rgb(17,17,17)\",\"lakecolor\":\"rgb(17,17,17)\",\"landcolor\":\"rgb(17,17,17)\",\"showlakes\":true,\"showland\":true,\"subunitcolor\":\"#506784\"},\"hoverlabel\":{\"align\":\"left\"},\"hovermode\":\"closest\",\"mapbox\":{\"style\":\"dark\"},\"paper_bgcolor\":\"rgb(17,17,17)\",\"plot_bgcolor\":\"rgb(17,17,17)\",\"polar\":{\"angularaxis\":{\"gridcolor\":\"#506784\",\"linecolor\":\"#506784\",\"ticks\":\"\"},\"bgcolor\":\"rgb(17,17,17)\",\"radialaxis\":{\"gridcolor\":\"#506784\",\"linecolor\":\"#506784\",\"ticks\":\"\"}},\"scene\":{\"xaxis\":{\"backgroundcolor\":\"rgb(17,17,17)\",\"gridcolor\":\"#506784\",\"gridwidth\":2,\"linecolor\":\"#506784\",\"showbackground\":true,\"ticks\":\"\",\"zerolinecolor\":\"#C8D4E3\"},\"yaxis\":{\"backgroundcolor\":\"rgb(17,17,17)\",\"gridcolor\":\"#506784\",\"gridwidth\":2,\"linecolor\":\"#506784\",\"showbackground\":true,\"ticks\":\"\",\"zerolinecolor\":\"#C8D4E3\"},\"zaxis\":{\"backgroundcolor\":\"rgb(17,17,17)\",\"gridcolor\":\"#506784\",\"gridwidth\":2,\"linecolor\":\"#506784\",\"showbackground\":true,\"ticks\":\"\",\"zerolinecolor\":\"#C8D4E3\"}},\"shapedefaults\":{\"line\":{\"color\":\"#f2f5fa\"}},\"sliderdefaults\":{\"bgcolor\":\"#C8D4E3\",\"bordercolor\":\"rgb(17,17,17)\",\"borderwidth\":1,\"tickwidth\":0},\"ternary\":{\"aaxis\":{\"gridcolor\":\"#506784\",\"linecolor\":\"#506784\",\"ticks\":\"\"},\"baxis\":{\"gridcolor\":\"#506784\",\"linecolor\":\"#506784\",\"ticks\":\"\"},\"bgcolor\":\"rgb(17,17,17)\",\"caxis\":{\"gridcolor\":\"#506784\",\"linecolor\":\"#506784\",\"ticks\":\"\"}},\"title\":{\"x\":0.05},\"updatemenudefaults\":{\"bgcolor\":\"#506784\",\"borderwidth\":0},\"xaxis\":{\"automargin\":true,\"gridcolor\":\"#283442\",\"linecolor\":\"#506784\",\"ticks\":\"\",\"title\":{\"standoff\":15},\"zerolinecolor\":\"#283442\",\"zerolinewidth\":2},\"yaxis\":{\"automargin\":true,\"gridcolor\":\"#283442\",\"linecolor\":\"#506784\",\"ticks\":\"\",\"title\":{\"standoff\":15},\"zerolinecolor\":\"#283442\",\"zerolinewidth\":2}}},\"xaxis\":{\"anchor\":\"y\",\"domain\":[0.0,1.0],\"title\":{\"text\":\"App Category\"}},\"yaxis\":{\"anchor\":\"x\",\"domain\":[0.0,1.0],\"title\":{\"text\":\"Rating\"}},\"legend\":{\"tracegroupgap\":0},\"margin\":{\"t\":60},\"violinmode\":\"group\",\"title\":{\"text\":\"Distribution of App Ratings by Category (Filtered)\"}},                        {\"responsive\": true}                    ).then(function(){\n",
       "                            \n",
       "var gd = document.getElementById('5e98f171-a96a-4b34-a758-6b0c9f73407d');\n",
       "var x = new MutationObserver(function (mutations, observer) {{\n",
       "        var display = window.getComputedStyle(gd).display;\n",
       "        if (!display || display === 'none') {{\n",
       "            console.log([gd, 'removed!']);\n",
       "            Plotly.purge(gd);\n",
       "            observer.disconnect();\n",
       "        }}\n",
       "}});\n",
       "\n",
       "// Listen for the removal of the full notebook cells\n",
       "var notebookContainer = gd.closest('#notebook-container');\n",
       "if (notebookContainer) {{\n",
       "    x.observe(notebookContainer, {childList: true});\n",
       "}}\n",
       "\n",
       "// Listen for the clearing of the current output cell\n",
       "var outputEl = gd.closest('.output');\n",
       "if (outputEl) {{\n",
       "    x.observe(outputEl, {childList: true});\n",
       "}}\n",
       "\n",
       "                        })                };                });            </script>        </div>"
      ]
     },
     "metadata": {},
     "output_type": "display_data"
    }
   ],
   "source": [
    "# Plot condition: only run outside 6 PM to 11 PM\n",
    "if current_time.hour < 18 or current_time.hour >= 23:\n",
    "    # Violin Plot Creation\n",
    "    fig = px.violin(apps_df, \n",
    "                    x='Category', \n",
    "                    y='Rating', \n",
    "                    box=True, \n",
    "                    points=\"all\", \n",
    "                    hover_data=['App', 'Reviews'])\n",
    "    \n",
    "    fig.update_layout(title='Distribution of App Ratings by Category (Filtered)',\n",
    "                      xaxis_title='App Category',\n",
    "                      yaxis_title='Rating',\n",
    "                      template='plotly_dark')\n",
    "    \n",
    "    # Displaying the plot\n",
    "    fig.show()\n",
    "     # Saving as an HTML dashboard\n",
    "    pio.write_html(fig, file='dashboard.html', auto_open=True)\n",
    "else:\n",
    "    print(\"The plot cannot be displayed between 6 PM and 11 PM.\")\n"
   ]
  },
  {
   "cell_type": "code",
   "execution_count": null,
   "id": "c9b5ff2a-3ec3-4c39-842e-3fb8a4673b68",
   "metadata": {},
   "outputs": [],
   "source": []
  }
 ],
 "metadata": {
  "kernelspec": {
   "display_name": "Python 3 (ipykernel)",
   "language": "python",
   "name": "python3"
  },
  "language_info": {
   "codemirror_mode": {
    "name": "ipython",
    "version": 3
   },
   "file_extension": ".py",
   "mimetype": "text/x-python",
   "name": "python",
   "nbconvert_exporter": "python",
   "pygments_lexer": "ipython3",
   "version": "3.12.5"
  }
 },
 "nbformat": 4,
 "nbformat_minor": 5
}
